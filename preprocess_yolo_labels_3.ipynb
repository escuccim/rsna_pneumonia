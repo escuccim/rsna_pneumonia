{
 "cells": [
  {
   "cell_type": "markdown",
   "metadata": {},
   "source": [
    "v2. This time output center point of ROI instead of upper left corner.\n",
    "v3. Center x, y, w and h values around mean"
   ]
  },
  {
   "cell_type": "code",
   "execution_count": 1,
   "metadata": {},
   "outputs": [],
   "source": [
    "import numpy as np\n",
    "import matplotlib.pyplot as plt\n",
    "import matplotlib.patches as patches\n",
    "import pandas as pd\n",
    "import csv\n",
    "import pickle\n",
    "import os\n",
    "%matplotlib inline"
   ]
  },
  {
   "cell_type": "code",
   "execution_count": 2,
   "metadata": {},
   "outputs": [],
   "source": [
    "GRID_SIZE = 4\n",
    "location_data = np.zeros((GRID_SIZE,GRID_SIZE,5))\n",
    "\n",
    "for i in range(4):\n",
    "    for j in range(4):\n",
    "        location_data[i,j,:] = [0, 390, 365, 225, 335]"
   ]
  },
  {
   "cell_type": "code",
   "execution_count": 6,
   "metadata": {},
   "outputs": [
    {
     "data": {
      "image/png": "[encoded data removed]",
      "text/plain": [
       "<Figure size 720x720 with 1 Axes>"
      ]
     },
     "metadata": {
      "needs_background": "light"
     },
     "output_type": "display_data"
    }
   ],
   "source": [
    "coords = np.arange(0, 1024, 256)\n",
    "\n",
    "fig,ax = plt.subplots(1, figsize=(10,10))\n",
    "\n",
    "rect_1 = patches.Rectangle((195,511),218,271,linewidth=1,edgecolor='r',facecolor='none')\n",
    "plt.plot(304, 646.5, marker=\"o\", color=\"r\")\n",
    "rect_2 = patches.Rectangle((612,214),109,89,linewidth=1,edgecolor='b',facecolor='none')\n",
    "plt.plot(666.5, 258.5, marker=\"o\", color=\"b\")\n",
    "rect_3 = patches.Rectangle((610,599),265,245,linewidth=1,edgecolor='g',facecolor='none')\n",
    "plt.plot(742.5, 721.5, marker=\"o\", color=\"g\")\n",
    "ax.add_patch(rect_1)\n",
    "ax.add_patch(rect_2)\n",
    "ax.add_patch(rect_3)\n",
    "plt.xticks(coords)\n",
    "plt.yticks(coords)\n",
    "for item in coords:\n",
    "    plt.axvline(item, linewidth=0.5)\n",
    "    plt.axhline(item, linewidth=0.5)\n",
    "plt.xlim(0,1024)\n",
    "plt.ylim(0,1024)\n",
    "plt.show()"
   ]
  },
  {
   "cell_type": "code",
   "execution_count": 4,
   "metadata": {},
   "outputs": [
    {
     "data": {
      "text/plain": [
       "[(4.0, 10.0), (10.0, 4.0), (11.0, 11.0)]"
      ]
     },
     "execution_count": 4,
     "metadata": {},
     "output_type": "execute_result"
    }
   ],
   "source": [
    "boxes = [\n",
    "    [195,511,218,271],\n",
    "    [612,214,109,89],\n",
    "    [610,599,265,245]\n",
    "]\n",
    "\n",
    "centers = []\n",
    "\n",
    "for box in boxes:\n",
    "    x,y,w,h = box\n",
    "    center_x = x + (w / 2)\n",
    "    center_y = y + (h / 2)\n",
    "    centers.append((center_x,center_y))\n",
    "\n",
    "pixel_locs = []    \n",
    "for center in centers:\n",
    "    x_pixel = center[0] // 64\n",
    "    y_pixel = center[1] // 64\n",
    "    \n",
    "    pixel_locs.append((x_pixel,y_pixel))\n",
    "    \n",
    "pixel_locs    "
   ]
  },
  {
   "cell_type": "code",
   "execution_count": 5,
   "metadata": {},
   "outputs": [
    {
     "name": "stdout",
     "output_type": "stream",
     "text": [
      "Train dir: ./stage_1_train_images\n"
     ]
    }
   ],
   "source": [
    "ROOT_DIR = \"./\"\n",
    "\n",
    "train_dicom_dir = os.path.join(ROOT_DIR, 'stage_1_train_images')\n",
    "test_dicom_dir = os.path.join(ROOT_DIR, 'stage_1_test_images')\n",
    "print(\"Train dir:\", train_dicom_dir)"
   ]
  },
  {
   "cell_type": "code",
   "execution_count": 7,
   "metadata": {},
   "outputs": [],
   "source": [
    "GRID_SIZE = 4\n",
    "CELL_WIDTH = 1024 // GRID_SIZE\n",
    "\n",
    "# means to center data\n",
    "mu_x = 391.456158\n",
    "mu_y = 363.1358768\n",
    "mu_w = 220.8453815\n",
    "mu_h = 334.1743641\n",
    "mu_center_x = 501.8788487\n",
    "mu_center_y = 530.2230589\n",
    "\n",
    "\n",
    "# empty dictionary\n",
    "pneumonia_locations = {}\n",
    "used_filenames = []\n",
    "pixel_means = []\n",
    "locations = []\n",
    "\n",
    "# load table\n",
    "with open(os.path.join('./stage_1_train_labels.csv'), mode='r') as infile:\n",
    "    # open reader\n",
    "    reader = csv.reader(infile)\n",
    "    # skip header\n",
    "    next(reader, None)\n",
    "    # loop through rows\n",
    "    for rows in reader:\n",
    "        # retrieve information\n",
    "        filename = rows[0]\n",
    "        location = rows[1:5]\n",
    "        pneumonia = rows[5]\n",
    "        \n",
    "        # initialize our data\n",
    "        if filename not in used_filenames:\n",
    "            location_data = np.zeros((GRID_SIZE,GRID_SIZE,5))\n",
    "            \n",
    "            # default label to mean values\n",
    "            for i in range(4):\n",
    "                for j in range(4):\n",
    "                    y = ((i + 0.5) * CELL_WIDTH) - mu_center_y\n",
    "                    x = ((j + 0.5) * CELL_WIDTH) - mu_center_x\n",
    "                    location_data[i,j,:] = [0, x, y, 0, 0]\n",
    "            \n",
    "            used_filenames.append(filename)\n",
    "            locs = np.zeros((GRID_SIZE, GRID_SIZE))\n",
    "        else:\n",
    "            location_data = pneumonia_locations[filename]\n",
    "            \n",
    "        # if row contains pneumonia add label to dictionary\n",
    "        # the dictionary will contain the presence, x, y, h, w of the pneumonia for each pixel in a 16x16 grid\n",
    "        if pneumonia == '1':\n",
    "            # extract the location and cast them to floats\n",
    "            x,y,w,h = location\n",
    "            x = float(x)\n",
    "            y = float(y)\n",
    "            w = float(w)\n",
    "            h = float(h)\n",
    "            \n",
    "            # figure out the center of the ROI\n",
    "            center_x = x + (w / 2)\n",
    "            center_y = y + (h / 2)\n",
    "            \n",
    "            # figure out which pixel is in the center\n",
    "            x_pixel = int(center_x // (1024 // GRID_SIZE))\n",
    "            y_pixel = int(center_y // (1024 // GRID_SIZE))\n",
    "            locs[y_pixel, x_pixel] = 1\n",
    "            \n",
    "            # center the data\n",
    "            center_x = center_x - mu_center_x\n",
    "            center_y = center_y - mu_center_y\n",
    "            w = w - mu_w\n",
    "            h = h - mu_h\n",
    "            \n",
    "            # write the data to our list\n",
    "            location_data[y_pixel,x_pixel,0] = 1\n",
    "            location_data[y_pixel,x_pixel,1] = center_x\n",
    "            location_data[y_pixel,x_pixel,2] = center_y\n",
    "            location_data[y_pixel,x_pixel,3] = w\n",
    "            location_data[y_pixel,x_pixel,4] = h\n",
    "        else:\n",
    "            pass\n",
    "        \n",
    "        locations.append(location_data[:,:,1:])\n",
    "        pixel_means.append(np.mean(locs))\n",
    "        pneumonia_locations[filename] = location_data"
   ]
  },
  {
   "cell_type": "code",
   "execution_count": 14,
   "metadata": {},
   "outputs": [],
   "source": [
    "foo = np.array(locations)"
   ]
  },
  {
   "cell_type": "code",
   "execution_count": 29,
   "metadata": {},
   "outputs": [
    {
     "data": {
      "text/plain": [
       "-408.8788487"
      ]
     },
     "execution_count": 29,
     "metadata": {},
     "output_type": "execute_result"
    }
   ],
   "source": [
    "np.min(foo[:,:,0])"
   ]
  },
  {
   "cell_type": "code",
   "execution_count": 24,
   "metadata": {},
   "outputs": [
    {
     "data": {
      "text/plain": [
       "(28989, 4, 4, 4)"
      ]
     },
     "execution_count": 24,
     "metadata": {},
     "output_type": "execute_result"
    }
   ],
   "source": [
    "foo.shape"
   ]
  },
  {
   "cell_type": "code",
   "execution_count": 9,
   "metadata": {},
   "outputs": [],
   "source": [
    "# save our dict to disk\n",
    "with open('yolo_labels_centered_4x4.p', 'wb') as handle:\n",
    "    pickle.dump(pneumonia_locations, handle, protocol=pickle.HIGHEST_PROTOCOL)"
   ]
  },
  {
   "cell_type": "code",
   "execution_count": 10,
   "metadata": {},
   "outputs": [],
   "source": [
    "with open('yolo_labels_centered_4x4.p', 'rb') as handle:\n",
    "    b = pickle.load(handle)"
   ]
  },
  {
   "cell_type": "code",
   "execution_count": 11,
   "metadata": {},
   "outputs": [
    {
     "data": {
      "text/plain": [
       "array([[[   0.       , -373.8788487, -402.2230589,    0.       ,\n",
       "            0.       ],\n",
       "        [   0.       , -117.8788487, -402.2230589,    0.       ,\n",
       "            0.       ],\n",
       "        [   0.       ,  138.1211513, -402.2230589,    0.       ,\n",
       "            0.       ],\n",
       "        [   0.       ,  394.1211513, -402.2230589,    0.       ,\n",
       "            0.       ]],\n",
       "\n",
       "       [[   0.       , -373.8788487, -146.2230589,    0.       ,\n",
       "            0.       ],\n",
       "        [   0.       , -117.8788487, -146.2230589,    0.       ,\n",
       "            0.       ],\n",
       "        [   0.       ,  138.1211513, -146.2230589,    0.       ,\n",
       "            0.       ],\n",
       "        [   0.       ,  394.1211513, -146.2230589,    0.       ,\n",
       "            0.       ]],\n",
       "\n",
       "       [[   0.       , -373.8788487,  109.7769411,    0.       ,\n",
       "            0.       ],\n",
       "        [   1.       , -212.3788487,   19.2769411,    4.1546185,\n",
       "          194.8256359],\n",
       "        [   1.       ,  239.6211513,   97.2769411,  -19.8453815,\n",
       "          -25.1743641],\n",
       "        [   0.       ,  394.1211513,  109.7769411,    0.       ,\n",
       "            0.       ]],\n",
       "\n",
       "       [[   0.       , -373.8788487,  365.7769411,    0.       ,\n",
       "            0.       ],\n",
       "        [   0.       , -117.8788487,  365.7769411,    0.       ,\n",
       "            0.       ],\n",
       "        [   0.       ,  138.1211513,  365.7769411,    0.       ,\n",
       "            0.       ],\n",
       "        [   0.       ,  394.1211513,  365.7769411,    0.       ,\n",
       "            0.       ]]])"
      ]
     },
     "execution_count": 11,
     "metadata": {},
     "output_type": "execute_result"
    }
   ],
   "source": [
    "pneumonia_locations[\"fffb2395-8edd-4954-8a89-ffe2fd329be3\"]"
   ]
  },
  {
   "cell_type": "code",
   "execution_count": 33,
   "metadata": {},
   "outputs": [
    {
     "name": "stdout",
     "output_type": "stream",
     "text": [
      "37.441394898288664\n"
     ]
    }
   ],
   "source": [
    "print(1 / np.mean(pixel_means))"
   ]
  },
  {
   "cell_type": "code",
   "execution_count": null,
   "metadata": {},
   "outputs": [],
   "source": []
  }
 ],
 "metadata": {
  "kernelspec": {
   "display_name": "Python 3",
   "language": "python",
   "name": "python3"
  },
  "language_info": {
   "codemirror_mode": {
    "name": "ipython",
    "version": 3
   },
   "file_extension": ".py",
   "mimetype": "text/x-python",
   "name": "python",
   "nbconvert_exporter": "python",
   "pygments_lexer": "ipython3",
   "version": "3.5.2"
  }
 },
 "nbformat": 4,
 "nbformat_minor": 2
}
