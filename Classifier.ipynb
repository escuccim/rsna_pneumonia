{
 "cells": [
  {
   "cell_type": "code",
   "execution_count": 1,
   "metadata": {
    "colab": {
     "base_uri": "https://localhost:8080/",
     "height": 1005
    },
    "colab_type": "code",
    "id": "T5FfS4qA4NLL",
    "outputId": "1a486728-dadb-46cc-f8be-bc760cd60646"
   },
   "outputs": [
    {
     "name": "stderr",
     "output_type": "stream",
     "text": [
      "You are using pip version 10.0.1, however version 18.0 is available.\n",
      "You should consider upgrading via the 'python -m pip install --upgrade pip' command.\n",
      "You are using pip version 10.0.1, however version 18.0 is available.\n",
      "You should consider upgrading via the 'python -m pip install --upgrade pip' command.\n",
      "You are using pip version 10.0.1, however version 18.0 is available.\n",
      "You should consider upgrading via the 'python -m pip install --upgrade pip' command.\n",
      "You are using pip version 10.0.1, however version 18.0 is available.\n",
      "You should consider upgrading via the 'python -m pip install --upgrade pip' command.\n"
     ]
    }
   ],
   "source": [
    "# install dependencies not included by Colab\n",
    "# use pip3 to ensure compatibility w/ Google Deep Learning Images \n",
    "!pip install -q pydicom \n",
    "!pip install -q imgaug \n",
    "!pip install -q kaggle\n",
    "!pip install -q tqdm "
   ]
  },
  {
   "cell_type": "code",
   "execution_count": 2,
   "metadata": {
    "colab": {
     "base_uri": "https://localhost:8080/",
     "height": 36
    },
    "colab_type": "code",
    "id": "SyfCUf7N4NMZ",
    "outputId": "b831f79a-55dc-401a-f041-059648ae7efc"
   },
   "outputs": [
    {
     "name": "stderr",
     "output_type": "stream",
     "text": [
      "c:\\users\\eric\\anaconda2\\envs\\hse_dl\\lib\\site-packages\\h5py\\__init__.py:34: FutureWarning: Conversion of the second argument of issubdtype from `float` to `np.floating` is deprecated. In future, it will be treated as `np.float64 == np.dtype(float).type`.\n",
      "  from ._conv import register_converters as _register_converters\n",
      "Using TensorFlow backend.\n"
     ]
    }
   ],
   "source": [
    "import os\n",
    "import csv\n",
    "import random\n",
    "import pydicom\n",
    "import numpy as np\n",
    "import pandas as pd\n",
    "from skimage import measure\n",
    "from skimage.transform import resize\n",
    "from keras import layers\n",
    "import tensorflow as tf\n",
    "from tensorflow import keras\n",
    "\n",
    "from matplotlib import pyplot as plt"
   ]
  },
  {
   "cell_type": "code",
   "execution_count": 0,
   "metadata": {
    "colab": {},
    "colab_type": "code",
    "id": "9OhavJ3x4NNb"
   },
   "outputs": [],
   "source": [
    "from google.colab import auth\n",
    "from googleapiclient.http import MediaFileUpload\n",
    "from googleapiclient.discovery import build\n",
    "\n",
    "auth.authenticate_user()\n",
    "\n",
    "drive_service = build('drive', 'v3')\n",
    "\n",
    "def save_file_to_drive(name, path):\n",
    "    file_metadata = {\n",
    "      'name': name,\n",
    "      'mimeType': 'application/octet-stream'\n",
    "     }\n",
    "\n",
    "    media = MediaFileUpload(path, \n",
    "                    mimetype='application/octet-stream',\n",
    "                    resumable=True)\n",
    "\n",
    "    created = drive_service.files().create(body=file_metadata,\n",
    "                                   media_body=media,\n",
    "                                   fields='id').execute()\n",
    "\n",
    "    print('File ID: {}'.format(created.get('id')))\n",
    "\n",
    "    return created"
   ]
  },
  {
   "cell_type": "code",
   "execution_count": 0,
   "metadata": {
    "colab": {},
    "colab_type": "code",
    "id": "dhCbRHYw4NOI"
   },
   "outputs": [],
   "source": [
    "# enter your Kaggle credentionals here\n",
    "os.environ['KAGGLE_USERNAME']=\"skooch\"\n",
    "os.environ['KAGGLE_KEY']=\"42f8a02ee92cc773d1dbe66565673ad3\""
   ]
  },
  {
   "cell_type": "code",
   "execution_count": 5,
   "metadata": {
    "colab": {
     "base_uri": "https://localhost:8080/",
     "height": 36
    },
    "colab_type": "code",
    "id": "vhZAfaEJ58_k",
    "outputId": "4d3e144f-3ff1-4537-dd74-43e24f0784ef"
   },
   "outputs": [
    {
     "name": "stdout",
     "output_type": "stream",
     "text": [
      "adc.json  sample_data\r\n"
     ]
    }
   ],
   "source": [
    "!ls"
   ]
  },
  {
   "cell_type": "code",
   "execution_count": 6,
   "metadata": {
    "colab": {
     "base_uri": "https://localhost:8080/",
     "height": 352
    },
    "colab_type": "code",
    "id": "vnha8-rH40dw",
    "outputId": "5e3d6a34-e637-47dc-ad5b-d50f079365f1"
   },
   "outputs": [
    {
     "name": "stdout",
     "output_type": "stream",
     "text": [
      "Downloading GCP%20Credits%20Request%20Link%20-%20RSNA.txt to /content\r\n",
      "\r",
      "  0%|                                                | 0.00/55.0 [00:00<?, ?B/s]\r\n",
      "100%|████████████████████████████████████████| 55.0/55.0 [00:00<00:00, 29.1kB/s]\n",
      "Downloading stage_1_detailed_class_info.csv.zip to /content\n",
      "  0%|                                                | 0.00/561k [00:00<?, ?B/s]\n",
      "100%|████████████████████████████████████████| 561k/561k [00:00<00:00, 79.4MB/s]\n",
      "Downloading stage_1_sample_submission.csv to /content\n",
      "  0%|                                               | 0.00/51.8k [00:00<?, ?B/s]\n",
      "100%|██████████████████████████████████████| 51.8k/51.8k [00:00<00:00, 33.9MB/s]\n",
      "Downloading stage_1_train_labels.csv.zip to /content\n",
      "  0%|                                                | 0.00/634k [00:00<?, ?B/s]\n",
      "100%|████████████████████████████████████████| 634k/634k [00:00<00:00, 61.7MB/s]\n",
      "Downloading stage_1_test_images.zip to /content\n",
      " 96%|██████████████████████████████████████▎ | 121M/126M [00:02<00:00, 51.5MB/s]\n",
      "100%|████████████████████████████████████████| 126M/126M [00:02<00:00, 59.2MB/s]\n",
      "Downloading stage_1_train_images.zip to /content\n",
      "100%|█████████████████████████████████████▉| 3.16G/3.17G [01:05<00:00, 56.7MB/s]\n",
      "100%|██████████████████████████████████████| 3.17G/3.17G [01:05<00:00, 52.1MB/s]\n"
     ]
    }
   ],
   "source": [
    "# If you are unable to download the competition dataset, check to see if you have \n",
    "# accepted the user agreement on the competition website. \n",
    "!kaggle competitions download -c rsna-pneumonia-detection-challenge"
   ]
  },
  {
   "cell_type": "code",
   "execution_count": 0,
   "metadata": {
    "colab": {},
    "colab_type": "code",
    "id": "-fY1NskV41oa"
   },
   "outputs": [],
   "source": [
    "# unzipping takes a few minutes\n",
    "!unzip -q -o stage_1_test_images.zip -d stage_1_test_images\n",
    "!unzip -q -o stage_1_train_images.zip -d stage_1_train_images\n",
    "!unzip -q -o stage_1_train_labels.csv.zip"
   ]
  },
  {
   "cell_type": "markdown",
   "metadata": {
    "colab_type": "text",
    "id": "icV9Grug46V2"
   },
   "source": [
    "## Load Data"
   ]
  },
  {
   "cell_type": "code",
   "execution_count": 21,
   "metadata": {
    "colab": {
     "base_uri": "https://localhost:8080/",
     "height": 36
    },
    "colab_type": "code",
    "id": "7PWuyNto4NO9",
    "outputId": "0f440f60-e09d-4578-e335-73f94c476775"
   },
   "outputs": [
    {
     "name": "stdout",
     "output_type": "stream",
     "text": [
      "Train dir: ./stage_1_train_images\n"
     ]
    }
   ],
   "source": [
    "ROOT_DIR = \"./\"\n",
    "\n",
    "train_dicom_dir = os.path.join(ROOT_DIR, 'stage_1_train_images')\n",
    "test_dicom_dir = os.path.join(ROOT_DIR, 'stage_1_test_images')\n",
    "print(\"Train dir:\", train_dicom_dir)"
   ]
  },
  {
   "cell_type": "code",
   "execution_count": 22,
   "metadata": {
    "colab": {},
    "colab_type": "code",
    "id": "KldfBIBh4NPl"
   },
   "outputs": [],
   "source": [
    "# empty dictionary\n",
    "labels = {}\n",
    "# load table\n",
    "with open('./stage_1_train_labels.csv', mode='r') as infile:\n",
    "    # open reader\n",
    "    reader = csv.reader(infile)\n",
    "    # skip header\n",
    "    next(reader, None)\n",
    "    # loop through rows\n",
    "    for rows in reader:\n",
    "        # retrieve information\n",
    "        filename = rows[0]\n",
    "        location = rows[1:5]\n",
    "        nodule = rows[5]\n",
    "        \n",
    "        labels[filename] = nodule"
   ]
  },
  {
   "cell_type": "code",
   "execution_count": 23,
   "metadata": {
    "colab": {
     "base_uri": "https://localhost:8080/",
     "height": 54
    },
    "colab_type": "code",
    "id": "qiUQfGnb4NRC",
    "outputId": "c73b5e1b-19de-4227-9702-26c4e1373a00"
   },
   "outputs": [
    {
     "name": "stdout",
     "output_type": "stream",
     "text": [
      "n train samples 0\n",
      "n valid samples 530\n"
     ]
    }
   ],
   "source": [
    "# load and shuffle filenames\n",
    "folder = train_dicom_dir\n",
    "filenames = os.listdir(folder)\n",
    "random.shuffle(filenames)\n",
    "# split into train and validation filenames\n",
    "n_valid_samples = 2560\n",
    "train_filenames = filenames[n_valid_samples:]\n",
    "valid_filenames = filenames[:n_valid_samples]\n",
    "print('n train samples', len(train_filenames))\n",
    "print('n valid samples', len(valid_filenames))\n",
    "n_train_samples = len(filenames) - n_valid_samples"
   ]
  },
  {
   "cell_type": "markdown",
   "metadata": {
    "colab_type": "text",
    "id": "cTP4PetE5BVz"
   },
   "source": [
    "## Create Model"
   ]
  },
  {
   "cell_type": "code",
   "execution_count": 3,
   "metadata": {
    "colab": {},
    "colab_type": "code",
    "id": "LEVAkuNn4NRk"
   },
   "outputs": [],
   "source": [
    "BATCH_SIZE = 16\n",
    "IMAGE_SIZE = 384\n",
    "CHECKPOINT_PATH = \"model2.h5\""
   ]
  },
  {
   "cell_type": "code",
   "execution_count": 4,
   "metadata": {
    "colab": {},
    "colab_type": "code",
    "id": "c9DF3PS-4NR8"
   },
   "outputs": [],
   "source": [
    "class generator(keras.utils.Sequence):\n",
    "    \n",
    "    def __init__(self, folder, filenames, nodule_locations=None, batch_size=BATCH_SIZE, image_size=IMAGE_SIZE, shuffle=True, predict=False):\n",
    "        self.folder = folder\n",
    "        self.filenames = filenames\n",
    "        self.nodule_locations = nodule_locations\n",
    "        self.batch_size = batch_size\n",
    "        self.image_size = image_size\n",
    "        self.shuffle = shuffle\n",
    "        self.predict = predict\n",
    "        self.on_epoch_end()\n",
    "        \n",
    "    def __load__(self, filename):\n",
    "        # load dicom file as numpy array\n",
    "        img = pydicom.dcmread(os.path.join(self.folder, filename)).pixel_array\n",
    "        # create empty mask\n",
    "        msk = np.zeros(img.shape)\n",
    "        # get filename without extension\n",
    "        filename = filename.split('.')[0]\n",
    "        # if image contains nodules\n",
    "        if filename in nodule_locations:\n",
    "            # get the location\n",
    "            msk = nodule_locations[filename]\n",
    "            # make sure it's the right length, if not right pad with 0s\n",
    "            \n",
    "        # resize both image and mask\n",
    "        img = resize(img, (self.image_size, self.image_size), mode='reflect')\n",
    "        # add trailing channel dimension\n",
    "        img = np.expand_dims(img, -1)\n",
    "        return img, msk\n",
    "    \n",
    "    def __loadpredict__(self, filename):\n",
    "        # load dicom file as numpy array\n",
    "        img = pydicom.dcmread(os.path.join(self.folder, filename)).pixel_array\n",
    "        # resize image\n",
    "        img = resize(img, (self.image_size, self.image_size), mode='reflect')\n",
    "        # add trailing channel dimension\n",
    "        img = np.expand_dims(img, -1)\n",
    "        return img\n",
    "        \n",
    "    def __getitem__(self, index):\n",
    "        # select batch\n",
    "        filenames = self.filenames[index*self.batch_size:(index+1)*self.batch_size]\n",
    "        # predict mode: return images and filenames\n",
    "        if self.predict:\n",
    "            # load files\n",
    "            imgs = [self.__loadpredict__(filename) for filename in filenames]\n",
    "            # create numpy batch\n",
    "            imgs = np.array(imgs)\n",
    "            return imgs, filenames\n",
    "        # train mode: return images and masks\n",
    "        else:\n",
    "            # load files\n",
    "            items = [self.__load__(filename) for filename in filenames]\n",
    "            # unzip images and masks\n",
    "            imgs, msks = zip(*items)\n",
    "            # create numpy batch\n",
    "            imgs = np.array(imgs)\n",
    "            msks = np.array(msks)\n",
    "            return imgs, msks\n",
    "        \n",
    "    def on_epoch_end(self):\n",
    "        if self.shuffle:\n",
    "            random.shuffle(self.filenames)\n",
    "        \n",
    "    def __len__(self):\n",
    "        if self.predict:\n",
    "            # return everything\n",
    "            return int(np.ceil(len(self.filenames) / self.batch_size))\n",
    "        else:\n",
    "            # return full batches only\n",
    "            return int(len(self.filenames) / self.batch_size)"
   ]
  },
  {
   "cell_type": "markdown",
   "metadata": {
    "colab_type": "text",
    "id": "VhbpDrJW4NSP"
   },
   "source": [
    "## Create Network"
   ]
  },
  {
   "cell_type": "code",
   "execution_count": 17,
   "metadata": {
    "colab": {},
    "colab_type": "code",
    "id": "Ug55aLiO4NSX"
   },
   "outputs": [],
   "source": [
    "def _conv(filters, inputs, layers=3):\n",
    "    x = inputs\n",
    "    for _ in range(layers):\n",
    "        x = keras.layers.BatchNormalization(momentum=0.9)(x)\n",
    "        x = keras.layers.LeakyReLU(0)(x)\n",
    "        x = keras.layers.Conv2D(filters, 3, padding='same', use_bias=False)(x)\n",
    "    \n",
    "    return x\n",
    "\n",
    "def _downsample(channels, inputs):\n",
    "    x = keras.layers.BatchNormalization(momentum=0.9)(inputs)\n",
    "    x = keras.layers.LeakyReLU(0)(x)\n",
    "    x = keras.layers.Conv2D(channels, 1, padding='same', use_bias=False)(x)\n",
    "    x = keras.layers.MaxPool2D(2)(x)\n",
    "    return x\n",
    "\n",
    "def create_network(input_size, channels, n_blocks=2, depth=5):\n",
    "    inputs = keras.Input(shape=(input_size, input_size, 1))\n",
    "    x = keras.layers.Conv2D(channels, 3, padding='same', use_bias=False)(inputs)\n",
    "    \n",
    "    # residual blocks\n",
    "    for d in range(depth):\n",
    "        channels = channels * 2\n",
    "        if channels > 512:\n",
    "            channels = 512\n",
    "        \n",
    "        x = _downsample(channels, x)\n",
    "        for b in range(n_blocks):\n",
    "            x = _conv(channels, x, layers=2)\n",
    "        \n",
    "    # downsample \n",
    "    x = _downsample(512, x)\n",
    "    \n",
    "    # reduce feature maps\n",
    "    x = keras.layers.Conv2D(384, (1,1), strides=(1,1), padding='same', activation=None)(x)\n",
    "    x = keras.layers.BatchNormalization(momentum=0.9)(x)\n",
    "    x = keras.layers.LeakyReLU(0)(x)\n",
    "    \n",
    "    # turn into 1x1x102\n",
    "    x = keras.layers.Conv2D(768, (6,6), strides=(1,1), padding='valid', activation=None)(x)\n",
    "    x = keras.layers.BatchNormalization(momentum=0.9)(x)\n",
    "    x = keras.layers.LeakyReLU(0)(x)\n",
    "    \n",
    "    # \"fc\" layer\n",
    "    x = keras.layers.Conv2D(512, (1,1), strides=(1,1), padding='valid', activation=None)(x)\n",
    "    x = keras.layers.BatchNormalization(momentum=0.9)(x)\n",
    "    x = keras.layers.LeakyReLU(0)(x)\n",
    "    \n",
    "    # output\n",
    "    confidences = keras.layers.Conv2D(1, (1,1), strides=(1,1), padding='valid', activation=\"sigmoid\")(x)\n",
    "    \n",
    "    model = keras.Model(inputs=inputs, outputs=confidences)\n",
    "    return model"
   ]
  },
  {
   "cell_type": "code",
   "execution_count": 26,
   "metadata": {
    "colab": {
     "base_uri": "https://localhost:8080/",
     "height": 3275
    },
    "colab_type": "code",
    "id": "aD2ypIEi4NS1",
    "outputId": "8f4446d8-afc3-4a52-ca03-ba4348b3524d"
   },
   "outputs": [
    {
     "name": "stdout",
     "output_type": "stream",
     "text": [
      "_________________________________________________________________\n",
      "Layer (type)                 Output Shape              Param #   \n",
      "=================================================================\n",
      "input_11 (InputLayer)        (None, 384, 384, 1)       0         \n",
      "_________________________________________________________________\n",
      "conv2d_305 (Conv2D)          (None, 384, 384, 24)      216       \n",
      "_________________________________________________________________\n",
      "batch_normalization_289 (Bat (None, 384, 384, 24)      96        \n",
      "_________________________________________________________________\n",
      "leaky_re_lu_289 (LeakyReLU)  (None, 384, 384, 24)      0         \n",
      "_________________________________________________________________\n",
      "conv2d_306 (Conv2D)          (None, 384, 384, 48)      1152      \n",
      "_________________________________________________________________\n",
      "max_pooling2d_61 (MaxPooling (None, 192, 192, 48)      0         \n",
      "_________________________________________________________________\n",
      "batch_normalization_290 (Bat (None, 192, 192, 48)      192       \n",
      "_________________________________________________________________\n",
      "leaky_re_lu_290 (LeakyReLU)  (None, 192, 192, 48)      0         \n",
      "_________________________________________________________________\n",
      "conv2d_307 (Conv2D)          (None, 192, 192, 48)      20736     \n",
      "_________________________________________________________________\n",
      "batch_normalization_291 (Bat (None, 192, 192, 48)      192       \n",
      "_________________________________________________________________\n",
      "leaky_re_lu_291 (LeakyReLU)  (None, 192, 192, 48)      0         \n",
      "_________________________________________________________________\n",
      "conv2d_308 (Conv2D)          (None, 192, 192, 48)      20736     \n",
      "_________________________________________________________________\n",
      "batch_normalization_292 (Bat (None, 192, 192, 48)      192       \n",
      "_________________________________________________________________\n",
      "leaky_re_lu_292 (LeakyReLU)  (None, 192, 192, 48)      0         \n",
      "_________________________________________________________________\n",
      "conv2d_309 (Conv2D)          (None, 192, 192, 48)      20736     \n",
      "_________________________________________________________________\n",
      "batch_normalization_293 (Bat (None, 192, 192, 48)      192       \n",
      "_________________________________________________________________\n",
      "leaky_re_lu_293 (LeakyReLU)  (None, 192, 192, 48)      0         \n",
      "_________________________________________________________________\n",
      "conv2d_310 (Conv2D)          (None, 192, 192, 48)      20736     \n",
      "_________________________________________________________________\n",
      "batch_normalization_294 (Bat (None, 192, 192, 48)      192       \n",
      "_________________________________________________________________\n",
      "leaky_re_lu_294 (LeakyReLU)  (None, 192, 192, 48)      0         \n",
      "_________________________________________________________________\n",
      "conv2d_311 (Conv2D)          (None, 192, 192, 96)      4608      \n",
      "_________________________________________________________________\n",
      "max_pooling2d_62 (MaxPooling (None, 96, 96, 96)        0         \n",
      "_________________________________________________________________\n",
      "batch_normalization_295 (Bat (None, 96, 96, 96)        384       \n",
      "_________________________________________________________________\n",
      "leaky_re_lu_295 (LeakyReLU)  (None, 96, 96, 96)        0         \n",
      "_________________________________________________________________\n",
      "conv2d_312 (Conv2D)          (None, 96, 96, 96)        82944     \n",
      "_________________________________________________________________\n",
      "batch_normalization_296 (Bat (None, 96, 96, 96)        384       \n",
      "_________________________________________________________________\n",
      "leaky_re_lu_296 (LeakyReLU)  (None, 96, 96, 96)        0         \n",
      "_________________________________________________________________\n",
      "conv2d_313 (Conv2D)          (None, 96, 96, 96)        82944     \n",
      "_________________________________________________________________\n",
      "batch_normalization_297 (Bat (None, 96, 96, 96)        384       \n",
      "_________________________________________________________________\n",
      "leaky_re_lu_297 (LeakyReLU)  (None, 96, 96, 96)        0         \n",
      "_________________________________________________________________\n",
      "conv2d_314 (Conv2D)          (None, 96, 96, 96)        82944     \n",
      "_________________________________________________________________\n",
      "batch_normalization_298 (Bat (None, 96, 96, 96)        384       \n",
      "_________________________________________________________________\n",
      "leaky_re_lu_298 (LeakyReLU)  (None, 96, 96, 96)        0         \n",
      "_________________________________________________________________\n",
      "conv2d_315 (Conv2D)          (None, 96, 96, 96)        82944     \n",
      "_________________________________________________________________\n",
      "batch_normalization_299 (Bat (None, 96, 96, 96)        384       \n",
      "_________________________________________________________________\n",
      "leaky_re_lu_299 (LeakyReLU)  (None, 96, 96, 96)        0         \n",
      "_________________________________________________________________\n",
      "conv2d_316 (Conv2D)          (None, 96, 96, 192)       18432     \n",
      "_________________________________________________________________\n",
      "max_pooling2d_63 (MaxPooling (None, 48, 48, 192)       0         \n",
      "_________________________________________________________________\n",
      "batch_normalization_300 (Bat (None, 48, 48, 192)       768       \n",
      "_________________________________________________________________\n",
      "leaky_re_lu_300 (LeakyReLU)  (None, 48, 48, 192)       0         \n",
      "_________________________________________________________________\n",
      "conv2d_317 (Conv2D)          (None, 48, 48, 192)       331776    \n",
      "_________________________________________________________________\n",
      "batch_normalization_301 (Bat (None, 48, 48, 192)       768       \n",
      "_________________________________________________________________\n",
      "leaky_re_lu_301 (LeakyReLU)  (None, 48, 48, 192)       0         \n",
      "_________________________________________________________________\n",
      "conv2d_318 (Conv2D)          (None, 48, 48, 192)       331776    \n",
      "_________________________________________________________________\n",
      "batch_normalization_302 (Bat (None, 48, 48, 192)       768       \n",
      "_________________________________________________________________\n",
      "leaky_re_lu_302 (LeakyReLU)  (None, 48, 48, 192)       0         \n",
      "_________________________________________________________________\n",
      "conv2d_319 (Conv2D)          (None, 48, 48, 192)       331776    \n",
      "_________________________________________________________________\n",
      "batch_normalization_303 (Bat (None, 48, 48, 192)       768       \n",
      "_________________________________________________________________\n",
      "leaky_re_lu_303 (LeakyReLU)  (None, 48, 48, 192)       0         \n",
      "_________________________________________________________________\n",
      "conv2d_320 (Conv2D)          (None, 48, 48, 192)       331776    \n",
      "_________________________________________________________________\n",
      "batch_normalization_304 (Bat (None, 48, 48, 192)       768       \n",
      "_________________________________________________________________\n",
      "leaky_re_lu_304 (LeakyReLU)  (None, 48, 48, 192)       0         \n",
      "_________________________________________________________________\n",
      "conv2d_321 (Conv2D)          (None, 48, 48, 384)       73728     \n",
      "_________________________________________________________________\n",
      "max_pooling2d_64 (MaxPooling (None, 24, 24, 384)       0         \n",
      "_________________________________________________________________\n",
      "batch_normalization_305 (Bat (None, 24, 24, 384)       1536      \n",
      "_________________________________________________________________\n",
      "leaky_re_lu_305 (LeakyReLU)  (None, 24, 24, 384)       0         \n",
      "_________________________________________________________________\n",
      "conv2d_322 (Conv2D)          (None, 24, 24, 384)       1327104   \n",
      "_________________________________________________________________\n",
      "batch_normalization_306 (Bat (None, 24, 24, 384)       1536      \n",
      "_________________________________________________________________\n",
      "leaky_re_lu_306 (LeakyReLU)  (None, 24, 24, 384)       0         \n",
      "_________________________________________________________________\n",
      "conv2d_323 (Conv2D)          (None, 24, 24, 384)       1327104   \n",
      "_________________________________________________________________\n",
      "batch_normalization_307 (Bat (None, 24, 24, 384)       1536      \n",
      "_________________________________________________________________\n",
      "leaky_re_lu_307 (LeakyReLU)  (None, 24, 24, 384)       0         \n",
      "_________________________________________________________________\n",
      "conv2d_324 (Conv2D)          (None, 24, 24, 384)       1327104   \n",
      "_________________________________________________________________\n",
      "batch_normalization_308 (Bat (None, 24, 24, 384)       1536      \n",
      "_________________________________________________________________\n",
      "leaky_re_lu_308 (LeakyReLU)  (None, 24, 24, 384)       0         \n",
      "_________________________________________________________________\n",
      "conv2d_325 (Conv2D)          (None, 24, 24, 384)       1327104   \n",
      "_________________________________________________________________\n",
      "batch_normalization_309 (Bat (None, 24, 24, 384)       1536      \n",
      "_________________________________________________________________\n",
      "leaky_re_lu_309 (LeakyReLU)  (None, 24, 24, 384)       0         \n",
      "_________________________________________________________________\n",
      "conv2d_326 (Conv2D)          (None, 24, 24, 512)       196608    \n",
      "_________________________________________________________________\n",
      "max_pooling2d_65 (MaxPooling (None, 12, 12, 512)       0         \n",
      "_________________________________________________________________\n",
      "batch_normalization_310 (Bat (None, 12, 12, 512)       2048      \n",
      "_________________________________________________________________\n",
      "leaky_re_lu_310 (LeakyReLU)  (None, 12, 12, 512)       0         \n",
      "_________________________________________________________________\n",
      "conv2d_327 (Conv2D)          (None, 12, 12, 512)       2359296   \n",
      "_________________________________________________________________\n",
      "batch_normalization_311 (Bat (None, 12, 12, 512)       2048      \n",
      "_________________________________________________________________\n",
      "leaky_re_lu_311 (LeakyReLU)  (None, 12, 12, 512)       0         \n",
      "_________________________________________________________________\n",
      "conv2d_328 (Conv2D)          (None, 12, 12, 512)       2359296   \n",
      "_________________________________________________________________\n",
      "batch_normalization_312 (Bat (None, 12, 12, 512)       2048      \n",
      "_________________________________________________________________\n",
      "leaky_re_lu_312 (LeakyReLU)  (None, 12, 12, 512)       0         \n",
      "_________________________________________________________________\n",
      "conv2d_329 (Conv2D)          (None, 12, 12, 512)       2359296   \n",
      "_________________________________________________________________\n",
      "batch_normalization_313 (Bat (None, 12, 12, 512)       2048      \n",
      "_________________________________________________________________\n",
      "leaky_re_lu_313 (LeakyReLU)  (None, 12, 12, 512)       0         \n",
      "_________________________________________________________________\n",
      "conv2d_330 (Conv2D)          (None, 12, 12, 512)       2359296   \n",
      "_________________________________________________________________\n",
      "batch_normalization_314 (Bat (None, 12, 12, 512)       2048      \n",
      "_________________________________________________________________\n",
      "leaky_re_lu_314 (LeakyReLU)  (None, 12, 12, 512)       0         \n",
      "_________________________________________________________________\n",
      "conv2d_331 (Conv2D)          (None, 12, 12, 512)       262144    \n",
      "_________________________________________________________________\n",
      "max_pooling2d_66 (MaxPooling (None, 6, 6, 512)         0         \n",
      "_________________________________________________________________\n",
      "conv2d_332 (Conv2D)          (None, 6, 6, 384)         196992    \n",
      "_________________________________________________________________\n",
      "batch_normalization_315 (Bat (None, 6, 6, 384)         1536      \n",
      "_________________________________________________________________\n",
      "leaky_re_lu_315 (LeakyReLU)  (None, 6, 6, 384)         0         \n",
      "_________________________________________________________________\n",
      "conv2d_333 (Conv2D)          (None, 1, 1, 768)         10617600  \n",
      "_________________________________________________________________\n",
      "batch_normalization_316 (Bat (None, 1, 1, 768)         3072      \n",
      "_________________________________________________________________\n",
      "leaky_re_lu_316 (LeakyReLU)  (None, 1, 1, 768)         0         \n",
      "_________________________________________________________________\n",
      "conv2d_334 (Conv2D)          (None, 1, 1, 512)         393728    \n",
      "_________________________________________________________________\n",
      "batch_normalization_317 (Bat (None, 1, 1, 512)         2048      \n",
      "_________________________________________________________________\n",
      "leaky_re_lu_317 (LeakyReLU)  (None, 1, 1, 512)         0         \n",
      "_________________________________________________________________\n",
      "conv2d_335 (Conv2D)          (None, 1, 1, 1)           513       \n",
      "=================================================================\n",
      "Total params: 28,284,537\n",
      "Trainable params: 28,268,841\n",
      "Non-trainable params: 15,696\n",
      "_________________________________________________________________\n",
      "None\n"
     ]
    }
   ],
   "source": [
    "# define iou or jaccard loss function\n",
    "def iou_loss(y_true, y_pred):\n",
    "    y_true = tf.reshape(y_true, [-1])\n",
    "    y_pred = tf.reshape(y_pred, [-1])\n",
    "    intersection = tf.reduce_sum(y_true * y_pred)\n",
    "    score = (intersection + 1.) / (tf.reduce_sum(y_true) + tf.reduce_sum(y_pred) - intersection + 1.)\n",
    "    return 1 - score\n",
    "\n",
    "# combine bce loss and iou loss\n",
    "def custom_loss(y_true, y_pred):\n",
    "    xe_loss = calc_xe_loss(y_true, y_pred)\n",
    "    mse_loss = calc_mse_loss(y_true, y_pred)\n",
    "    \n",
    "    return xe_loss + mse_loss\n",
    "\n",
    "def calc_xe_loss(y_true, y_pred):\n",
    "    # separate out our boxes\n",
    "    box1_pred = y_pred[:,:5]\n",
    "    box2_pred = y_pred[:,5:]\n",
    "    \n",
    "    box1_true = y_true[:,:5]\n",
    "    box2_true = y_true[:,5:]\n",
    "    \n",
    "    # cross entropy on confidences for both boxes\n",
    "    xe_loss_1 = keras.losses.binary_crossentropy(box1_true[:,0], box1_pred[:,0])\n",
    "    xe_loss_2 = keras.losses.binary_crossentropy(box2_true[:,0], box2_pred[:,0])\n",
    "    \n",
    "    return (0.4 * xe_loss_1) + (0.4 * xe_loss_2)\n",
    "\n",
    "def calc_mse_loss(y_true, y_pred):\n",
    "    # separate out our boxes\n",
    "    box1_pred = y_pred[:,:5]\n",
    "    box2_pred = y_pred[:,5:]\n",
    "    \n",
    "    box1_true = y_true[:,:5]\n",
    "    box2_true = y_true[:,5:]\n",
    "    \n",
    "    # compare the predictions to the truth\n",
    "    mse_loss_1 = keras.losses.mean_squared_error(box1_true[:,1:], box1_pred[:,1:])\n",
    "    mse_loss_2 = keras.losses.mean_squared_error(box2_true[:,1:], box2_pred[:,1:])    \n",
    "    \n",
    "    # if we have truth compare the predictions to the opposite boxes, otherwise use the existing loss\n",
    "    if box1_true[:,3] != 0:\n",
    "        mse_loss_3 = keras.losses.mean_squared_error(box1_true[:,1:], box2_pred[:,1:])\n",
    "    else:\n",
    "        mse_loss_3 = mse_loss_1\n",
    "      \n",
    "    if box2_true[:,3] != 0:\n",
    "        mse_loss_4 = keras.losses.mean_squared_error(box2_true[:,1:], box1_pred[:,1:])\n",
    "    else:\n",
    "        mse_loss_4 = mse_loss_2\n",
    "      \n",
    "    # average the mses and divide to keep it in line with cross entropy\n",
    "    return ((0.25 * mse_loss_1) + (0.25 * mse_loss_2) + (0.25 * mse_loss_3) + (0.25 * mse_loss_4)) / 10000\n",
    "\n",
    "# create network and compiler\n",
    "model = create_network(input_size=IMAGE_SIZE, channels=24, n_blocks=2, depth=5)\n",
    "print(model.summary())\n",
    "\n",
    "model.compile(optimizer='adam',\n",
    "              loss=\"binary_crossentropy\",\n",
    "              metrics=['accuracy'])\n",
    "\n",
    "# cosine learning rate annealing\n",
    "def cosine_annealing(x):\n",
    "    lr = 0.003\n",
    "    epochs = 25\n",
    "    return lr*(np.cos(np.pi*x/epochs)+1.)/2\n",
    "  \n",
    "learning_rate = tf.keras.callbacks.LearningRateScheduler(cosine_annealing)\n",
    "checkpoint = keras.callbacks.ModelCheckpoint(CHECKPOINT_PATH, monitor='val_loss', verbose=1, save_best_only=False, save_weights_only=True, mode='auto', period=1)\n",
    "\n",
    "\n",
    "# create train and validation generators\n",
    "folder = train_dicom_dir\n",
    "train_gen = generator(folder, train_filenames, labels, batch_size=BATCH_SIZE, image_size=IMAGE_SIZE, shuffle=True, predict=False)\n",
    "valid_gen = generator(folder, valid_filenames, labels, batch_size=BATCH_SIZE, image_size=IMAGE_SIZE, shuffle=False, predict=False)\n"
   ]
  },
  {
   "cell_type": "code",
   "execution_count": 69,
   "metadata": {
    "colab": {
     "base_uri": "https://localhost:8080/",
     "height": 223
    },
    "colab_type": "code",
    "id": "DunAxyap4NT0",
    "outputId": "ea6ec664-7984-437d-881a-d8c37e991f2b"
   },
   "outputs": [
    {
     "name": "stdout",
     "output_type": "stream",
     "text": [
      "Epoch 1/5\n",
      "1927/1927 [==============================] - 1567s 813ms/step - loss: 3.7830 - acc: 0.0509 - calc_xe_loss: 1.8038 - calc_mse_loss: 1.9792 - val_loss: 3.0141 - val_acc: 0.0481 - val_calc_xe_loss: 1.0282 - val_calc_mse_loss: 1.9859\n",
      "Epoch 2/5\n",
      "1927/1927 [==============================] - 1542s 800ms/step - loss: 2.9695 - acc: 0.0532 - calc_xe_loss: 1.0012 - calc_mse_loss: 1.9683 - val_loss: 2.9105 - val_acc: 0.0513 - val_calc_xe_loss: 1.0194 - val_calc_mse_loss: 1.8911\n",
      "Epoch 3/5\n",
      "1927/1927 [==============================] - 1542s 800ms/step - loss: 2.8423 - acc: 0.0520 - calc_xe_loss: 0.9853 - calc_mse_loss: 1.8570 - val_loss: 2.8604 - val_acc: 0.0520 - val_calc_xe_loss: 1.0205 - val_calc_mse_loss: 1.8399\n",
      "Epoch 4/5\n",
      "1927/1927 [==============================] - 1540s 799ms/step - loss: 2.8190 - acc: 0.0533 - calc_xe_loss: 0.9846 - calc_mse_loss: 1.8344 - val_loss: 2.8412 - val_acc: 0.0485 - val_calc_xe_loss: 1.0139 - val_calc_mse_loss: 1.8274\n",
      "Epoch 5/5\n",
      "1927/1927 [==============================] - 1546s 802ms/step - loss: 2.8029 - acc: 0.0537 - calc_xe_loss: 0.9837 - calc_mse_loss: 1.8192 - val_loss: 2.8277 - val_acc: 0.0493 - val_calc_xe_loss: 0.9993 - val_calc_mse_loss: 1.8284\n"
     ]
    }
   ],
   "source": [
    "history = model.fit_generator(train_gen, validation_data=valid_gen, callbacks=[learning_rate, checkpoint], epochs=5, shuffle=True, verbose=1)"
   ]
  },
  {
   "cell_type": "code",
   "execution_count": 0,
   "metadata": {
    "colab": {
     "base_uri": "https://localhost:8080/",
     "height": 54
    },
    "colab_type": "code",
    "id": "Mn_YgjP12naH",
    "outputId": "03e34410-5779-4b91-9d23-4963c6ba2369"
   },
   "outputs": [
    {
     "name": "stdout",
     "output_type": "stream",
     "text": [
      "Epoch 1/5\n",
      " 483/1927 [======>.......................] - ETA: 18:12 - loss: 2.8490 - acc: 0.0557 - calc_xe_loss: 0.9920 - calc_mse_loss: 1.8570"
     ]
    }
   ],
   "source": [
    "history = model.fit_generator(train_gen, validation_data=valid_gen, callbacks=[learning_rate], epochs=5, shuffle=True, verbose=1)"
   ]
  },
  {
   "cell_type": "code",
   "execution_count": 72,
   "metadata": {
    "colab": {
     "base_uri": "https://localhost:8080/",
     "height": 265
    },
    "colab_type": "code",
    "id": "S74VaFgV4NUE",
    "outputId": "436cc7bb-6a5f-44b8-cd34-f7e78ec59254"
   },
   "outputs": [
    {
     "data": {
      "image/png": "[encoded data removed]",
      "text/plain": [
       "<matplotlib.figure.Figure at 0x7f2bf1ebb438>"
      ]
     },
     "metadata": {
      "tags": []
     },
     "output_type": "display_data"
    }
   ],
   "source": [
    "plt.figure(figsize=(12,4))\n",
    "plt.subplot(131)\n",
    "plt.plot(history.epoch, history.history[\"loss\"], label=\"Train loss\")\n",
    "plt.plot(history.epoch, history.history[\"val_loss\"], label=\"Valid loss\")\n",
    "plt.legend()\n",
    "plt.subplot(132)\n",
    "plt.plot(history.epoch, history.history[\"acc\"], label=\"Train accuracy\")\n",
    "plt.plot(history.epoch, history.history[\"val_acc\"], label=\"Valid accuracy\")\n",
    "plt.legend()\n",
    "plt.subplot(133)\n",
    "plt.plot(history.epoch, history.history[\"calc_xe_loss\"], label=\"XE Loss\")\n",
    "plt.plot(history.epoch, history.history[\"val_calc_xe_loss\"], label=\"Valid XE Loss\")\n",
    "plt.legend()\n",
    "plt.show()"
   ]
  },
  {
   "cell_type": "code",
   "execution_count": 95,
   "metadata": {
    "colab": {
     "base_uri": "https://localhost:8080/",
     "height": 650
    },
    "colab_type": "code",
    "id": "nJEllBXy4NUW",
    "outputId": "0cea9e3e-b71a-4252-a6c9-76263dee80a7"
   },
   "outputs": [
    {
     "name": "stdout",
     "output_type": "stream",
     "text": [
      "n test samples: 1000\n",
      "(32, 384, 384, 1)\n",
      "(32, 384, 384, 1)\n",
      "(32, 384, 384, 1)\n",
      "(32, 384, 384, 1)\n",
      "(32, 384, 384, 1)\n",
      "(32, 384, 384, 1)\n",
      "(32, 384, 384, 1)\n",
      "(32, 384, 384, 1)\n",
      "(32, 384, 384, 1)\n",
      "(32, 384, 384, 1)\n",
      "(32, 384, 384, 1)\n",
      "(32, 384, 384, 1)\n",
      "(32, 384, 384, 1)\n",
      "(32, 384, 384, 1)\n",
      "(32, 384, 384, 1)\n",
      "(32, 384, 384, 1)\n",
      "(32, 384, 384, 1)\n",
      "(32, 384, 384, 1)\n",
      "(32, 384, 384, 1)\n",
      "(32, 384, 384, 1)\n",
      "(32, 384, 384, 1)\n",
      "(32, 384, 384, 1)\n",
      "(32, 384, 384, 1)\n",
      "(32, 384, 384, 1)\n",
      "(32, 384, 384, 1)\n",
      "(32, 384, 384, 1)\n",
      "(32, 384, 384, 1)\n",
      "(32, 384, 384, 1)\n",
      "(32, 384, 384, 1)\n",
      "(32, 384, 384, 1)\n",
      "(32, 384, 384, 1)\n",
      "(8, 384, 384, 1)\n",
      "Done Predicting!\n"
     ]
    }
   ],
   "source": [
    "# load and shuffle filenames\n",
    "folder = test_dicom_dir\n",
    "test_filenames = os.listdir(folder)\n",
    "print('n test samples:', len(test_filenames))\n",
    "THRESHOLD = 0.2\n",
    "TEST_BATCH_SIZE = 32\n",
    "\n",
    "# create test generator with predict flag set to True\n",
    "test_gen = generator(folder, test_filenames, None, batch_size=TEST_BATCH_SIZE, image_size=IMAGE_SIZE, shuffle=False, predict=True)\n",
    "\n",
    "submission_dict = {}\n",
    "\n",
    "# loop through testset\n",
    "for imgs, filenames in test_gen:\n",
    "    # predict batch of images\n",
    "    preds = model.predict(imgs)\n",
    "    \n",
    "    for pred, filename in zip(preds, filenames):\n",
    "      \n",
    "        # make sure they are all greater than or equal to 0\n",
    "        for i in range(len(pred)):\n",
    "            if pred[i] < 0:\n",
    "                pred[i] = 0\n",
    "          \n",
    "        # make all values other than confidence ints\n",
    "        if i is not 1 and i is not 5:\n",
    "            pred[i] = int(pred[i])\n",
    "      \n",
    "        # separate out our boxes\n",
    "        pred_box_1 = pred[:5]\n",
    "        pred_box_2 = pred[5:]\n",
    "        #       print(\"1:\", pred_box_1)\n",
    "        #       print(\"2:\", pred_box_2)\n",
    "\n",
    "        # initialize our string\n",
    "        predictionString = \"\"\n",
    "      \n",
    "        # if we have a prediction for box 1 turn it into a string\n",
    "        if pred_box_1[0] > THRESHOLD:\n",
    "            predictionString = \" \".join(str(x) for x in pred_box_1)\n",
    "        \n",
    "        # if we have a prediction for box 2 turn it into a string and append it to our existing string        \n",
    "        if pred_box_2[0]  > THRESHOLD:\n",
    "            predString_2 = \" \".join(str(x) for x in pred_box_2)\n",
    "            predictionString += predString2\n",
    "\n",
    "        #       print(predictionString)\n",
    "\n",
    "        # remove the extension from the filename\n",
    "        filename = filename.split('.')[0]\n",
    "        # add the prediction to the dictionary\n",
    "        submission_dict[filename] = predictionString\n",
    "\n",
    "        # stop if we've got them all\n",
    "        if len(submission_dict) >= len(test_filenames):\n",
    "            break\n",
    "\n",
    "print(\"Done Predicting!\")  \n",
    "  \n",
    "sub = pd.DataFrame.from_dict(submission_dict,orient='index')\n",
    "sub.index.names = ['patientId']\n",
    "sub.columns = ['PredictionString']\n",
    "sub.to_csv('submission.csv')     "
   ]
  },
  {
   "cell_type": "code",
   "execution_count": 96,
   "metadata": {
    "colab": {
     "base_uri": "https://localhost:8080/",
     "height": 36
    },
    "colab_type": "code",
    "id": "rhzaMTVrFqDo",
    "outputId": "94dcb136-48a2-494d-b090-e54c631bd15e"
   },
   "outputs": [
    {
     "name": "stdout",
     "output_type": "stream",
     "text": [
      "Successfully submitted to RSNA Pneumonia Detection Challenge"
     ]
    }
   ],
   "source": [
    "!kaggle competitions submit -c rsna-pneumonia-detection-challenge -f submission.csv -m \"Colab YOLO size 384x384 take 1\""
   ]
  },
  {
   "cell_type": "code",
   "execution_count": 89,
   "metadata": {
    "colab": {
     "base_uri": "https://localhost:8080/",
     "height": 54
    },
    "colab_type": "code",
    "id": "s86SbZpdFrRS",
    "outputId": "c51c1de3-ef88-45d2-df19-b91c3ad20bd3"
   },
   "outputs": [
    {
     "name": "stdout",
     "output_type": "stream",
     "text": [
      "File ID: 1UMGDvYUVDs1FmK1n8U4SH7r0bHNLs2o_\n"
     ]
    },
    {
     "data": {
      "text/plain": [
       "{'id': '1UMGDvYUVDs1FmK1n8U4SH7r0bHNLs2o_'}"
      ]
     },
     "execution_count": 89,
     "metadata": {
      "tags": []
     },
     "output_type": "execute_result"
    }
   ],
   "source": [
    "save_file_to_drive(\"submission.csv\", \"submission.csv\")\n",
    "# save_file_to_drive(CHECKPOINT_PATH, CHECKPOINT_PATH)"
   ]
  }
 ],
 "metadata": {
  "accelerator": "GPU",
  "colab": {
   "collapsed_sections": [],
   "name": "YOLO.ipynb",
   "provenance": [],
   "version": "0.3.2"
  },
  "kernelspec": {
   "display_name": "Python 3",
   "language": "python",
   "name": "python3"
  },
  "language_info": {
   "codemirror_mode": {
    "name": "ipython",
    "version": 3
   },
   "file_extension": ".py",
   "mimetype": "text/x-python",
   "name": "python",
   "nbconvert_exporter": "python",
   "pygments_lexer": "ipython3",
   "version": "3.6.5"
  }
 },
 "nbformat": 4,
 "nbformat_minor": 1
}
