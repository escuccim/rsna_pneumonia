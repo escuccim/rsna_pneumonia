{
  "nbformat": 4,
  "nbformat_minor": 0,
  "metadata": {
    "colab": {
      "name": "YOLO.ipynb",
      "version": "0.3.2",
      "provenance": [],
      "collapsed_sections": []
    },
    "kernelspec": {
      "display_name": "Python 3",
      "language": "python",
      "name": "python3"
    },
    "accelerator": "GPU"
  },
  "cells": [
    {
      "metadata": {
        "id": "T5FfS4qA4NLL",
        "colab_type": "code",
        "colab": {}
      },
      "cell_type": "code",
      "source": [
        "# install dependencies not included by Colab\n",
        "# use pip3 to ensure compatibility w/ Google Deep Learning Images \n",
        "!pip3 install -q pydicom \n",
        "!pip3 install -q imgaug \n",
        "!pip3 install -q kaggle\n",
        "!pip3 install -q tqdm "
      ],
      "execution_count": 0,
      "outputs": []
    },
    {
      "metadata": {
        "id": "SyfCUf7N4NMZ",
        "colab_type": "code",
        "colab": {
          "base_uri": "https://localhost:8080/",
          "height": 36
        },
        "outputId": "c10254d0-d6fa-4896-a5b4-195f6463869f"
      },
      "cell_type": "code",
      "source": [
        "import os\n",
        "import csv\n",
        "import random\n",
        "import pydicom\n",
        "import numpy as np\n",
        "import pandas as pd\n",
        "from skimage import measure\n",
        "from skimage.transform import resize\n",
        "from keras import layers\n",
        "import tensorflow as tf\n",
        "from tensorflow import keras\n",
        "\n",
        "from matplotlib import pyplot as plt"
      ],
      "execution_count": 2,
      "outputs": [
        {
          "output_type": "stream",
          "text": [
            "Using TensorFlow backend.\n"
          ],
          "name": "stderr"
        }
      ]
    },
    {
      "metadata": {
        "id": "9OhavJ3x4NNb",
        "colab_type": "code",
        "colab": {}
      },
      "cell_type": "code",
      "source": [
        "from google.colab import auth\n",
        "from googleapiclient.http import MediaFileUpload\n",
        "from googleapiclient.discovery import build\n",
        "\n",
        "auth.authenticate_user()\n",
        "\n",
        "drive_service = build('drive', 'v3')\n",
        "\n",
        "def save_file_to_drive(name, path):\n",
        "    file_metadata = {\n",
        "      'name': name,\n",
        "      'mimeType': 'application/octet-stream'\n",
        "     }\n",
        "\n",
        "    media = MediaFileUpload(path, \n",
        "                    mimetype='application/octet-stream',\n",
        "                    resumable=True)\n",
        "\n",
        "    created = drive_service.files().create(body=file_metadata,\n",
        "                                   media_body=media,\n",
        "                                   fields='id').execute()\n",
        "\n",
        "    print('File ID: {}'.format(created.get('id')))\n",
        "\n",
        "    return created"
      ],
      "execution_count": 0,
      "outputs": []
    },
    {
      "metadata": {
        "id": "dhCbRHYw4NOI",
        "colab_type": "code",
        "colab": {}
      },
      "cell_type": "code",
      "source": [
        "# enter your Kaggle credentionals here\n",
        "os.environ['KAGGLE_USERNAME']=\"skooch\"\n",
        "os.environ['KAGGLE_KEY']=\"42f8a02ee92cc773d1dbe66565673ad3\""
      ],
      "execution_count": 0,
      "outputs": []
    },
    {
      "metadata": {
        "id": "vhZAfaEJ58_k",
        "colab_type": "code",
        "colab": {
          "base_uri": "https://localhost:8080/",
          "height": 36
        },
        "outputId": "187f09d9-ec43-4f8e-c481-13e001533d34"
      },
      "cell_type": "code",
      "source": [
        "!ls"
      ],
      "execution_count": 5,
      "outputs": [
        {
          "output_type": "stream",
          "text": [
            "adc.json  sample_data\r\n"
          ],
          "name": "stdout"
        }
      ]
    },
    {
      "metadata": {
        "id": "vnha8-rH40dw",
        "colab_type": "code",
        "colab": {
          "base_uri": "https://localhost:8080/",
          "height": 352
        },
        "outputId": "3bee0766-13f0-4087-b209-4c0d1a6aac63"
      },
      "cell_type": "code",
      "source": [
        "# If you are unable to download the competition dataset, check to see if you have \n",
        "# accepted the user agreement on the competition website. \n",
        "!kaggle competitions download -c rsna-pneumonia-detection-challenge"
      ],
      "execution_count": 6,
      "outputs": [
        {
          "output_type": "stream",
          "text": [
            "Downloading GCP%20Credits%20Request%20Link%20-%20RSNA.txt to /content\r\n",
            "\r  0%|                                                | 0.00/55.0 [00:00<?, ?B/s]\r\n",
            "100%|████████████████████████████████████████| 55.0/55.0 [00:00<00:00, 39.1kB/s]\n",
            "Downloading stage_1_detailed_class_info.csv.zip to /content\n",
            "  0%|                                                | 0.00/561k [00:00<?, ?B/s]\n",
            "100%|████████████████████████████████████████| 561k/561k [00:00<00:00, 83.8MB/s]\n",
            "Downloading stage_1_sample_submission.csv to /content\n",
            "  0%|                                               | 0.00/51.8k [00:00<?, ?B/s]\n",
            "100%|██████████████████████████████████████| 51.8k/51.8k [00:00<00:00, 32.4MB/s]\n",
            "Downloading stage_1_train_labels.csv.zip to /content\n",
            "  0%|                                                | 0.00/634k [00:00<?, ?B/s]\n",
            "100%|████████████████████████████████████████| 634k/634k [00:00<00:00, 51.7MB/s]\n",
            "Downloading stage_1_test_images.zip to /content\n",
            " 96%|██████████████████████████████████████▎ | 121M/126M [00:03<00:00, 51.3MB/s]\n",
            "100%|████████████████████████████████████████| 126M/126M [00:03<00:00, 39.8MB/s]\n",
            "Downloading stage_1_train_images.zip to /content\n",
            "100%|█████████████████████████████████████▉| 3.16G/3.17G [01:07<00:00, 57.5MB/s]\n",
            "100%|██████████████████████████████████████| 3.17G/3.17G [01:07<00:00, 50.0MB/s]\n"
          ],
          "name": "stdout"
        }
      ]
    },
    {
      "metadata": {
        "id": "-fY1NskV41oa",
        "colab_type": "code",
        "colab": {}
      },
      "cell_type": "code",
      "source": [
        "# unzipping takes a few minutes\n",
        "!unzip -q -o stage_1_test_images.zip -d stage_1_test_images\n",
        "!unzip -q -o stage_1_train_images.zip -d stage_1_train_images\n",
        "!unzip -q -o stage_1_train_labels.csv.zip"
      ],
      "execution_count": 0,
      "outputs": []
    },
    {
      "metadata": {
        "id": "icV9Grug46V2",
        "colab_type": "text"
      },
      "cell_type": "markdown",
      "source": [
        "## Load Data"
      ]
    },
    {
      "metadata": {
        "id": "7PWuyNto4NO9",
        "colab_type": "code",
        "colab": {
          "base_uri": "https://localhost:8080/",
          "height": 36
        },
        "outputId": "3e638037-4006-477d-82a8-18fd15e61880"
      },
      "cell_type": "code",
      "source": [
        "ROOT_DIR = \"./\"\n",
        "\n",
        "train_dicom_dir = os.path.join(ROOT_DIR, 'stage_1_train_images')\n",
        "test_dicom_dir = os.path.join(ROOT_DIR, 'stage_1_test_images')\n",
        "print(\"Train dir:\", train_dicom_dir)"
      ],
      "execution_count": 8,
      "outputs": [
        {
          "output_type": "stream",
          "text": [
            "Train dir: ./stage_1_train_images\n"
          ],
          "name": "stdout"
        }
      ]
    },
    {
      "metadata": {
        "id": "KldfBIBh4NPl",
        "colab_type": "code",
        "colab": {}
      },
      "cell_type": "code",
      "source": [
        "# empty dictionary\n",
        "nodule_locations = {}\n",
        "# load table\n",
        "with open('./stage_1_train_labels.csv', mode='r') as infile:\n",
        "    # open reader\n",
        "    reader = csv.reader(infile)\n",
        "    # skip header\n",
        "    next(reader, None)\n",
        "    # loop through rows\n",
        "    for rows in reader:\n",
        "        # retrieve information\n",
        "        filename = rows[0]\n",
        "        location = rows[1:5]\n",
        "        nodule = rows[5]\n",
        "        \n",
        "        # set default values\n",
        "        if filename not in nodule_locations:\n",
        "            nodule_locations[filename] = [0,0,0,0,0,0,0,0,0,0]\n",
        "        \n",
        "        # if the row contains a nodule add the location\n",
        "        if nodule == '1':\n",
        "            # convert string to float to int\n",
        "            location = [1] + [int(float(i)) for i in location]\n",
        "            \n",
        "            # get the current label\n",
        "            current_loc = nodule_locations[filename]\n",
        "            \n",
        "            # if current label is 0 overwrite it\n",
        "            if current_loc[0] == 0:\n",
        "                nodule_locations[filename][:5] = location\n",
        "            # else add the new location to the end\n",
        "            else:\n",
        "                nodule_locations[filename][5:] = location"
      ],
      "execution_count": 0,
      "outputs": []
    },
    {
      "metadata": {
        "id": "qiUQfGnb4NRC",
        "colab_type": "code",
        "colab": {
          "base_uri": "https://localhost:8080/",
          "height": 54
        },
        "outputId": "8cf4cd3c-759a-463f-a196-6b74ed3f6988"
      },
      "cell_type": "code",
      "source": [
        "# load and shuffle filenames\n",
        "folder = train_dicom_dir\n",
        "filenames = os.listdir(folder)\n",
        "random.shuffle(filenames)\n",
        "# split into train and validation filenames\n",
        "n_valid_samples = 2560\n",
        "train_filenames = filenames[n_valid_samples:]\n",
        "valid_filenames = filenames[:n_valid_samples]\n",
        "print('n train samples', len(train_filenames))\n",
        "print('n valid samples', len(valid_filenames))\n",
        "n_train_samples = len(filenames) - n_valid_samples"
      ],
      "execution_count": 10,
      "outputs": [
        {
          "output_type": "stream",
          "text": [
            "n train samples 23124\n",
            "n valid samples 2560\n"
          ],
          "name": "stdout"
        }
      ]
    },
    {
      "metadata": {
        "id": "cTP4PetE5BVz",
        "colab_type": "text"
      },
      "cell_type": "markdown",
      "source": [
        "## Create Model"
      ]
    },
    {
      "metadata": {
        "id": "LEVAkuNn4NRk",
        "colab_type": "code",
        "colab": {}
      },
      "cell_type": "code",
      "source": [
        "BATCH_SIZE = 16\n",
        "IMAGE_SIZE = 384\n",
        "CHECKPOINT_PATH = \"model2.h5\""
      ],
      "execution_count": 0,
      "outputs": []
    },
    {
      "metadata": {
        "id": "c9DF3PS-4NR8",
        "colab_type": "code",
        "colab": {}
      },
      "cell_type": "code",
      "source": [
        "class generator(keras.utils.Sequence):\n",
        "    \n",
        "    def __init__(self, folder, filenames, nodule_locations=None, batch_size=BATCH_SIZE, image_size=IMAGE_SIZE, shuffle=True, predict=False):\n",
        "        self.folder = folder\n",
        "        self.filenames = filenames\n",
        "        self.nodule_locations = nodule_locations\n",
        "        self.batch_size = batch_size\n",
        "        self.image_size = image_size\n",
        "        self.shuffle = shuffle\n",
        "        self.predict = predict\n",
        "        self.on_epoch_end()\n",
        "        \n",
        "    def __load__(self, filename):\n",
        "        # load dicom file as numpy array\n",
        "        img = pydicom.dcmread(os.path.join(self.folder, filename)).pixel_array\n",
        "        # create empty mask\n",
        "        msk = np.zeros(img.shape)\n",
        "        # get filename without extension\n",
        "        filename = filename.split('.')[0]\n",
        "        # if image contains nodules\n",
        "        if filename in nodule_locations:\n",
        "            # get the location\n",
        "            msk = nodule_locations[filename]\n",
        "            # make sure it's the right length, if not right pad with 0s\n",
        "            \n",
        "        # resize both image and mask\n",
        "        img = resize(img, (self.image_size, self.image_size), mode='reflect')\n",
        "        # add trailing channel dimension\n",
        "        img = np.expand_dims(img, -1)\n",
        "        return img, msk\n",
        "    \n",
        "    def __loadpredict__(self, filename):\n",
        "        # load dicom file as numpy array\n",
        "        img = pydicom.dcmread(os.path.join(self.folder, filename)).pixel_array\n",
        "        # resize image\n",
        "        img = resize(img, (self.image_size, self.image_size), mode='reflect')\n",
        "        # add trailing channel dimension\n",
        "        img = np.expand_dims(img, -1)\n",
        "        return img\n",
        "        \n",
        "    def __getitem__(self, index):\n",
        "        # select batch\n",
        "        filenames = self.filenames[index*self.batch_size:(index+1)*self.batch_size]\n",
        "        # predict mode: return images and filenames\n",
        "        if self.predict:\n",
        "            # load files\n",
        "            imgs = [self.__loadpredict__(filename) for filename in filenames]\n",
        "            # create numpy batch\n",
        "            imgs = np.array(imgs)\n",
        "            return imgs, filenames\n",
        "        # train mode: return images and masks\n",
        "        else:\n",
        "            # load files\n",
        "            items = [self.__load__(filename) for filename in filenames]\n",
        "            # unzip images and masks\n",
        "            imgs, msks = zip(*items)\n",
        "            # create numpy batch\n",
        "            imgs = np.array(imgs)\n",
        "            msks = np.array(msks)\n",
        "            return imgs, msks\n",
        "        \n",
        "    def on_epoch_end(self):\n",
        "        if self.shuffle:\n",
        "            random.shuffle(self.filenames)\n",
        "        \n",
        "    def __len__(self):\n",
        "        if self.predict:\n",
        "            # return everything\n",
        "            return int(np.ceil(len(self.filenames) / self.batch_size))\n",
        "        else:\n",
        "            # return full batches only\n",
        "            return int(len(self.filenames) / self.batch_size)"
      ],
      "execution_count": 0,
      "outputs": []
    },
    {
      "metadata": {
        "id": "VhbpDrJW4NSP",
        "colab_type": "text"
      },
      "cell_type": "markdown",
      "source": [
        "## Create Network"
      ]
    },
    {
      "metadata": {
        "id": "Ug55aLiO4NSX",
        "colab_type": "code",
        "colab": {}
      },
      "cell_type": "code",
      "source": [
        "def _conv(filters, inputs, layers=3):\n",
        "    x = inputs\n",
        "    for _ in range(layers):\n",
        "        x = keras.layers.BatchNormalization(momentum=0.9)(x)\n",
        "        x = keras.layers.LeakyReLU(0)(x)\n",
        "        x = keras.layers.Conv2D(filters, 3, padding='same', use_bias=False)(x)\n",
        "    \n",
        "    return x\n",
        "\n",
        "def _downsample(channels, inputs):\n",
        "    x = keras.layers.BatchNormalization(momentum=0.9)(inputs)\n",
        "    x = keras.layers.LeakyReLU(0)(x)\n",
        "    x = keras.layers.Conv2D(channels, 1, padding='same', use_bias=False)(x)\n",
        "    x = keras.layers.MaxPool2D(2)(x)\n",
        "    return x\n",
        "\n",
        "def create_network(input_size, channels, n_blocks=2, depth=5):\n",
        "    inputs = keras.Input(shape=(input_size, input_size, 1))\n",
        "    x = keras.layers.Conv2D(channels, 3, padding='same', use_bias=False)(inputs)\n",
        "    \n",
        "    # residual blocks\n",
        "    for d in range(depth):\n",
        "        channels = channels * 2\n",
        "        if channels > 512:\n",
        "            channels = 512\n",
        "        \n",
        "        x = _downsample(channels, x)\n",
        "        for b in range(n_blocks):\n",
        "            x = _conv(channels, x, layers=2)\n",
        "        \n",
        "    x = _downsample(512, x)\n",
        "    \n",
        "    # output\n",
        "    x = keras.layers.BatchNormalization(momentum=0.9)(x)\n",
        "    x = keras.layers.LeakyReLU(0)(x)\n",
        "    \n",
        "    # 3x3\n",
        "    x = keras.layers.Conv2D(512, (3,3), strides=(1,1), padding='same', activation=None)(x)\n",
        "    x = keras.layers.BatchNormalization(momentum=0.9)(x)\n",
        "    x = keras.layers.LeakyReLU(0)(x)\n",
        "    \n",
        "    # 3x3\n",
        "    x = keras.layers.Conv2D(512, (3,3), strides=(1,1), padding='same', activation=None)(x)\n",
        "    x = keras.layers.BatchNormalization(momentum=0.9)(x)\n",
        "    x = keras.layers.LeakyReLU(0)(x)\n",
        "    \n",
        "    # 1x1\n",
        "    confidences = keras.layers.Conv2D(2, (12,12), strides=(1,1), padding='valid', activation=\"sigmoid\")(x)\n",
        "    bboxes = keras.layers.Conv2D(8, (12,12), strides=(1,1), padding='valid', activation=None)(x)\n",
        "    \n",
        "    outputs = tf.keras.layers.concatenate([confidences, bboxes])\n",
        "    \n",
        "    outputs = keras.layers.Lambda(lambda y: keras.backend.squeeze(outputs, 1))(outputs)\n",
        "    outputs = keras.layers.Lambda(lambda y: keras.backend.squeeze(outputs, 1))(outputs)\n",
        "    \n",
        "    model = keras.Model(inputs=inputs, outputs=outputs)\n",
        "    return model"
      ],
      "execution_count": 0,
      "outputs": []
    },
    {
      "metadata": {
        "id": "aD2ypIEi4NS1",
        "colab_type": "code",
        "colab": {
          "base_uri": "https://localhost:8080/",
          "height": 3275
        },
        "outputId": "b7aa538e-6e71-43eb-d386-f74f899aaf93"
      },
      "cell_type": "code",
      "source": [
        "# define iou or jaccard loss function\n",
        "def iou_loss(y_true, y_pred):\n",
        "    y_true = tf.reshape(y_true, [-1])\n",
        "    y_pred = tf.reshape(y_pred, [-1])\n",
        "    intersection = tf.reduce_sum(y_true * y_pred)\n",
        "    score = (intersection + 1.) / (tf.reduce_sum(y_true) + tf.reduce_sum(y_pred) - intersection + 1.)\n",
        "    return 1 - score\n",
        "\n",
        "# combine bce loss and iou loss\n",
        "def custom_loss(y_true, y_pred):\n",
        "    xe_loss = calc_xe_loss(y_true, y_pred)\n",
        "    mse_loss = calc_mse_loss(y_true, y_pred)\n",
        "    \n",
        "    return xe_loss + mse_loss\n",
        "\n",
        "def calc_xe_loss(y_true, y_pred):\n",
        "    # separate out our boxes\n",
        "    box1_pred = y_pred[:,:5]\n",
        "    box2_pred = y_pred[:,5:]\n",
        "    \n",
        "    box1_true = y_true[:,:5]\n",
        "    box2_true = y_true[:,5:]\n",
        "    \n",
        "    # cross entropy on confidences for both boxes\n",
        "    xe_loss_1 = keras.losses.binary_crossentropy(box1_true[:,0], box1_pred[:,0])\n",
        "    xe_loss_2 = keras.losses.binary_crossentropy(box2_true[:,0], box2_pred[:,0])\n",
        "    \n",
        "    return (0.4 * xe_loss_1) + (0.4 * xe_loss_2)\n",
        "\n",
        "def calc_mse_loss(y_true, y_pred):\n",
        "    # separate out our boxes\n",
        "    box1_pred = y_pred[:,:5]\n",
        "    box2_pred = y_pred[:,5:]\n",
        "    \n",
        "    box1_true = y_true[:,:5]\n",
        "    box2_true = y_true[:,5:]\n",
        "    \n",
        "    # compare the predictions to the truth\n",
        "    mse_loss_1 = keras.losses.mean_squared_error(box1_true[:,1:], box1_pred[:,1:])\n",
        "    mse_loss_2 = keras.losses.mean_squared_error(box2_true[:,1:], box2_pred[:,1:])    \n",
        "    \n",
        "    # if we have truth compare the predictions to the opposite boxes, otherwise use the existing loss\n",
        "    if box1_true[:,3] != 0:\n",
        "      mse_loss_3 = keras.losses.mean_squared_error(box1_true[:,1:], box2_pred[:,1:])\n",
        "    else:\n",
        "      mse_loss_3 = mse_loss_1\n",
        "      \n",
        "    if box2_true[:,3] != 0:\n",
        "      mse_loss_4 = keras.losses.mean_squared_error(box2_true[:,1:], box1_pred[:,1:])\n",
        "    else:\n",
        "      mse_loss_4 = mse_loss_2\n",
        "      \n",
        "    # average the mses and divide to keep it in line with cross entropy\n",
        "    return ((0.25 * mse_loss_1) + (0.25 * mse_loss_2) + (0.25 * mse_loss_3) + (0.25 * mse_loss_4)) / 10000\n",
        "\n",
        "# create network and compiler\n",
        "model = create_network(input_size=IMAGE_SIZE, channels=24, n_blocks=2, depth=4)\n",
        "print(model.summary())\n",
        "\n",
        "model.compile(optimizer='adam',\n",
        "              loss=custom_loss,\n",
        "              metrics=['accuracy', calc_xe_loss, calc_mse_loss])\n",
        "\n",
        "# cosine learning rate annealing\n",
        "def cosine_annealing(x):\n",
        "    lr = 0.005\n",
        "    epochs = 25\n",
        "    return lr*(np.cos(np.pi*x/epochs)+1.)/2\n",
        "  \n",
        "learning_rate = tf.keras.callbacks.LearningRateScheduler(cosine_annealing)\n",
        "checkpoint = keras.callbacks.ModelCheckpoint(CHECKPOINT_PATH, monitor='val_loss', verbose=1, save_best_only=False, save_weights_only=True, mode='auto', period=1)\n",
        "\n",
        "\n",
        "# create train and validation generators\n",
        "folder = train_dicom_dir\n",
        "train_gen = generator(folder, train_filenames, nodule_locations, batch_size=BATCH_SIZE, image_size=IMAGE_SIZE, shuffle=True, predict=False)\n",
        "valid_gen = generator(folder, valid_filenames, nodule_locations, batch_size=BATCH_SIZE, image_size=IMAGE_SIZE, shuffle=False, predict=False)\n"
      ],
      "execution_count": 14,
      "outputs": [
        {
          "output_type": "stream",
          "text": [
            "__________________________________________________________________________________________________\n",
            "Layer (type)                    Output Shape         Param #     Connected to                     \n",
            "==================================================================================================\n",
            "input_1 (InputLayer)            (None, 384, 384, 1)  0                                            \n",
            "__________________________________________________________________________________________________\n",
            "conv2d (Conv2D)                 (None, 384, 384, 24) 216         input_1[0][0]                    \n",
            "__________________________________________________________________________________________________\n",
            "batch_normalization (BatchNorma (None, 384, 384, 24) 96          conv2d[0][0]                     \n",
            "__________________________________________________________________________________________________\n",
            "leaky_re_lu (LeakyReLU)         (None, 384, 384, 24) 0           batch_normalization[0][0]        \n",
            "__________________________________________________________________________________________________\n",
            "conv2d_1 (Conv2D)               (None, 384, 384, 48) 1152        leaky_re_lu[0][0]                \n",
            "__________________________________________________________________________________________________\n",
            "max_pooling2d (MaxPooling2D)    (None, 192, 192, 48) 0           conv2d_1[0][0]                   \n",
            "__________________________________________________________________________________________________\n",
            "batch_normalization_1 (BatchNor (None, 192, 192, 48) 192         max_pooling2d[0][0]              \n",
            "__________________________________________________________________________________________________\n",
            "leaky_re_lu_1 (LeakyReLU)       (None, 192, 192, 48) 0           batch_normalization_1[0][0]      \n",
            "__________________________________________________________________________________________________\n",
            "conv2d_2 (Conv2D)               (None, 192, 192, 48) 20736       leaky_re_lu_1[0][0]              \n",
            "__________________________________________________________________________________________________\n",
            "batch_normalization_2 (BatchNor (None, 192, 192, 48) 192         conv2d_2[0][0]                   \n",
            "__________________________________________________________________________________________________\n",
            "leaky_re_lu_2 (LeakyReLU)       (None, 192, 192, 48) 0           batch_normalization_2[0][0]      \n",
            "__________________________________________________________________________________________________\n",
            "conv2d_3 (Conv2D)               (None, 192, 192, 48) 20736       leaky_re_lu_2[0][0]              \n",
            "__________________________________________________________________________________________________\n",
            "batch_normalization_3 (BatchNor (None, 192, 192, 48) 192         conv2d_3[0][0]                   \n",
            "__________________________________________________________________________________________________\n",
            "leaky_re_lu_3 (LeakyReLU)       (None, 192, 192, 48) 0           batch_normalization_3[0][0]      \n",
            "__________________________________________________________________________________________________\n",
            "conv2d_4 (Conv2D)               (None, 192, 192, 48) 20736       leaky_re_lu_3[0][0]              \n",
            "__________________________________________________________________________________________________\n",
            "batch_normalization_4 (BatchNor (None, 192, 192, 48) 192         conv2d_4[0][0]                   \n",
            "__________________________________________________________________________________________________\n",
            "leaky_re_lu_4 (LeakyReLU)       (None, 192, 192, 48) 0           batch_normalization_4[0][0]      \n",
            "__________________________________________________________________________________________________\n",
            "conv2d_5 (Conv2D)               (None, 192, 192, 48) 20736       leaky_re_lu_4[0][0]              \n",
            "__________________________________________________________________________________________________\n",
            "batch_normalization_5 (BatchNor (None, 192, 192, 48) 192         conv2d_5[0][0]                   \n",
            "__________________________________________________________________________________________________\n",
            "leaky_re_lu_5 (LeakyReLU)       (None, 192, 192, 48) 0           batch_normalization_5[0][0]      \n",
            "__________________________________________________________________________________________________\n",
            "conv2d_6 (Conv2D)               (None, 192, 192, 96) 4608        leaky_re_lu_5[0][0]              \n",
            "__________________________________________________________________________________________________\n",
            "max_pooling2d_1 (MaxPooling2D)  (None, 96, 96, 96)   0           conv2d_6[0][0]                   \n",
            "__________________________________________________________________________________________________\n",
            "batch_normalization_6 (BatchNor (None, 96, 96, 96)   384         max_pooling2d_1[0][0]            \n",
            "__________________________________________________________________________________________________\n",
            "leaky_re_lu_6 (LeakyReLU)       (None, 96, 96, 96)   0           batch_normalization_6[0][0]      \n",
            "__________________________________________________________________________________________________\n",
            "conv2d_7 (Conv2D)               (None, 96, 96, 96)   82944       leaky_re_lu_6[0][0]              \n",
            "__________________________________________________________________________________________________\n",
            "batch_normalization_7 (BatchNor (None, 96, 96, 96)   384         conv2d_7[0][0]                   \n",
            "__________________________________________________________________________________________________\n",
            "leaky_re_lu_7 (LeakyReLU)       (None, 96, 96, 96)   0           batch_normalization_7[0][0]      \n",
            "__________________________________________________________________________________________________\n",
            "conv2d_8 (Conv2D)               (None, 96, 96, 96)   82944       leaky_re_lu_7[0][0]              \n",
            "__________________________________________________________________________________________________\n",
            "batch_normalization_8 (BatchNor (None, 96, 96, 96)   384         conv2d_8[0][0]                   \n",
            "__________________________________________________________________________________________________\n",
            "leaky_re_lu_8 (LeakyReLU)       (None, 96, 96, 96)   0           batch_normalization_8[0][0]      \n",
            "__________________________________________________________________________________________________\n",
            "conv2d_9 (Conv2D)               (None, 96, 96, 96)   82944       leaky_re_lu_8[0][0]              \n",
            "__________________________________________________________________________________________________\n",
            "batch_normalization_9 (BatchNor (None, 96, 96, 96)   384         conv2d_9[0][0]                   \n",
            "__________________________________________________________________________________________________\n",
            "leaky_re_lu_9 (LeakyReLU)       (None, 96, 96, 96)   0           batch_normalization_9[0][0]      \n",
            "__________________________________________________________________________________________________\n",
            "conv2d_10 (Conv2D)              (None, 96, 96, 96)   82944       leaky_re_lu_9[0][0]              \n",
            "__________________________________________________________________________________________________\n",
            "batch_normalization_10 (BatchNo (None, 96, 96, 96)   384         conv2d_10[0][0]                  \n",
            "__________________________________________________________________________________________________\n",
            "leaky_re_lu_10 (LeakyReLU)      (None, 96, 96, 96)   0           batch_normalization_10[0][0]     \n",
            "__________________________________________________________________________________________________\n",
            "conv2d_11 (Conv2D)              (None, 96, 96, 192)  18432       leaky_re_lu_10[0][0]             \n",
            "__________________________________________________________________________________________________\n",
            "max_pooling2d_2 (MaxPooling2D)  (None, 48, 48, 192)  0           conv2d_11[0][0]                  \n",
            "__________________________________________________________________________________________________\n",
            "batch_normalization_11 (BatchNo (None, 48, 48, 192)  768         max_pooling2d_2[0][0]            \n",
            "__________________________________________________________________________________________________\n",
            "leaky_re_lu_11 (LeakyReLU)      (None, 48, 48, 192)  0           batch_normalization_11[0][0]     \n",
            "__________________________________________________________________________________________________\n",
            "conv2d_12 (Conv2D)              (None, 48, 48, 192)  331776      leaky_re_lu_11[0][0]             \n",
            "__________________________________________________________________________________________________\n",
            "batch_normalization_12 (BatchNo (None, 48, 48, 192)  768         conv2d_12[0][0]                  \n",
            "__________________________________________________________________________________________________\n",
            "leaky_re_lu_12 (LeakyReLU)      (None, 48, 48, 192)  0           batch_normalization_12[0][0]     \n",
            "__________________________________________________________________________________________________\n",
            "conv2d_13 (Conv2D)              (None, 48, 48, 192)  331776      leaky_re_lu_12[0][0]             \n",
            "__________________________________________________________________________________________________\n",
            "batch_normalization_13 (BatchNo (None, 48, 48, 192)  768         conv2d_13[0][0]                  \n",
            "__________________________________________________________________________________________________\n",
            "leaky_re_lu_13 (LeakyReLU)      (None, 48, 48, 192)  0           batch_normalization_13[0][0]     \n",
            "__________________________________________________________________________________________________\n",
            "conv2d_14 (Conv2D)              (None, 48, 48, 192)  331776      leaky_re_lu_13[0][0]             \n",
            "__________________________________________________________________________________________________\n",
            "batch_normalization_14 (BatchNo (None, 48, 48, 192)  768         conv2d_14[0][0]                  \n",
            "__________________________________________________________________________________________________\n",
            "leaky_re_lu_14 (LeakyReLU)      (None, 48, 48, 192)  0           batch_normalization_14[0][0]     \n",
            "__________________________________________________________________________________________________\n",
            "conv2d_15 (Conv2D)              (None, 48, 48, 192)  331776      leaky_re_lu_14[0][0]             \n",
            "__________________________________________________________________________________________________\n",
            "batch_normalization_15 (BatchNo (None, 48, 48, 192)  768         conv2d_15[0][0]                  \n",
            "__________________________________________________________________________________________________\n",
            "leaky_re_lu_15 (LeakyReLU)      (None, 48, 48, 192)  0           batch_normalization_15[0][0]     \n",
            "__________________________________________________________________________________________________\n",
            "conv2d_16 (Conv2D)              (None, 48, 48, 384)  73728       leaky_re_lu_15[0][0]             \n",
            "__________________________________________________________________________________________________\n",
            "max_pooling2d_3 (MaxPooling2D)  (None, 24, 24, 384)  0           conv2d_16[0][0]                  \n",
            "__________________________________________________________________________________________________\n",
            "batch_normalization_16 (BatchNo (None, 24, 24, 384)  1536        max_pooling2d_3[0][0]            \n",
            "__________________________________________________________________________________________________\n",
            "leaky_re_lu_16 (LeakyReLU)      (None, 24, 24, 384)  0           batch_normalization_16[0][0]     \n",
            "__________________________________________________________________________________________________\n",
            "conv2d_17 (Conv2D)              (None, 24, 24, 384)  1327104     leaky_re_lu_16[0][0]             \n",
            "__________________________________________________________________________________________________\n",
            "batch_normalization_17 (BatchNo (None, 24, 24, 384)  1536        conv2d_17[0][0]                  \n",
            "__________________________________________________________________________________________________\n",
            "leaky_re_lu_17 (LeakyReLU)      (None, 24, 24, 384)  0           batch_normalization_17[0][0]     \n",
            "__________________________________________________________________________________________________\n",
            "conv2d_18 (Conv2D)              (None, 24, 24, 384)  1327104     leaky_re_lu_17[0][0]             \n",
            "__________________________________________________________________________________________________\n",
            "batch_normalization_18 (BatchNo (None, 24, 24, 384)  1536        conv2d_18[0][0]                  \n",
            "__________________________________________________________________________________________________\n",
            "leaky_re_lu_18 (LeakyReLU)      (None, 24, 24, 384)  0           batch_normalization_18[0][0]     \n",
            "__________________________________________________________________________________________________\n",
            "conv2d_19 (Conv2D)              (None, 24, 24, 384)  1327104     leaky_re_lu_18[0][0]             \n",
            "__________________________________________________________________________________________________\n",
            "batch_normalization_19 (BatchNo (None, 24, 24, 384)  1536        conv2d_19[0][0]                  \n",
            "__________________________________________________________________________________________________\n",
            "leaky_re_lu_19 (LeakyReLU)      (None, 24, 24, 384)  0           batch_normalization_19[0][0]     \n",
            "__________________________________________________________________________________________________\n",
            "conv2d_20 (Conv2D)              (None, 24, 24, 384)  1327104     leaky_re_lu_19[0][0]             \n",
            "__________________________________________________________________________________________________\n",
            "batch_normalization_20 (BatchNo (None, 24, 24, 384)  1536        conv2d_20[0][0]                  \n",
            "__________________________________________________________________________________________________\n",
            "leaky_re_lu_20 (LeakyReLU)      (None, 24, 24, 384)  0           batch_normalization_20[0][0]     \n",
            "__________________________________________________________________________________________________\n",
            "conv2d_21 (Conv2D)              (None, 24, 24, 512)  196608      leaky_re_lu_20[0][0]             \n",
            "__________________________________________________________________________________________________\n",
            "max_pooling2d_4 (MaxPooling2D)  (None, 12, 12, 512)  0           conv2d_21[0][0]                  \n",
            "__________________________________________________________________________________________________\n",
            "batch_normalization_21 (BatchNo (None, 12, 12, 512)  2048        max_pooling2d_4[0][0]            \n",
            "__________________________________________________________________________________________________\n",
            "leaky_re_lu_21 (LeakyReLU)      (None, 12, 12, 512)  0           batch_normalization_21[0][0]     \n",
            "__________________________________________________________________________________________________\n",
            "conv2d_22 (Conv2D)              (None, 12, 12, 512)  2359808     leaky_re_lu_21[0][0]             \n",
            "__________________________________________________________________________________________________\n",
            "batch_normalization_22 (BatchNo (None, 12, 12, 512)  2048        conv2d_22[0][0]                  \n",
            "__________________________________________________________________________________________________\n",
            "leaky_re_lu_22 (LeakyReLU)      (None, 12, 12, 512)  0           batch_normalization_22[0][0]     \n",
            "__________________________________________________________________________________________________\n",
            "conv2d_23 (Conv2D)              (None, 12, 12, 512)  2359808     leaky_re_lu_22[0][0]             \n",
            "__________________________________________________________________________________________________\n",
            "batch_normalization_23 (BatchNo (None, 12, 12, 512)  2048        conv2d_23[0][0]                  \n",
            "__________________________________________________________________________________________________\n",
            "leaky_re_lu_23 (LeakyReLU)      (None, 12, 12, 512)  0           batch_normalization_23[0][0]     \n",
            "__________________________________________________________________________________________________\n",
            "conv2d_24 (Conv2D)              (None, 1, 1, 2)      147458      leaky_re_lu_23[0][0]             \n",
            "__________________________________________________________________________________________________\n",
            "conv2d_25 (Conv2D)              (None, 1, 1, 8)      589832      leaky_re_lu_23[0][0]             \n",
            "__________________________________________________________________________________________________\n",
            "concatenate (Concatenate)       (None, 1, 1, 10)     0           conv2d_24[0][0]                  \n",
            "                                                                 conv2d_25[0][0]                  \n",
            "__________________________________________________________________________________________________\n",
            "lambda (Lambda)                 (None, 1, 10)        0           concatenate[0][0]                \n",
            "__________________________________________________________________________________________________\n",
            "lambda_1 (Lambda)               (None, 10)           0           lambda[0][0]                     \n",
            "==================================================================================================\n",
            "Total params: 12,822,530\n",
            "Trainable params: 12,812,210\n",
            "Non-trainable params: 10,320\n",
            "__________________________________________________________________________________________________\n",
            "None\n"
          ],
          "name": "stdout"
        }
      ]
    },
    {
      "metadata": {
        "id": "emx6oYXndw16",
        "colab_type": "text"
      },
      "cell_type": "markdown",
      "source": [
        ""
      ]
    },
    {
      "metadata": {
        "id": "DunAxyap4NT0",
        "colab_type": "code",
        "colab": {
          "base_uri": "https://localhost:8080/",
          "height": 782
        },
        "outputId": "6b2e29ac-f351-4adc-e1eb-6c7368f3925a"
      },
      "cell_type": "code",
      "source": [
        "history = model.fit_generator(train_gen, validation_data=valid_gen, callbacks=[learning_rate, checkpoint], epochs=10, shuffle=True, verbose=1)"
      ],
      "execution_count": 15,
      "outputs": [
        {
          "output_type": "stream",
          "text": [
            "Epoch 1/10\n",
            "1444/1445 [============================>.] - ETA: 0s - loss: 3.1711 - acc: 0.0456 - calc_xe_loss: 1.1988 - calc_mse_loss: 1.9722\n",
            "Epoch 00001: saving model to model2.h5\n",
            "1445/1445 [==============================] - 1392s 964ms/step - loss: 3.1703 - acc: 0.0456 - calc_xe_loss: 1.1984 - calc_mse_loss: 1.9719 - val_loss: 2.8919 - val_acc: 0.0348 - val_calc_xe_loss: 1.0071 - val_calc_mse_loss: 1.8848\n",
            "Epoch 2/10\n",
            "1444/1445 [============================>.] - ETA: 0s - loss: 2.8378 - acc: 0.0474 - calc_xe_loss: 0.9982 - calc_mse_loss: 1.8397\n",
            "Epoch 00002: saving model to model2.h5\n",
            "1445/1445 [==============================] - 1370s 948ms/step - loss: 2.8362 - acc: 0.0474 - calc_xe_loss: 0.9975 - calc_mse_loss: 1.8387 - val_loss: 2.8228 - val_acc: 0.0352 - val_calc_xe_loss: 1.0234 - val_calc_mse_loss: 1.7994\n",
            "Epoch 3/10\n",
            "1444/1445 [============================>.] - ETA: 0s - loss: 2.7802 - acc: 0.0495 - calc_xe_loss: 0.9866 - calc_mse_loss: 1.7936\n",
            "Epoch 00003: saving model to model2.h5\n",
            "1445/1445 [==============================] - 1369s 947ms/step - loss: 2.7792 - acc: 0.0495 - calc_xe_loss: 0.9863 - calc_mse_loss: 1.7930 - val_loss: 2.8842 - val_acc: 0.0461 - val_calc_xe_loss: 1.0978 - val_calc_mse_loss: 1.7864\n",
            "Epoch 4/10\n",
            "1444/1445 [============================>.] - ETA: 0s - loss: 2.7553 - acc: 0.0486 - calc_xe_loss: 0.9824 - calc_mse_loss: 1.7729\n",
            "Epoch 00004: saving model to model2.h5\n",
            "1445/1445 [==============================] - 1370s 948ms/step - loss: 2.7545 - acc: 0.0486 - calc_xe_loss: 0.9821 - calc_mse_loss: 1.7723 - val_loss: 2.7557 - val_acc: 0.0437 - val_calc_xe_loss: 0.9741 - val_calc_mse_loss: 1.7816\n",
            "Epoch 5/10\n",
            "1444/1445 [============================>.] - ETA: 0s - loss: 2.7421 - acc: 0.0497 - calc_xe_loss: 0.9781 - calc_mse_loss: 1.7640\n",
            "Epoch 00005: saving model to model2.h5\n",
            "1445/1445 [==============================] - 1361s 942ms/step - loss: 2.7419 - acc: 0.0497 - calc_xe_loss: 0.9781 - calc_mse_loss: 1.7638 - val_loss: 2.7796 - val_acc: 0.0457 - val_calc_xe_loss: 0.9922 - val_calc_mse_loss: 1.7873\n",
            "Epoch 6/10\n",
            "1444/1445 [============================>.] - ETA: 0s - loss: 2.7571 - acc: 0.0488 - calc_xe_loss: 0.9891 - calc_mse_loss: 1.7681\n",
            "Epoch 00006: saving model to model2.h5\n",
            "1445/1445 [==============================] - 1367s 946ms/step - loss: 2.7571 - acc: 0.0487 - calc_xe_loss: 0.9891 - calc_mse_loss: 1.7680 - val_loss: 2.7842 - val_acc: 0.0395 - val_calc_xe_loss: 1.0008 - val_calc_mse_loss: 1.7834\n",
            "Epoch 7/10\n",
            "1444/1445 [============================>.] - ETA: 0s - loss: 2.7337 - acc: 0.0496 - calc_xe_loss: 0.9765 - calc_mse_loss: 1.7572\n",
            "Epoch 00007: saving model to model2.h5\n",
            "1445/1445 [==============================] - 1366s 945ms/step - loss: 2.7330 - acc: 0.0496 - calc_xe_loss: 0.9762 - calc_mse_loss: 1.7568 - val_loss: 2.7507 - val_acc: 0.0375 - val_calc_xe_loss: 0.9786 - val_calc_mse_loss: 1.7721\n",
            "Epoch 8/10\n",
            "1444/1445 [============================>.] - ETA: 0s - loss: 2.7074 - acc: 0.0488 - calc_xe_loss: 0.9728 - calc_mse_loss: 1.7346\n",
            "Epoch 00008: saving model to model2.h5\n",
            "1445/1445 [==============================] - 1364s 944ms/step - loss: 2.7062 - acc: 0.0488 - calc_xe_loss: 0.9722 - calc_mse_loss: 1.7340 - val_loss: 2.7149 - val_acc: 0.0406 - val_calc_xe_loss: 0.9687 - val_calc_mse_loss: 1.7462\n",
            "Epoch 9/10\n",
            "1444/1445 [============================>.] - ETA: 0s - loss: 2.7135 - acc: 0.0499 - calc_xe_loss: 0.9715 - calc_mse_loss: 1.7420\n",
            "Epoch 00009: saving model to model2.h5\n",
            "1445/1445 [==============================] - 1344s 930ms/step - loss: 2.7132 - acc: 0.0500 - calc_xe_loss: 0.9715 - calc_mse_loss: 1.7417 - val_loss: 2.7858 - val_acc: 0.0410 - val_calc_xe_loss: 1.0029 - val_calc_mse_loss: 1.7829\n",
            "Epoch 10/10\n",
            "1444/1445 [============================>.] - ETA: 0s - loss: 2.6998 - acc: 0.0494 - calc_xe_loss: 0.9702 - calc_mse_loss: 1.7296\n",
            "Epoch 00010: saving model to model2.h5\n",
            "1445/1445 [==============================] - 1352s 936ms/step - loss: 2.6992 - acc: 0.0494 - calc_xe_loss: 0.9699 - calc_mse_loss: 1.7293 - val_loss: 2.7496 - val_acc: 0.0387 - val_calc_xe_loss: 0.9732 - val_calc_mse_loss: 1.7764\n"
          ],
          "name": "stdout"
        }
      ]
    },
    {
      "metadata": {
        "id": "Mn_YgjP12naH",
        "colab_type": "code",
        "colab": {
          "base_uri": "https://localhost:8080/",
          "height": 1180
        },
        "outputId": "ad83cd92-ed60-40c4-8516-09c3da4e5472"
      },
      "cell_type": "code",
      "source": [
        "history = model.fit_generator(train_gen, validation_data=valid_gen, callbacks=[learning_rate, checkpoint], epochs=9, shuffle=True, verbose=1)"
      ],
      "execution_count": 38,
      "outputs": [
        {
          "output_type": "stream",
          "text": [
            "Epoch 1/9\n",
            "1444/1445 [============================>.] - ETA: 0s - loss: 2.6689 - acc: 0.0510 - calc_xe_loss: 0.9668 - calc_mse_loss: 1.7021\n",
            "Epoch 00001: saving model to model2.h5\n",
            "1445/1445 [==============================] - 1368s 946ms/step - loss: 2.6695 - acc: 0.0510 - calc_xe_loss: 0.9671 - calc_mse_loss: 1.7024 - val_loss: 2.7080 - val_acc: 0.0449 - val_calc_xe_loss: 0.9768 - val_calc_mse_loss: 1.7312\n",
            "Epoch 2/9\n",
            "1444/1445 [============================>.] - ETA: 0s - loss: 2.6525 - acc: 0.0507 - calc_xe_loss: 0.9650 - calc_mse_loss: 1.6875\n",
            "Epoch 00002: saving model to model2.h5\n",
            "1445/1445 [==============================] - 1368s 947ms/step - loss: 2.6527 - acc: 0.0506 - calc_xe_loss: 0.9649 - calc_mse_loss: 1.6878 - val_loss: 2.7261 - val_acc: 0.0480 - val_calc_xe_loss: 0.9760 - val_calc_mse_loss: 1.7501\n",
            "Epoch 3/9\n",
            "1444/1445 [============================>.] - ETA: 0s - loss: 2.6432 - acc: 0.0512 - calc_xe_loss: 0.9643 - calc_mse_loss: 1.6789\n",
            "Epoch 00003: saving model to model2.h5\n",
            "1445/1445 [==============================] - 1371s 949ms/step - loss: 2.6433 - acc: 0.0512 - calc_xe_loss: 0.9643 - calc_mse_loss: 1.6791 - val_loss: 2.6575 - val_acc: 0.0414 - val_calc_xe_loss: 0.9663 - val_calc_mse_loss: 1.6913\n",
            "Epoch 4/9\n",
            "1444/1445 [============================>.] - ETA: 0s - loss: 2.6291 - acc: 0.0508 - calc_xe_loss: 0.9627 - calc_mse_loss: 1.6664\n",
            "Epoch 00004: saving model to model2.h5\n",
            "1445/1445 [==============================] - 1371s 948ms/step - loss: 2.6288 - acc: 0.0508 - calc_xe_loss: 0.9627 - calc_mse_loss: 1.6662 - val_loss: 2.7253 - val_acc: 0.0465 - val_calc_xe_loss: 0.9972 - val_calc_mse_loss: 1.7281\n",
            "Epoch 5/9\n",
            " 556/1445 [==========>...................] - ETA: 13:12 - loss: 2.5682 - acc: 0.0528 - calc_xe_loss: 0.9327 - calc_mse_loss: 1.6356"
          ],
          "name": "stdout"
        },
        {
          "output_type": "error",
          "ename": "KeyboardInterrupt",
          "evalue": "ignored",
          "traceback": [
            "\u001b[0;31m---------------------------------------------------------------------------\u001b[0m",
            "\u001b[0;31mKeyboardInterrupt\u001b[0m                         Traceback (most recent call last)",
            "\u001b[0;32m<ipython-input-38-ca0ae96286b0>\u001b[0m in \u001b[0;36m<module>\u001b[0;34m()\u001b[0m\n\u001b[0;32m----> 1\u001b[0;31m \u001b[0mhistory\u001b[0m \u001b[0;34m=\u001b[0m \u001b[0mmodel\u001b[0m\u001b[0;34m.\u001b[0m\u001b[0mfit_generator\u001b[0m\u001b[0;34m(\u001b[0m\u001b[0mtrain_gen\u001b[0m\u001b[0;34m,\u001b[0m \u001b[0mvalidation_data\u001b[0m\u001b[0;34m=\u001b[0m\u001b[0mvalid_gen\u001b[0m\u001b[0;34m,\u001b[0m \u001b[0mcallbacks\u001b[0m\u001b[0;34m=\u001b[0m\u001b[0;34m[\u001b[0m\u001b[0mlearning_rate\u001b[0m\u001b[0;34m,\u001b[0m \u001b[0mcheckpoint\u001b[0m\u001b[0;34m]\u001b[0m\u001b[0;34m,\u001b[0m \u001b[0mepochs\u001b[0m\u001b[0;34m=\u001b[0m\u001b[0;36m9\u001b[0m\u001b[0;34m,\u001b[0m \u001b[0mshuffle\u001b[0m\u001b[0;34m=\u001b[0m\u001b[0;32mTrue\u001b[0m\u001b[0;34m,\u001b[0m \u001b[0mverbose\u001b[0m\u001b[0;34m=\u001b[0m\u001b[0;36m1\u001b[0m\u001b[0;34m)\u001b[0m\u001b[0;34m\u001b[0m\u001b[0m\n\u001b[0m",
            "\u001b[0;32m/usr/local/lib/python3.6/dist-packages/tensorflow/python/keras/engine/training.py\u001b[0m in \u001b[0;36mfit_generator\u001b[0;34m(self, generator, steps_per_epoch, epochs, verbose, callbacks, validation_data, validation_steps, class_weight, max_queue_size, workers, use_multiprocessing, shuffle, initial_epoch)\u001b[0m\n\u001b[1;32m   1777\u001b[0m         \u001b[0muse_multiprocessing\u001b[0m\u001b[0;34m=\u001b[0m\u001b[0muse_multiprocessing\u001b[0m\u001b[0;34m,\u001b[0m\u001b[0;34m\u001b[0m\u001b[0m\n\u001b[1;32m   1778\u001b[0m         \u001b[0mshuffle\u001b[0m\u001b[0;34m=\u001b[0m\u001b[0mshuffle\u001b[0m\u001b[0;34m,\u001b[0m\u001b[0;34m\u001b[0m\u001b[0m\n\u001b[0;32m-> 1779\u001b[0;31m         initial_epoch=initial_epoch)\n\u001b[0m\u001b[1;32m   1780\u001b[0m \u001b[0;34m\u001b[0m\u001b[0m\n\u001b[1;32m   1781\u001b[0m   def evaluate_generator(self,\n",
            "\u001b[0;32m/usr/local/lib/python3.6/dist-packages/tensorflow/python/keras/engine/training_generator.py\u001b[0m in \u001b[0;36mfit_generator\u001b[0;34m(model, generator, steps_per_epoch, epochs, verbose, callbacks, validation_data, validation_steps, class_weight, max_queue_size, workers, use_multiprocessing, shuffle, initial_epoch)\u001b[0m\n\u001b[1;32m    202\u001b[0m \u001b[0;34m\u001b[0m\u001b[0m\n\u001b[1;32m    203\u001b[0m         outs = model.train_on_batch(\n\u001b[0;32m--> 204\u001b[0;31m             x, y, sample_weight=sample_weight, class_weight=class_weight)\n\u001b[0m\u001b[1;32m    205\u001b[0m \u001b[0;34m\u001b[0m\u001b[0m\n\u001b[1;32m    206\u001b[0m         \u001b[0;32mif\u001b[0m \u001b[0;32mnot\u001b[0m \u001b[0misinstance\u001b[0m\u001b[0;34m(\u001b[0m\u001b[0mouts\u001b[0m\u001b[0;34m,\u001b[0m \u001b[0mlist\u001b[0m\u001b[0;34m)\u001b[0m\u001b[0;34m:\u001b[0m\u001b[0;34m\u001b[0m\u001b[0m\n",
            "\u001b[0;32m/usr/local/lib/python3.6/dist-packages/tensorflow/python/keras/engine/training.py\u001b[0m in \u001b[0;36mtrain_on_batch\u001b[0;34m(self, x, y, sample_weight, class_weight)\u001b[0m\n\u001b[1;32m   1550\u001b[0m \u001b[0;34m\u001b[0m\u001b[0m\n\u001b[1;32m   1551\u001b[0m       \u001b[0mself\u001b[0m\u001b[0;34m.\u001b[0m\u001b[0m_make_train_function\u001b[0m\u001b[0;34m(\u001b[0m\u001b[0;34m)\u001b[0m\u001b[0;34m\u001b[0m\u001b[0m\n\u001b[0;32m-> 1552\u001b[0;31m       \u001b[0moutputs\u001b[0m \u001b[0;34m=\u001b[0m \u001b[0mself\u001b[0m\u001b[0;34m.\u001b[0m\u001b[0mtrain_function\u001b[0m\u001b[0;34m(\u001b[0m\u001b[0mins\u001b[0m\u001b[0;34m)\u001b[0m\u001b[0;34m\u001b[0m\u001b[0m\n\u001b[0m\u001b[1;32m   1553\u001b[0m \u001b[0;34m\u001b[0m\u001b[0m\n\u001b[1;32m   1554\u001b[0m     \u001b[0;32mif\u001b[0m \u001b[0mlen\u001b[0m\u001b[0;34m(\u001b[0m\u001b[0moutputs\u001b[0m\u001b[0;34m)\u001b[0m \u001b[0;34m==\u001b[0m \u001b[0;36m1\u001b[0m\u001b[0;34m:\u001b[0m\u001b[0;34m\u001b[0m\u001b[0m\n",
            "\u001b[0;32m/usr/local/lib/python3.6/dist-packages/tensorflow/python/keras/backend.py\u001b[0m in \u001b[0;36m__call__\u001b[0;34m(self, inputs)\u001b[0m\n\u001b[1;32m   2912\u001b[0m       \u001b[0mself\u001b[0m\u001b[0;34m.\u001b[0m\u001b[0m_make_callable\u001b[0m\u001b[0;34m(\u001b[0m\u001b[0mfeed_arrays\u001b[0m\u001b[0;34m,\u001b[0m \u001b[0mfeed_symbols\u001b[0m\u001b[0;34m,\u001b[0m \u001b[0msymbol_vals\u001b[0m\u001b[0;34m,\u001b[0m \u001b[0msession\u001b[0m\u001b[0;34m)\u001b[0m\u001b[0;34m\u001b[0m\u001b[0m\n\u001b[1;32m   2913\u001b[0m \u001b[0;34m\u001b[0m\u001b[0m\n\u001b[0;32m-> 2914\u001b[0;31m     \u001b[0mfetched\u001b[0m \u001b[0;34m=\u001b[0m \u001b[0mself\u001b[0m\u001b[0;34m.\u001b[0m\u001b[0m_callable_fn\u001b[0m\u001b[0;34m(\u001b[0m\u001b[0;34m*\u001b[0m\u001b[0marray_vals\u001b[0m\u001b[0;34m)\u001b[0m\u001b[0;34m\u001b[0m\u001b[0m\n\u001b[0m\u001b[1;32m   2915\u001b[0m     \u001b[0mself\u001b[0m\u001b[0;34m.\u001b[0m\u001b[0m_call_fetch_callbacks\u001b[0m\u001b[0;34m(\u001b[0m\u001b[0mfetched\u001b[0m\u001b[0;34m[\u001b[0m\u001b[0;34m-\u001b[0m\u001b[0mlen\u001b[0m\u001b[0;34m(\u001b[0m\u001b[0mself\u001b[0m\u001b[0;34m.\u001b[0m\u001b[0m_fetches\u001b[0m\u001b[0;34m)\u001b[0m\u001b[0;34m:\u001b[0m\u001b[0;34m]\u001b[0m\u001b[0;34m)\u001b[0m\u001b[0;34m\u001b[0m\u001b[0m\n\u001b[1;32m   2916\u001b[0m     \u001b[0;32mreturn\u001b[0m \u001b[0mfetched\u001b[0m\u001b[0;34m[\u001b[0m\u001b[0;34m:\u001b[0m\u001b[0mlen\u001b[0m\u001b[0;34m(\u001b[0m\u001b[0mself\u001b[0m\u001b[0;34m.\u001b[0m\u001b[0moutputs\u001b[0m\u001b[0;34m)\u001b[0m\u001b[0;34m]\u001b[0m\u001b[0;34m\u001b[0m\u001b[0m\n",
            "\u001b[0;32m/usr/local/lib/python3.6/dist-packages/tensorflow/python/client/session.py\u001b[0m in \u001b[0;36m__call__\u001b[0;34m(self, *args, **kwargs)\u001b[0m\n\u001b[1;32m   1380\u001b[0m           ret = tf_session.TF_SessionRunCallable(\n\u001b[1;32m   1381\u001b[0m               \u001b[0mself\u001b[0m\u001b[0;34m.\u001b[0m\u001b[0m_session\u001b[0m\u001b[0;34m.\u001b[0m\u001b[0m_session\u001b[0m\u001b[0;34m,\u001b[0m \u001b[0mself\u001b[0m\u001b[0;34m.\u001b[0m\u001b[0m_handle\u001b[0m\u001b[0;34m,\u001b[0m \u001b[0margs\u001b[0m\u001b[0;34m,\u001b[0m \u001b[0mstatus\u001b[0m\u001b[0;34m,\u001b[0m\u001b[0;34m\u001b[0m\u001b[0m\n\u001b[0;32m-> 1382\u001b[0;31m               run_metadata_ptr)\n\u001b[0m\u001b[1;32m   1383\u001b[0m         \u001b[0;32mif\u001b[0m \u001b[0mrun_metadata\u001b[0m\u001b[0;34m:\u001b[0m\u001b[0;34m\u001b[0m\u001b[0m\n\u001b[1;32m   1384\u001b[0m           \u001b[0mproto_data\u001b[0m \u001b[0;34m=\u001b[0m \u001b[0mtf_session\u001b[0m\u001b[0;34m.\u001b[0m\u001b[0mTF_GetBuffer\u001b[0m\u001b[0;34m(\u001b[0m\u001b[0mrun_metadata_ptr\u001b[0m\u001b[0;34m)\u001b[0m\u001b[0;34m\u001b[0m\u001b[0m\n",
            "\u001b[0;31mKeyboardInterrupt\u001b[0m: "
          ]
        }
      ]
    },
    {
      "metadata": {
        "id": "oFTmjjN1Vmn5",
        "colab_type": "code",
        "colab": {}
      },
      "cell_type": "code",
      "source": [
        "# history = model.fit_generator(train_gen, validation_data=valid_gen, callbacks=[learning_rate], epochs=10, shuffle=True, verbose=1)"
      ],
      "execution_count": 0,
      "outputs": []
    },
    {
      "metadata": {
        "id": "Z3Un9SFY8pvZ",
        "colab_type": "code",
        "colab": {
          "base_uri": "https://localhost:8080/",
          "height": 36
        },
        "outputId": "218be27e-47c0-430f-82bb-3d06e902bb38"
      },
      "cell_type": "code",
      "source": [
        "def calculate_iou(boxA, boxB):\n",
        "  # determine the (x, y)-coordinates of the intersection rectangle\n",
        "\txA = max(boxA[1], boxB[1])\n",
        "\tyA = max(boxA[2], boxB[2])\n",
        "\txB = min(boxA[1] + boxA[3], boxB[1] + boxB[3])\n",
        "\tyB = min(boxA[2] + boxA[4], boxB[2] + boxB[4])\n",
        " \n",
        "\t# compute the area of intersection rectangle\n",
        "\tinterArea = max(0, xB - xA + 1) * max(0, yB - yA + 1)\n",
        " \n",
        "\t# compute the area of both the prediction and ground-truth\n",
        "\t# rectangles\n",
        "\tboxAArea = (boxA[3] + 1) * (boxA[4] + 1)\n",
        "\tboxBArea = (boxB[3] + 1) * (boxB[4] + 1)\n",
        " \n",
        "\t# compute the intersection over union by taking the intersection\n",
        "\t# area and dividing it by the sum of prediction + ground-truth\n",
        "\t# areas - the interesection area\n",
        "\tiou = interArea / float(boxAArea + boxBArea - interArea)\n",
        " \n",
        "\t# return the intersection over union value\n",
        "\treturn iou\n",
        "  \n",
        "## check the IOU for validation data\n",
        "counter = 0\n",
        "ious = []\n",
        "for imgs, labels in valid_gen:\n",
        "  counter += 1\n",
        "  \n",
        "  # do our predictions\n",
        "  preds = model.predict(imgs)\n",
        "  \n",
        "  # calculate the IOU\n",
        "  for truth, prediction in zip(labels, preds):\n",
        "    true_box_1 = truth[:5]\n",
        "    true_box_2 = truth[5:]\n",
        "    pred_box_1 = prediction[:5]\n",
        "    pred_box_2 = prediction[5:]\n",
        "    \n",
        "    # we will calculate IOU for all combinations of predictions and truth\n",
        "    iou_1 = calculate_iou(true_box_1, pred_box_1)\n",
        "    iou_2 = calculate_iou(true_box_2, pred_box_2)\n",
        "    iou_3 = calculate_iou(true_box_1, pred_box_2)\n",
        "    iou_4 = calculate_iou(true_box_2, pred_box_1)\n",
        "  \n",
        "    # add the values to a list and use the two highest ones\n",
        "    iou_list = [iou_1, iou_2, iou_3, iou_4]\n",
        "    iou_list.sort()\n",
        "   \n",
        "    ious.append(iou_list[-1])\n",
        "    ious.append(iou_list[-2])\n",
        "  \n",
        "  if counter > 3:\n",
        "    break\n",
        "\n",
        "# print the mean IOU    \n",
        "print(\"Mean IOU:\", np.mean(ious))    "
      ],
      "execution_count": 39,
      "outputs": [
        {
          "output_type": "stream",
          "text": [
            "Mean IOU: 0.012958472459356314\n"
          ],
          "name": "stdout"
        }
      ]
    },
    {
      "metadata": {
        "id": "S74VaFgV4NUE",
        "colab_type": "code",
        "colab": {
          "base_uri": "https://localhost:8080/",
          "height": 265
        },
        "outputId": "286c99cb-27c4-4c45-925a-336edc37a062"
      },
      "cell_type": "code",
      "source": [
        "plt.figure(figsize=(16,4))\n",
        "plt.subplot(141)\n",
        "plt.plot(history.epoch, history.history[\"loss\"], label=\"Train loss\")\n",
        "plt.plot(history.epoch, history.history[\"val_loss\"], label=\"Valid loss\")\n",
        "plt.legend()\n",
        "plt.subplot(142)\n",
        "plt.plot(history.epoch, history.history[\"acc\"], label=\"Train accuracy\")\n",
        "plt.plot(history.epoch, history.history[\"val_acc\"], label=\"Valid accuracy\")\n",
        "plt.legend()\n",
        "plt.subplot(143)\n",
        "plt.plot(history.epoch, history.history[\"calc_xe_loss\"], label=\"XE Loss\")\n",
        "plt.plot(history.epoch, history.history[\"val_calc_xe_loss\"], label=\"Valid XE Loss\")\n",
        "plt.legend()\n",
        "plt.subplot(144)\n",
        "plt.plot(history.epoch, history.history[\"calc_mse_loss\"], label=\"MSE Loss\")\n",
        "plt.plot(history.epoch, history.history[\"val_calc_mse_loss\"], label=\"Valid MSE Loss\")\n",
        "plt.legend()\n",
        "plt.show()"
      ],
      "execution_count": 40,
      "outputs": [
        {
          "output_type": "display_data",
          "data": {
            "image/png": "[encoded data removed]",
            "text/plain": [
              "<matplotlib.figure.Figure at 0x7f40f1309860>"
            ]
          },
          "metadata": {
            "tags": []
          }
        }
      ]
    },
    {
      "metadata": {
        "id": "nJEllBXy4NUW",
        "colab_type": "code",
        "colab": {
          "base_uri": "https://localhost:8080/",
          "height": 36
        },
        "outputId": "88c14d4b-076c-41f9-c643-7fb9b3899885"
      },
      "cell_type": "code",
      "source": [
        "# load and shuffle filenames\n",
        "folder = test_dicom_dir\n",
        "test_filenames = os.listdir(folder)\n",
        "print('n test samples:', len(test_filenames))\n",
        "THRESHOLD = 0.2\n",
        "TEST_BATCH_SIZE = 32\n",
        "\n",
        "# create test generator with predict flag set to True\n",
        "test_gen = generator(folder, test_filenames, None, batch_size=TEST_BATCH_SIZE, image_size=IMAGE_SIZE, shuffle=False, predict=True)\n",
        "\n",
        "submission_dict = {}\n",
        "\n",
        "# loop through testset\n",
        "for imgs, filenames in test_gen:\n",
        "    # predict batch of images\n",
        "    preds = model.predict(imgs)\n",
        "    \n",
        "    for pred, filename in zip(preds, filenames):\n",
        "      # fix some issues with our predictions\n",
        "      for i in range(len(pred)):\n",
        "        # all values should be greater than or equal to 0\n",
        "        if pred[i] < 0:\n",
        "          pred[i] = 0\n",
        "          \n",
        "        # make all values other than confidence ints\n",
        "        if i is not 0 and i is not 5:\n",
        "          pred[i] = int(pred[i])\n",
        "      \n",
        "      # separate out our boxes\n",
        "      pred_box_1 = pred[:5]\n",
        "      pred_box_2 = pred[5:]\n",
        "#       print(\"1:\", pred_box_1)\n",
        "#       print(\"2:\", pred_box_2)\n",
        "      \n",
        "      # initialize our string\n",
        "      predictionString = \"\"\n",
        "      \n",
        "      # if we have a prediction for box 1 turn it into a string\n",
        "      if pred_box_1[0] > THRESHOLD:\n",
        "        predictionString = \" \".join(str(x) for x in pred_box_1)\n",
        "        \n",
        "      # if we have a prediction for box 2 turn it into a string and append it to our existing string        \n",
        "      if pred_box_2[0]  > THRESHOLD:\n",
        "        predString_2 = \" \".join(str(x) for x in pred_box_2)\n",
        "        predictionString = predictionString + \" \" + predString2\n",
        "        \n",
        "#       print(predictionString)\n",
        "\n",
        "      # remove the extension from the filename\n",
        "      filename = filename.split('.')[0]\n",
        "      # add the prediction to the dictionary\n",
        "      submission_dict[filename] = predictionString\n",
        "  \n",
        "    # stop if we've got them all\n",
        "    if len(submission_dict) >= len(test_filenames):\n",
        "      break\n",
        "        \n",
        "print(\"Done Predicting!\")  \n",
        "  \n",
        "sub = pd.DataFrame.from_dict(submission_dict,orient='index')\n",
        "sub.index.names = ['patientId']\n",
        "sub.columns = ['PredictionString']\n",
        "sub.to_csv('submission.csv')     "
      ],
      "execution_count": 0,
      "outputs": [
        {
          "output_type": "stream",
          "text": [
            "n test samples: 1000\n"
          ],
          "name": "stdout"
        }
      ]
    },
    {
      "metadata": {
        "id": "tjdnJK4qfZJ5",
        "colab_type": "code",
        "colab": {
          "base_uri": "https://localhost:8080/",
          "height": 708
        },
        "outputId": "b67a51f5-410b-4758-c911-89333e2eb85f"
      },
      "cell_type": "code",
      "source": [
        "sub[sub.PredictionString != \"\"].head(20)"
      ],
      "execution_count": 30,
      "outputs": [
        {
          "output_type": "execute_result",
          "data": {
            "text/html": [
              "<div>\n",
              "<style scoped>\n",
              "    .dataframe tbody tr th:only-of-type {\n",
              "        vertical-align: middle;\n",
              "    }\n",
              "\n",
              "    .dataframe tbody tr th {\n",
              "        vertical-align: top;\n",
              "    }\n",
              "\n",
              "    .dataframe thead th {\n",
              "        text-align: right;\n",
              "    }\n",
              "</style>\n",
              "<table border=\"1\" class=\"dataframe\">\n",
              "  <thead>\n",
              "    <tr style=\"text-align: right;\">\n",
              "      <th></th>\n",
              "      <th>PredictionString</th>\n",
              "    </tr>\n",
              "    <tr>\n",
              "      <th>patientId</th>\n",
              "      <th></th>\n",
              "    </tr>\n",
              "  </thead>\n",
              "  <tbody>\n",
              "    <tr>\n",
              "      <th>26c94e32-023b-4963-aca3-525ac2752d2c</th>\n",
              "      <td>0.802302 1.0 201.0 162.0 270.0</td>\n",
              "    </tr>\n",
              "    <tr>\n",
              "      <th>1ed9d674-2a7d-40d9-b40d-e754fc49938e</th>\n",
              "      <td>0.36658365 1.0 84.0 70.0 104.0</td>\n",
              "    </tr>\n",
              "    <tr>\n",
              "      <th>1e1c3b02-27fa-42a2-b51b-f46378e09fde</th>\n",
              "      <td>0.8242925 1.0 309.0 214.0 364.0</td>\n",
              "    </tr>\n",
              "    <tr>\n",
              "      <th>006e75c8-1fd9-4a5a-99e7-285addebed55</th>\n",
              "      <td>0.22907762 1.0 77.0 51.0 78.0</td>\n",
              "    </tr>\n",
              "    <tr>\n",
              "      <th>1b0b9b81-dc8b-4b22-aaea-1a985009a522</th>\n",
              "      <td>0.49534616 1.0 112.0 88.0 139.0</td>\n",
              "    </tr>\n",
              "    <tr>\n",
              "      <th>2a54c3ee-7d7f-4c32-9b77-87279b8777a7</th>\n",
              "      <td>0.20589213 0.0 81.0 48.0 75.0</td>\n",
              "    </tr>\n",
              "    <tr>\n",
              "      <th>1dbc0249-4761-4b19-9872-de59673942da</th>\n",
              "      <td>0.59410334 1.0 159.0 115.0 185.0</td>\n",
              "    </tr>\n",
              "    <tr>\n",
              "      <th>26b60f11-48d9-488a-a664-addcdea55ec3</th>\n",
              "      <td>0.59327215 1.0 177.0 121.0 206.0</td>\n",
              "    </tr>\n",
              "    <tr>\n",
              "      <th>12ee00f1-d4ea-4546-a07c-d43280aca538</th>\n",
              "      <td>0.67291844 1.0 283.0 225.0 416.0</td>\n",
              "    </tr>\n",
              "    <tr>\n",
              "      <th>10be8144-046d-478b-8a8d-3b41af8b229b</th>\n",
              "      <td>0.36408216 1.0 83.0 66.0 107.0</td>\n",
              "    </tr>\n",
              "    <tr>\n",
              "      <th>311a559e-bed5-478a-94f5-c1bcf1df939a</th>\n",
              "      <td>0.6660357 1.0 158.0 115.0 196.0</td>\n",
              "    </tr>\n",
              "    <tr>\n",
              "      <th>02743848-e50a-4faf-a3f4-a6215613a23d</th>\n",
              "      <td>0.7523648 1.0 230.0 171.0 299.0</td>\n",
              "    </tr>\n",
              "    <tr>\n",
              "      <th>25957b99-212d-48d2-aef4-ca816f211f0e</th>\n",
              "      <td>0.30598044 1.0 158.0 123.0 201.0</td>\n",
              "    </tr>\n",
              "    <tr>\n",
              "      <th>13752451-7571-4b2a-8f3e-b71a6b6e91a2</th>\n",
              "      <td>0.23015688 0.0 61.0 47.0 73.0</td>\n",
              "    </tr>\n",
              "    <tr>\n",
              "      <th>26b7df45-166c-4337-8264-25fdd45b7c68</th>\n",
              "      <td>0.2734663 1.0 95.0 57.0 99.0</td>\n",
              "    </tr>\n",
              "    <tr>\n",
              "      <th>03cf9ba9-dfbe-47b9-aa96-3e69432d73c3</th>\n",
              "      <td>0.2509748 1.0 83.0 47.0 73.0</td>\n",
              "    </tr>\n",
              "    <tr>\n",
              "      <th>0e533087-5959-46e5-9fa5-95761a7d472f</th>\n",
              "      <td>0.8588022 1.0 268.0 205.0 348.0</td>\n",
              "    </tr>\n",
              "    <tr>\n",
              "      <th>2abca87e-e85f-4415-9016-c11c824220a6</th>\n",
              "      <td>0.76333654 1.0 190.0 124.0 208.0</td>\n",
              "    </tr>\n",
              "    <tr>\n",
              "      <th>1c049d3b-394b-47d6-9b54-405d46db1ad7</th>\n",
              "      <td>0.48139897 0.0 123.0 92.0 148.0</td>\n",
              "    </tr>\n",
              "    <tr>\n",
              "      <th>0572881e-d1dd-4757-a54e-b240b30da946</th>\n",
              "      <td>0.84073293 1.0 132.0 102.0 167.0</td>\n",
              "    </tr>\n",
              "  </tbody>\n",
              "</table>\n",
              "</div>"
            ],
            "text/plain": [
              "                                                      PredictionString\n",
              "patientId                                                             \n",
              "26c94e32-023b-4963-aca3-525ac2752d2c    0.802302 1.0 201.0 162.0 270.0\n",
              "1ed9d674-2a7d-40d9-b40d-e754fc49938e    0.36658365 1.0 84.0 70.0 104.0\n",
              "1e1c3b02-27fa-42a2-b51b-f46378e09fde   0.8242925 1.0 309.0 214.0 364.0\n",
              "006e75c8-1fd9-4a5a-99e7-285addebed55     0.22907762 1.0 77.0 51.0 78.0\n",
              "1b0b9b81-dc8b-4b22-aaea-1a985009a522   0.49534616 1.0 112.0 88.0 139.0\n",
              "2a54c3ee-7d7f-4c32-9b77-87279b8777a7     0.20589213 0.0 81.0 48.0 75.0\n",
              "1dbc0249-4761-4b19-9872-de59673942da  0.59410334 1.0 159.0 115.0 185.0\n",
              "26b60f11-48d9-488a-a664-addcdea55ec3  0.59327215 1.0 177.0 121.0 206.0\n",
              "12ee00f1-d4ea-4546-a07c-d43280aca538  0.67291844 1.0 283.0 225.0 416.0\n",
              "10be8144-046d-478b-8a8d-3b41af8b229b    0.36408216 1.0 83.0 66.0 107.0\n",
              "311a559e-bed5-478a-94f5-c1bcf1df939a   0.6660357 1.0 158.0 115.0 196.0\n",
              "02743848-e50a-4faf-a3f4-a6215613a23d   0.7523648 1.0 230.0 171.0 299.0\n",
              "25957b99-212d-48d2-aef4-ca816f211f0e  0.30598044 1.0 158.0 123.0 201.0\n",
              "13752451-7571-4b2a-8f3e-b71a6b6e91a2     0.23015688 0.0 61.0 47.0 73.0\n",
              "26b7df45-166c-4337-8264-25fdd45b7c68      0.2734663 1.0 95.0 57.0 99.0\n",
              "03cf9ba9-dfbe-47b9-aa96-3e69432d73c3      0.2509748 1.0 83.0 47.0 73.0\n",
              "0e533087-5959-46e5-9fa5-95761a7d472f   0.8588022 1.0 268.0 205.0 348.0\n",
              "2abca87e-e85f-4415-9016-c11c824220a6  0.76333654 1.0 190.0 124.0 208.0\n",
              "1c049d3b-394b-47d6-9b54-405d46db1ad7   0.48139897 0.0 123.0 92.0 148.0\n",
              "0572881e-d1dd-4757-a54e-b240b30da946  0.84073293 1.0 132.0 102.0 167.0"
            ]
          },
          "metadata": {
            "tags": []
          },
          "execution_count": 30
        }
      ]
    },
    {
      "metadata": {
        "id": "rhzaMTVrFqDo",
        "colab_type": "code",
        "colab": {
          "base_uri": "https://localhost:8080/",
          "height": 36
        },
        "outputId": "dce04d3d-076e-429b-97c3-c962b590f5ec"
      },
      "cell_type": "code",
      "source": [
        "!kaggle competitions submit -c rsna-pneumonia-detection-challenge -f submission.csv -m \"Colab YOLO size 384x384 take 2\""
      ],
      "execution_count": 31,
      "outputs": [
        {
          "output_type": "stream",
          "text": [
            "Successfully submitted to RSNA Pneumonia Detection Challenge"
          ],
          "name": "stdout"
        }
      ]
    },
    {
      "metadata": {
        "id": "s86SbZpdFrRS",
        "colab_type": "code",
        "colab": {
          "base_uri": "https://localhost:8080/",
          "height": 54
        },
        "outputId": "12fbf0d3-900e-4be5-da89-215c7329e6b0"
      },
      "cell_type": "code",
      "source": [
        "save_file_to_drive(\"submission.csv\", \"submission.csv\")\n",
        "# save_file_to_drive(CHECKPOINT_PATH, CHECKPOINT_PATH)"
      ],
      "execution_count": 21,
      "outputs": [
        {
          "output_type": "stream",
          "text": [
            "File ID: 1ZANwKbsddpOe_sct9T6Ih3yCLWoTQt5k\n"
          ],
          "name": "stdout"
        },
        {
          "output_type": "execute_result",
          "data": {
            "text/plain": [
              "{'id': '1ZANwKbsddpOe_sct9T6Ih3yCLWoTQt5k'}"
            ]
          },
          "metadata": {
            "tags": []
          },
          "execution_count": 21
        }
      ]
    }
  ]
}