{
  "nbformat": 4,
  "nbformat_minor": 0,
  "metadata": {
    "colab": {
      "name": "cnn-segmentation-connected-components.ipynb",
      "version": "0.3.2",
      "provenance": [],
      "collapsed_sections": []
    },
    "kernelspec": {
      "display_name": "Python 3",
      "language": "python",
      "name": "python3"
    },
    "accelerator": "GPU"
  },
  "cells": [
    {
      "metadata": {
        "id": "sliy7m7L-M-D",
        "colab_type": "text"
      },
      "cell_type": "markdown",
      "source": [
        "# Approach\n",
        "\n",
        "* Firstly a convolutional neural network is used to segment the image, using the bounding boxes directly as a mask. \n",
        "* Secondly connected components is used to separate multiple nodules.\n",
        "* Finally a bounding box is simply drawn around every connected component.\n",
        "\n",
        "# Network\n",
        "\n",
        "* The network consists of a number of residual blocks with convolutions and downsampling blocks with max pooling.\n",
        "* At the end of the network a single upsampling layer converts the output to the same shape as the input.\n",
        "\n",
        "As the input to the network is 256 by 256 (instead of the original 1024 by 1024) and the network downsamples a number of times without any meaningful upsampling (the final upsampling is just to match in 256 by 256 mask) the final prediction is very crude. If the network downsamples 4 times the final bounding boxes can only change with at least 16 pixels."
      ]
    },
    {
      "metadata": {
        "id": "xjzfSdjV-Y3y",
        "colab_type": "code",
        "colab": {}
      },
      "cell_type": "code",
      "source": [
        "# install dependencies not included by Colab\n",
        "# use pip3 to ensure compatibility w/ Google Deep Learning Images \n",
        "!pip3 install -q pydicom \n",
        "!pip3 install -q tqdm \n",
        "!pip3 install -q imgaug \n",
        "!pip3 install -q kaggle"
      ],
      "execution_count": 0,
      "outputs": []
    },
    {
      "metadata": {
        "id": "pu1pks8K-M-G",
        "colab_type": "code",
        "colab": {
          "base_uri": "https://localhost:8080/",
          "height": 34
        },
        "outputId": "0f10700f-938a-4fa2-b279-e4f473ddf35f"
      },
      "cell_type": "code",
      "source": [
        "import os\n",
        "import csv\n",
        "import random\n",
        "import pydicom\n",
        "import numpy as np\n",
        "import pandas as pd\n",
        "from skimage import measure\n",
        "from skimage.transform import resize\n",
        "from keras import layers\n",
        "import tensorflow as tf\n",
        "from tensorflow import keras\n",
        "\n",
        "from matplotlib import pyplot as plt"
      ],
      "execution_count": 2,
      "outputs": [
        {
          "output_type": "stream",
          "text": [
            "Using TensorFlow backend.\n"
          ],
          "name": "stderr"
        }
      ]
    },
    {
      "metadata": {
        "id": "ZFNwjWWc_JgL",
        "colab_type": "code",
        "colab": {}
      },
      "cell_type": "code",
      "source": [
        "from google.colab import auth\n",
        "from googleapiclient.http import MediaFileUpload\n",
        "from googleapiclient.discovery import build\n",
        "\n",
        "auth.authenticate_user()\n",
        "\n",
        "drive_service = build('drive', 'v3')\n",
        "\n",
        "def save_file_to_drive(name, path):\n",
        "  file_metadata = {\n",
        "      'name': name,\n",
        "      'mimeType': 'application/octet-stream'\n",
        "     }\n",
        "\n",
        "  media = MediaFileUpload(path, \n",
        "                    mimetype='application/octet-stream',\n",
        "                    resumable=True)\n",
        "\n",
        "  created = drive_service.files().create(body=file_metadata,\n",
        "                                   media_body=media,\n",
        "                                   fields='id').execute()\n",
        "\n",
        "  print('File ID: {}'.format(created.get('id')))\n",
        "\n",
        "  return created"
      ],
      "execution_count": 0,
      "outputs": []
    },
    {
      "metadata": {
        "id": "ejrE2hQw-fMG",
        "colab_type": "code",
        "colab": {}
      },
      "cell_type": "code",
      "source": [
        "# enter your Kaggle credentionals here\n",
        "os.environ['KAGGLE_USERNAME']=\"skooch\"\n",
        "os.environ['KAGGLE_KEY']=\"42f8a02ee92cc773d1dbe66565673ad3\""
      ],
      "execution_count": 0,
      "outputs": []
    },
    {
      "metadata": {
        "id": "BJskmI-Y-fwY",
        "colab_type": "code",
        "colab": {}
      },
      "cell_type": "code",
      "source": [
        "# Root directory of the project\n",
        "ROOT_DIR = os.path.abspath('./data')\n",
        "\n",
        "# Directory to save logs and trained model\n",
        "MODEL_DIR = os.path.join(ROOT_DIR, 'logs')\n",
        "\n",
        "if not os.path.exists(ROOT_DIR):\n",
        "    os.makedirs(ROOT_DIR)\n",
        "os.chdir(ROOT_DIR)"
      ],
      "execution_count": 0,
      "outputs": []
    },
    {
      "metadata": {
        "id": "-tBhkYuWKWic",
        "colab_type": "code",
        "colab": {}
      },
      "cell_type": "code",
      "source": [
        "!ls"
      ],
      "execution_count": 0,
      "outputs": []
    },
    {
      "metadata": {
        "id": "NonqWakT-jTC",
        "colab_type": "code",
        "colab": {
          "base_uri": "https://localhost:8080/",
          "height": 323
        },
        "outputId": "a37c1b2c-9c09-4d1e-ae46-33162f924159"
      },
      "cell_type": "code",
      "source": [
        "# If you are unable to download the competition dataset, check to see if you have \n",
        "# accepted the user agreement on the competition website. \n",
        "!kaggle competitions download -c rsna-pneumonia-detection-challenge"
      ],
      "execution_count": 7,
      "outputs": [
        {
          "output_type": "stream",
          "text": [
            "Downloading GCP%20Credits%20Request%20Link%20-%20RSNA.txt to /content/data\r\n",
            "\r  0%|                                                | 0.00/55.0 [00:00<?, ?B/s]\r\n",
            "100%|████████████████████████████████████████| 55.0/55.0 [00:00<00:00, 41.7kB/s]\n",
            "Downloading stage_1_detailed_class_info.csv.zip to /content/data\n",
            "  0%|                                                | 0.00/561k [00:00<?, ?B/s]\n",
            "100%|████████████████████████████████████████| 561k/561k [00:00<00:00, 77.7MB/s]\n",
            "Downloading stage_1_sample_submission.csv to /content/data\n",
            "  0%|                                               | 0.00/51.8k [00:00<?, ?B/s]\n",
            "100%|██████████████████████████████████████| 51.8k/51.8k [00:00<00:00, 38.0MB/s]\n",
            "Downloading stage_1_train_labels.csv.zip to /content/data\n",
            "  0%|                                                | 0.00/634k [00:00<?, ?B/s]\n",
            "100%|████████████████████████████████████████| 634k/634k [00:00<00:00, 78.1MB/s]\n",
            "Downloading stage_1_test_images.zip to /content/data\n",
            " 97%|██████████████████████████████████████▉ | 123M/126M [00:03<00:00, 36.0MB/s]\n",
            "100%|████████████████████████████████████████| 126M/126M [00:03<00:00, 33.2MB/s]\n",
            "Downloading stage_1_train_images.zip to /content/data\n",
            "100%|█████████████████████████████████████▉| 3.17G/3.17G [00:38<00:00, 78.6MB/s]\n",
            "100%|██████████████████████████████████████| 3.17G/3.17G [00:39<00:00, 87.2MB/s]\n"
          ],
          "name": "stdout"
        }
      ]
    },
    {
      "metadata": {
        "id": "YHvOAY1M-pzE",
        "colab_type": "code",
        "colab": {}
      },
      "cell_type": "code",
      "source": [
        "# unzipping takes a few minutes\n",
        "!unzip -q -o stage_1_test_images.zip -d stage_1_test_images\n",
        "!unzip -q -o stage_1_train_images.zip -d stage_1_train_images\n",
        "!unzip -q -o stage_1_train_labels.csv.zip"
      ],
      "execution_count": 0,
      "outputs": []
    },
    {
      "metadata": {
        "id": "EQG4ghkH-M-e",
        "colab_type": "text"
      },
      "cell_type": "markdown",
      "source": [
        "# Load nodule locations\n",
        "\n",
        "Table contains [filename : nodule location] pairs per row. \n",
        "* If a filename contains multiple nodules, the table contains multiple rows with the same filename but different nodule locations. \n",
        "* If a filename contains no nodules it contains a single row with an empty nodule location.\n",
        "\n",
        "The code below loads the table and transforms it into a dictionary. \n",
        "* The dictionary uses the filename as key and a list of nodule locations in that filename as value. \n",
        "* If a filename is not present in the dictionary it means that it contains no nodules."
      ]
    },
    {
      "metadata": {
        "id": "67McqwYt-t5W",
        "colab_type": "code",
        "colab": {
          "base_uri": "https://localhost:8080/",
          "height": 34
        },
        "outputId": "1ad0283f-a4cd-46e2-f0c9-db8c487e67d4"
      },
      "cell_type": "code",
      "source": [
        "train_dicom_dir = os.path.join(ROOT_DIR, 'stage_1_train_images')\n",
        "test_dicom_dir = os.path.join(ROOT_DIR, 'stage_1_test_images')\n",
        "print(\"Train dir:\", train_dicom_dir)"
      ],
      "execution_count": 9,
      "outputs": [
        {
          "output_type": "stream",
          "text": [
            "Train dir: /content/data/stage_1_train_images\n"
          ],
          "name": "stdout"
        }
      ]
    },
    {
      "metadata": {
        "id": "HIYblxy8-M-f",
        "colab_type": "code",
        "colab": {}
      },
      "cell_type": "code",
      "source": [
        "# empty dictionary\n",
        "nodule_locations = {}\n",
        "# load table\n",
        "with open('./stage_1_train_labels.csv', mode='r') as infile:\n",
        "    # open reader\n",
        "    reader = csv.reader(infile)\n",
        "    # skip header\n",
        "    next(reader, None)\n",
        "    # loop through rows\n",
        "    for rows in reader:\n",
        "        # retrieve information\n",
        "        filename = rows[0]\n",
        "        location = rows[1:5]\n",
        "        nodule = rows[5]\n",
        "        # if row contains a nodule add label to dictionary\n",
        "        # which contains a list of nodule locations per filename\n",
        "        if nodule == '1':\n",
        "            # convert string to float to int\n",
        "            location = [int(float(i)) for i in location]\n",
        "            # save nodule location in dictionary\n",
        "            if filename in nodule_locations:\n",
        "                nodule_locations[filename].append(location)\n",
        "            else:\n",
        "                nodule_locations[filename] = [location]"
      ],
      "execution_count": 0,
      "outputs": []
    },
    {
      "metadata": {
        "id": "guL6FY9N-M-m",
        "colab_type": "text"
      },
      "cell_type": "markdown",
      "source": [
        "# Load filenames"
      ]
    },
    {
      "metadata": {
        "id": "ebHtuAkP-M-s",
        "colab_type": "code",
        "colab": {
          "base_uri": "https://localhost:8080/",
          "height": 51
        },
        "outputId": "a346987d-148b-460a-9830-e2051f961600"
      },
      "cell_type": "code",
      "source": [
        "# load and shuffle filenames\n",
        "folder = train_dicom_dir\n",
        "filenames = os.listdir(folder)\n",
        "random.shuffle(filenames)\n",
        "# split into train and validation filenames\n",
        "n_valid_samples = 2560\n",
        "train_filenames = filenames[n_valid_samples:]\n",
        "valid_filenames = filenames[:n_valid_samples]\n",
        "print('n train samples', len(train_filenames))\n",
        "print('n valid samples', len(valid_filenames))\n",
        "n_train_samples = len(filenames) - n_valid_samples"
      ],
      "execution_count": 11,
      "outputs": [
        {
          "output_type": "stream",
          "text": [
            "n train samples 23124\n",
            "n valid samples 2560\n"
          ],
          "name": "stdout"
        }
      ]
    },
    {
      "metadata": {
        "id": "XRTP_RT6-M-7",
        "colab_type": "text"
      },
      "cell_type": "markdown",
      "source": [
        " # Data generator\n",
        "\n",
        "The dataset is too large to fit into memory, so we need to create a generator that loads data on the fly.\n",
        "\n",
        "* The generator takes in some filenames, batch_size and other parameters.\n",
        "\n",
        "* The generator outputs a random batch of numpy images and numpy masks.\n",
        "    "
      ]
    },
    {
      "metadata": {
        "id": "mNHOs4vXGdwJ",
        "colab_type": "code",
        "colab": {}
      },
      "cell_type": "code",
      "source": [
        "BATCH_SIZE = 12\n",
        "IMAGE_SIZE = 384\n",
        "CHECKPOINT_PATH = \"model2.h5\""
      ],
      "execution_count": 0,
      "outputs": []
    },
    {
      "metadata": {
        "id": "aD51VT0I-M-9",
        "colab_type": "code",
        "colab": {}
      },
      "cell_type": "code",
      "source": [
        "class generator(keras.utils.Sequence):\n",
        "    \n",
        "    def __init__(self, folder, filenames, nodule_locations=None, batch_size=BATCH_SIZE, image_size=IMAGE_SIZE, shuffle=True, predict=False):\n",
        "        self.folder = folder\n",
        "        self.filenames = filenames\n",
        "        self.nodule_locations = nodule_locations\n",
        "        self.batch_size = batch_size\n",
        "        self.image_size = image_size\n",
        "        self.shuffle = shuffle\n",
        "        self.predict = predict\n",
        "        self.on_epoch_end()\n",
        "        \n",
        "    def __load__(self, filename):\n",
        "        # load dicom file as numpy array\n",
        "        img = pydicom.dcmread(os.path.join(self.folder, filename)).pixel_array\n",
        "        # create empty mask\n",
        "        msk = np.zeros(img.shape)\n",
        "        # get filename without extension\n",
        "        filename = filename.split('.')[0]\n",
        "        # if image contains nodules\n",
        "        if filename in nodule_locations:\n",
        "            # loop through nodules\n",
        "            for location in nodule_locations[filename]:\n",
        "                # add 1's at the location of the nodule\n",
        "                x, y, w, h = location\n",
        "                msk[y:y+h, x:x+w] = 1\n",
        "        # resize both image and mask\n",
        "        img = resize(img, (self.image_size, self.image_size), mode='reflect')\n",
        "        msk = resize(msk, (self.image_size, self.image_size), mode='reflect') > 0.5\n",
        "        # add trailing channel dimension\n",
        "        img = np.expand_dims(img, -1)\n",
        "        msk = np.expand_dims(msk, -1)\n",
        "        return img, msk\n",
        "    \n",
        "    def __loadpredict__(self, filename):\n",
        "        # load dicom file as numpy array\n",
        "        img = pydicom.dcmread(os.path.join(self.folder, filename)).pixel_array\n",
        "        # resize image\n",
        "        img = resize(img, (self.image_size, self.image_size), mode='reflect')\n",
        "        # add trailing channel dimension\n",
        "        img = np.expand_dims(img, -1)\n",
        "        return img\n",
        "        \n",
        "    def __getitem__(self, index):\n",
        "        # select batch\n",
        "        filenames = self.filenames[index*self.batch_size:(index+1)*self.batch_size]\n",
        "        # predict mode: return images and filenames\n",
        "        if self.predict:\n",
        "            # load files\n",
        "            imgs = [self.__loadpredict__(filename) for filename in filenames]\n",
        "            # create numpy batch\n",
        "            imgs = np.array(imgs)\n",
        "            return imgs, filenames\n",
        "        # train mode: return images and masks\n",
        "        else:\n",
        "            # load files\n",
        "            items = [self.__load__(filename) for filename in filenames]\n",
        "            # unzip images and masks\n",
        "            imgs, msks = zip(*items)\n",
        "            # create numpy batch\n",
        "            imgs = np.array(imgs)\n",
        "            msks = np.array(msks)\n",
        "            return imgs, msks\n",
        "        \n",
        "    def on_epoch_end(self):\n",
        "        if self.shuffle:\n",
        "            random.shuffle(self.filenames)\n",
        "        \n",
        "    def __len__(self):\n",
        "        if self.predict:\n",
        "            # return everything\n",
        "            return int(np.ceil(len(self.filenames) / self.batch_size))\n",
        "        else:\n",
        "            # return full batches only\n",
        "            return int(len(self.filenames) / self.batch_size)"
      ],
      "execution_count": 0,
      "outputs": []
    },
    {
      "metadata": {
        "id": "RbHHFLzb-M_F",
        "colab_type": "text"
      },
      "cell_type": "markdown",
      "source": [
        "# Network"
      ]
    },
    {
      "metadata": {
        "id": "rYHu1v6V-M_R",
        "colab_type": "code",
        "colab": {}
      },
      "cell_type": "code",
      "source": [
        "def create_downsample(channels, inputs):\n",
        "    x = keras.layers.BatchNormalization(momentum=0.9)(inputs)\n",
        "    x = keras.layers.LeakyReLU(0)(x)\n",
        "    x = keras.layers.Conv2D(channels, 1, padding='same', use_bias=False)(x)\n",
        "    x = keras.layers.MaxPool2D(2)(x)\n",
        "    return x\n",
        "\n",
        "def create_resblock(channels, inputs):\n",
        "    x = keras.layers.BatchNormalization(momentum=0.9)(inputs)\n",
        "    x = keras.layers.LeakyReLU(0)(x)\n",
        "    x = keras.layers.Conv2D(channels, 3, padding='same', use_bias=False)(x)\n",
        "    x = keras.layers.BatchNormalization(momentum=0.9)(x)\n",
        "    x = keras.layers.LeakyReLU(0)(x)\n",
        "    x = keras.layers.Conv2D(channels, 3, padding='same', use_bias=False)(x)\n",
        "    return keras.layers.add([x, inputs])\n",
        "\n",
        "def create_network(input_size, channels, n_blocks=2, depth=4):\n",
        "    # input\n",
        "    inputs = keras.Input(shape=(input_size, input_size, 1))\n",
        "    x = keras.layers.Conv2D(channels, 3, padding='same', use_bias=False)(inputs)\n",
        "    # residual blocks\n",
        "    for d in range(depth):\n",
        "        channels = channels * 2\n",
        "        if channels > 512:\n",
        "          channels = 512\n",
        "        \n",
        "        x = create_downsample(channels, x)\n",
        "        for b in range(n_blocks):\n",
        "            x = create_resblock(channels, x)\n",
        "    # output\n",
        "    x = keras.layers.BatchNormalization(momentum=0.9)(x)\n",
        "    x = keras.layers.LeakyReLU(0)(x)\n",
        "    # downsample one last time\n",
        "    x = keras.layers.Conv2D(512, (3,3), strides=(2,2), padding='same', activation='relu')(x)\n",
        "    # use 384 1x1 filters\n",
        "    x = keras.layers.Conv2D(256, 1, padding='same', activation='relu')(x)\n",
        "#     x = keras.layers.Dropout(0.125)(x)\n",
        "    # deconv to 4x size\n",
        "    x = keras.layers.Conv2DTranspose(128, (8,8), (4,4), padding=\"same\", activation=\"relu\")(x)\n",
        "    # upsample\n",
        "    x = keras.layers.UpSampling2D(2**(depth - 1))(x)\n",
        "    # 1 transpose conv to get back to original size\n",
        "    outputs = keras.layers.Conv2D(1, 1, activation='sigmoid')(x)\n",
        "    model = keras.Model(inputs=inputs, outputs=outputs)\n",
        "    return model"
      ],
      "execution_count": 0,
      "outputs": []
    },
    {
      "metadata": {
        "id": "wsBfvg2Y-M_e",
        "colab_type": "text"
      },
      "cell_type": "markdown",
      "source": [
        "# Train network\n"
      ]
    },
    {
      "metadata": {
        "id": "qkxSFJ9w-M_f",
        "colab_type": "code",
        "colab": {
          "base_uri": "https://localhost:8080/",
          "height": 3043
        },
        "outputId": "67a216d8-7eea-4b42-944f-d213130a984f"
      },
      "cell_type": "code",
      "source": [
        "# define iou or jaccard loss function\n",
        "def iou_loss(y_true, y_pred):\n",
        "    y_true = tf.reshape(y_true, [-1])\n",
        "    y_pred = tf.reshape(y_pred, [-1])\n",
        "    intersection = tf.reduce_sum(y_true * y_pred)\n",
        "    score = (intersection + 1.) / (tf.reduce_sum(y_true) + tf.reduce_sum(y_pred) - intersection + 1.)\n",
        "    return 1 - score\n",
        "\n",
        "# combine bce loss and iou loss\n",
        "def iou_bce_loss(y_true, y_pred):\n",
        "    return 0.5 * keras.losses.binary_crossentropy(y_true, y_pred) + 0.5 * iou_loss(y_true, y_pred)\n",
        "\n",
        "# mean iou as a metric\n",
        "def mean_iou(y_true, y_pred):\n",
        "    y_pred = tf.round(y_pred)\n",
        "    intersect = tf.reduce_sum(y_true * y_pred, axis=[1, 2, 3])\n",
        "    union = tf.reduce_sum(y_true, axis=[1, 2, 3]) + tf.reduce_sum(y_pred, axis=[1, 2, 3])\n",
        "    smooth = tf.ones(tf.shape(intersect))\n",
        "    return tf.reduce_mean((intersect + smooth) / (union - intersect + smooth))\n",
        "\n",
        "# create network and compiler\n",
        "model = create_network(input_size=IMAGE_SIZE, channels=24, n_blocks=2, depth=4)\n",
        "print(model.summary())\n",
        "\n",
        "model.compile(optimizer='adam',\n",
        "              loss=iou_bce_loss,\n",
        "              metrics=['accuracy', mean_iou])\n",
        "\n",
        "# cosine learning rate annealing\n",
        "def cosine_annealing(x):\n",
        "    lr = 0.003\n",
        "    epochs = 25\n",
        "    return lr*(np.cos(np.pi*x/epochs)+1.)/2\n",
        "  \n",
        "learning_rate = tf.keras.callbacks.LearningRateScheduler(cosine_annealing)\n",
        "checkpoint = keras.callbacks.ModelCheckpoint(CHECKPOINT_PATH, monitor='val_loss', verbose=1, save_best_only=False, save_weights_only=False, mode='auto', period=1)\n",
        "\n",
        "\n",
        "# create train and validation generators\n",
        "folder = train_dicom_dir\n",
        "train_gen = generator(folder, train_filenames, nodule_locations, batch_size=BATCH_SIZE, image_size=IMAGE_SIZE, shuffle=True, predict=False)\n",
        "valid_gen = generator(folder, valid_filenames, nodule_locations, batch_size=BATCH_SIZE, image_size=IMAGE_SIZE, shuffle=False, predict=False)\n"
      ],
      "execution_count": 24,
      "outputs": [
        {
          "output_type": "stream",
          "text": [
            "__________________________________________________________________________________________________\n",
            "Layer (type)                    Output Shape         Param #     Connected to                     \n",
            "==================================================================================================\n",
            "input_3 (InputLayer)            (None, 384, 384, 1)  0                                            \n",
            "__________________________________________________________________________________________________\n",
            "conv2d_48 (Conv2D)              (None, 384, 384, 24) 216         input_3[0][0]                    \n",
            "__________________________________________________________________________________________________\n",
            "batch_normalization_42 (BatchNo (None, 384, 384, 24) 96          conv2d_48[0][0]                  \n",
            "__________________________________________________________________________________________________\n",
            "leaky_re_lu_42 (LeakyReLU)      (None, 384, 384, 24) 0           batch_normalization_42[0][0]     \n",
            "__________________________________________________________________________________________________\n",
            "conv2d_49 (Conv2D)              (None, 384, 384, 48) 1152        leaky_re_lu_42[0][0]             \n",
            "__________________________________________________________________________________________________\n",
            "max_pooling2d_8 (MaxPooling2D)  (None, 192, 192, 48) 0           conv2d_49[0][0]                  \n",
            "__________________________________________________________________________________________________\n",
            "batch_normalization_43 (BatchNo (None, 192, 192, 48) 192         max_pooling2d_8[0][0]            \n",
            "__________________________________________________________________________________________________\n",
            "leaky_re_lu_43 (LeakyReLU)      (None, 192, 192, 48) 0           batch_normalization_43[0][0]     \n",
            "__________________________________________________________________________________________________\n",
            "conv2d_50 (Conv2D)              (None, 192, 192, 48) 20736       leaky_re_lu_43[0][0]             \n",
            "__________________________________________________________________________________________________\n",
            "batch_normalization_44 (BatchNo (None, 192, 192, 48) 192         conv2d_50[0][0]                  \n",
            "__________________________________________________________________________________________________\n",
            "leaky_re_lu_44 (LeakyReLU)      (None, 192, 192, 48) 0           batch_normalization_44[0][0]     \n",
            "__________________________________________________________________________________________________\n",
            "conv2d_51 (Conv2D)              (None, 192, 192, 48) 20736       leaky_re_lu_44[0][0]             \n",
            "__________________________________________________________________________________________________\n",
            "add_16 (Add)                    (None, 192, 192, 48) 0           conv2d_51[0][0]                  \n",
            "                                                                 max_pooling2d_8[0][0]            \n",
            "__________________________________________________________________________________________________\n",
            "batch_normalization_45 (BatchNo (None, 192, 192, 48) 192         add_16[0][0]                     \n",
            "__________________________________________________________________________________________________\n",
            "leaky_re_lu_45 (LeakyReLU)      (None, 192, 192, 48) 0           batch_normalization_45[0][0]     \n",
            "__________________________________________________________________________________________________\n",
            "conv2d_52 (Conv2D)              (None, 192, 192, 48) 20736       leaky_re_lu_45[0][0]             \n",
            "__________________________________________________________________________________________________\n",
            "batch_normalization_46 (BatchNo (None, 192, 192, 48) 192         conv2d_52[0][0]                  \n",
            "__________________________________________________________________________________________________\n",
            "leaky_re_lu_46 (LeakyReLU)      (None, 192, 192, 48) 0           batch_normalization_46[0][0]     \n",
            "__________________________________________________________________________________________________\n",
            "conv2d_53 (Conv2D)              (None, 192, 192, 48) 20736       leaky_re_lu_46[0][0]             \n",
            "__________________________________________________________________________________________________\n",
            "add_17 (Add)                    (None, 192, 192, 48) 0           conv2d_53[0][0]                  \n",
            "                                                                 add_16[0][0]                     \n",
            "__________________________________________________________________________________________________\n",
            "batch_normalization_47 (BatchNo (None, 192, 192, 48) 192         add_17[0][0]                     \n",
            "__________________________________________________________________________________________________\n",
            "leaky_re_lu_47 (LeakyReLU)      (None, 192, 192, 48) 0           batch_normalization_47[0][0]     \n",
            "__________________________________________________________________________________________________\n",
            "conv2d_54 (Conv2D)              (None, 192, 192, 96) 4608        leaky_re_lu_47[0][0]             \n",
            "__________________________________________________________________________________________________\n",
            "max_pooling2d_9 (MaxPooling2D)  (None, 96, 96, 96)   0           conv2d_54[0][0]                  \n",
            "__________________________________________________________________________________________________\n",
            "batch_normalization_48 (BatchNo (None, 96, 96, 96)   384         max_pooling2d_9[0][0]            \n",
            "__________________________________________________________________________________________________\n",
            "leaky_re_lu_48 (LeakyReLU)      (None, 96, 96, 96)   0           batch_normalization_48[0][0]     \n",
            "__________________________________________________________________________________________________\n",
            "conv2d_55 (Conv2D)              (None, 96, 96, 96)   82944       leaky_re_lu_48[0][0]             \n",
            "__________________________________________________________________________________________________\n",
            "batch_normalization_49 (BatchNo (None, 96, 96, 96)   384         conv2d_55[0][0]                  \n",
            "__________________________________________________________________________________________________\n",
            "leaky_re_lu_49 (LeakyReLU)      (None, 96, 96, 96)   0           batch_normalization_49[0][0]     \n",
            "__________________________________________________________________________________________________\n",
            "conv2d_56 (Conv2D)              (None, 96, 96, 96)   82944       leaky_re_lu_49[0][0]             \n",
            "__________________________________________________________________________________________________\n",
            "add_18 (Add)                    (None, 96, 96, 96)   0           conv2d_56[0][0]                  \n",
            "                                                                 max_pooling2d_9[0][0]            \n",
            "__________________________________________________________________________________________________\n",
            "batch_normalization_50 (BatchNo (None, 96, 96, 96)   384         add_18[0][0]                     \n",
            "__________________________________________________________________________________________________\n",
            "leaky_re_lu_50 (LeakyReLU)      (None, 96, 96, 96)   0           batch_normalization_50[0][0]     \n",
            "__________________________________________________________________________________________________\n",
            "conv2d_57 (Conv2D)              (None, 96, 96, 96)   82944       leaky_re_lu_50[0][0]             \n",
            "__________________________________________________________________________________________________\n",
            "batch_normalization_51 (BatchNo (None, 96, 96, 96)   384         conv2d_57[0][0]                  \n",
            "__________________________________________________________________________________________________\n",
            "leaky_re_lu_51 (LeakyReLU)      (None, 96, 96, 96)   0           batch_normalization_51[0][0]     \n",
            "__________________________________________________________________________________________________\n",
            "conv2d_58 (Conv2D)              (None, 96, 96, 96)   82944       leaky_re_lu_51[0][0]             \n",
            "__________________________________________________________________________________________________\n",
            "add_19 (Add)                    (None, 96, 96, 96)   0           conv2d_58[0][0]                  \n",
            "                                                                 add_18[0][0]                     \n",
            "__________________________________________________________________________________________________\n",
            "batch_normalization_52 (BatchNo (None, 96, 96, 96)   384         add_19[0][0]                     \n",
            "__________________________________________________________________________________________________\n",
            "leaky_re_lu_52 (LeakyReLU)      (None, 96, 96, 96)   0           batch_normalization_52[0][0]     \n",
            "__________________________________________________________________________________________________\n",
            "conv2d_59 (Conv2D)              (None, 96, 96, 192)  18432       leaky_re_lu_52[0][0]             \n",
            "__________________________________________________________________________________________________\n",
            "max_pooling2d_10 (MaxPooling2D) (None, 48, 48, 192)  0           conv2d_59[0][0]                  \n",
            "__________________________________________________________________________________________________\n",
            "batch_normalization_53 (BatchNo (None, 48, 48, 192)  768         max_pooling2d_10[0][0]           \n",
            "__________________________________________________________________________________________________\n",
            "leaky_re_lu_53 (LeakyReLU)      (None, 48, 48, 192)  0           batch_normalization_53[0][0]     \n",
            "__________________________________________________________________________________________________\n",
            "conv2d_60 (Conv2D)              (None, 48, 48, 192)  331776      leaky_re_lu_53[0][0]             \n",
            "__________________________________________________________________________________________________\n",
            "batch_normalization_54 (BatchNo (None, 48, 48, 192)  768         conv2d_60[0][0]                  \n",
            "__________________________________________________________________________________________________\n",
            "leaky_re_lu_54 (LeakyReLU)      (None, 48, 48, 192)  0           batch_normalization_54[0][0]     \n",
            "__________________________________________________________________________________________________\n",
            "conv2d_61 (Conv2D)              (None, 48, 48, 192)  331776      leaky_re_lu_54[0][0]             \n",
            "__________________________________________________________________________________________________\n",
            "add_20 (Add)                    (None, 48, 48, 192)  0           conv2d_61[0][0]                  \n",
            "                                                                 max_pooling2d_10[0][0]           \n",
            "__________________________________________________________________________________________________\n",
            "batch_normalization_55 (BatchNo (None, 48, 48, 192)  768         add_20[0][0]                     \n",
            "__________________________________________________________________________________________________\n",
            "leaky_re_lu_55 (LeakyReLU)      (None, 48, 48, 192)  0           batch_normalization_55[0][0]     \n",
            "__________________________________________________________________________________________________\n",
            "conv2d_62 (Conv2D)              (None, 48, 48, 192)  331776      leaky_re_lu_55[0][0]             \n",
            "__________________________________________________________________________________________________\n",
            "batch_normalization_56 (BatchNo (None, 48, 48, 192)  768         conv2d_62[0][0]                  \n",
            "__________________________________________________________________________________________________\n",
            "leaky_re_lu_56 (LeakyReLU)      (None, 48, 48, 192)  0           batch_normalization_56[0][0]     \n",
            "__________________________________________________________________________________________________\n",
            "conv2d_63 (Conv2D)              (None, 48, 48, 192)  331776      leaky_re_lu_56[0][0]             \n",
            "__________________________________________________________________________________________________\n",
            "add_21 (Add)                    (None, 48, 48, 192)  0           conv2d_63[0][0]                  \n",
            "                                                                 add_20[0][0]                     \n",
            "__________________________________________________________________________________________________\n",
            "batch_normalization_57 (BatchNo (None, 48, 48, 192)  768         add_21[0][0]                     \n",
            "__________________________________________________________________________________________________\n",
            "leaky_re_lu_57 (LeakyReLU)      (None, 48, 48, 192)  0           batch_normalization_57[0][0]     \n",
            "__________________________________________________________________________________________________\n",
            "conv2d_64 (Conv2D)              (None, 48, 48, 384)  73728       leaky_re_lu_57[0][0]             \n",
            "__________________________________________________________________________________________________\n",
            "max_pooling2d_11 (MaxPooling2D) (None, 24, 24, 384)  0           conv2d_64[0][0]                  \n",
            "__________________________________________________________________________________________________\n",
            "batch_normalization_58 (BatchNo (None, 24, 24, 384)  1536        max_pooling2d_11[0][0]           \n",
            "__________________________________________________________________________________________________\n",
            "leaky_re_lu_58 (LeakyReLU)      (None, 24, 24, 384)  0           batch_normalization_58[0][0]     \n",
            "__________________________________________________________________________________________________\n",
            "conv2d_65 (Conv2D)              (None, 24, 24, 384)  1327104     leaky_re_lu_58[0][0]             \n",
            "__________________________________________________________________________________________________\n",
            "batch_normalization_59 (BatchNo (None, 24, 24, 384)  1536        conv2d_65[0][0]                  \n",
            "__________________________________________________________________________________________________\n",
            "leaky_re_lu_59 (LeakyReLU)      (None, 24, 24, 384)  0           batch_normalization_59[0][0]     \n",
            "__________________________________________________________________________________________________\n",
            "conv2d_66 (Conv2D)              (None, 24, 24, 384)  1327104     leaky_re_lu_59[0][0]             \n",
            "__________________________________________________________________________________________________\n",
            "add_22 (Add)                    (None, 24, 24, 384)  0           conv2d_66[0][0]                  \n",
            "                                                                 max_pooling2d_11[0][0]           \n",
            "__________________________________________________________________________________________________\n",
            "batch_normalization_60 (BatchNo (None, 24, 24, 384)  1536        add_22[0][0]                     \n",
            "__________________________________________________________________________________________________\n",
            "leaky_re_lu_60 (LeakyReLU)      (None, 24, 24, 384)  0           batch_normalization_60[0][0]     \n",
            "__________________________________________________________________________________________________\n",
            "conv2d_67 (Conv2D)              (None, 24, 24, 384)  1327104     leaky_re_lu_60[0][0]             \n",
            "__________________________________________________________________________________________________\n",
            "batch_normalization_61 (BatchNo (None, 24, 24, 384)  1536        conv2d_67[0][0]                  \n",
            "__________________________________________________________________________________________________\n",
            "leaky_re_lu_61 (LeakyReLU)      (None, 24, 24, 384)  0           batch_normalization_61[0][0]     \n",
            "__________________________________________________________________________________________________\n",
            "conv2d_68 (Conv2D)              (None, 24, 24, 384)  1327104     leaky_re_lu_61[0][0]             \n",
            "__________________________________________________________________________________________________\n",
            "add_23 (Add)                    (None, 24, 24, 384)  0           conv2d_68[0][0]                  \n",
            "                                                                 add_22[0][0]                     \n",
            "__________________________________________________________________________________________________\n",
            "batch_normalization_62 (BatchNo (None, 24, 24, 384)  1536        add_23[0][0]                     \n",
            "__________________________________________________________________________________________________\n",
            "leaky_re_lu_62 (LeakyReLU)      (None, 24, 24, 384)  0           batch_normalization_62[0][0]     \n",
            "__________________________________________________________________________________________________\n",
            "conv2d_69 (Conv2D)              (None, 12, 12, 512)  1769984     leaky_re_lu_62[0][0]             \n",
            "__________________________________________________________________________________________________\n",
            "conv2d_70 (Conv2D)              (None, 12, 12, 256)  131328      conv2d_69[0][0]                  \n",
            "__________________________________________________________________________________________________\n",
            "conv2d_transpose_2 (Conv2DTrans (None, 48, 48, 128)  2097280     conv2d_70[0][0]                  \n",
            "__________________________________________________________________________________________________\n",
            "up_sampling2d_2 (UpSampling2D)  (None, 384, 384, 128 0           conv2d_transpose_2[0][0]         \n",
            "__________________________________________________________________________________________________\n",
            "conv2d_71 (Conv2D)              (None, 384, 384, 1)  129         up_sampling2d_2[0][0]            \n",
            "==================================================================================================\n",
            "Total params: 11,161,593\n",
            "Trainable params: 11,154,345\n",
            "Non-trainable params: 7,248\n",
            "__________________________________________________________________________________________________\n",
            "None\n"
          ],
          "name": "stdout"
        }
      ]
    },
    {
      "metadata": {
        "id": "KKSw1v5GE5bX",
        "colab_type": "code",
        "colab": {}
      },
      "cell_type": "code",
      "source": [
        "# try:\n",
        "#   model.load_weights(CHECKPOINT_PATH)\n",
        "# except:\n",
        "#   pass"
      ],
      "execution_count": 0,
      "outputs": []
    },
    {
      "metadata": {
        "id": "A3spdZG5cBsF",
        "colab_type": "code",
        "colab": {
          "base_uri": "https://localhost:8080/",
          "height": 561
        },
        "outputId": "91e4741c-51f4-4215-8b02-aca49e29277f"
      },
      "cell_type": "code",
      "source": [
        "history = model.fit_generator(train_gen, validation_data=valid_gen, callbacks=[learning_rate, checkpoint], epochs=8, shuffle=True, verbose=1)"
      ],
      "execution_count": 25,
      "outputs": [
        {
          "output_type": "stream",
          "text": [
            "Epoch 1/8\n",
            "1926/1927 [============================>.] - ETA: 0s - loss: 0.5113 - acc: 0.9627 - mean_iou: 0.5796\n",
            "Epoch 00001: saving model to model2.h5\n",
            "1927/1927 [==============================] - 1890s 981ms/step - loss: 0.5113 - acc: 0.9626 - mean_iou: 0.5795 - val_loss: 0.4893 - val_acc: 0.9567 - val_mean_iou: 0.5415\n",
            "Epoch 2/8\n",
            "1926/1927 [============================>.] - ETA: 0s - loss: 0.4786 - acc: 0.9624 - mean_iou: 0.5849\n",
            "Epoch 00002: saving model to model2.h5\n",
            "1927/1927 [==============================] - 1867s 969ms/step - loss: 0.4786 - acc: 0.9624 - mean_iou: 0.5849 - val_loss: 0.4851 - val_acc: 0.9594 - val_mean_iou: 0.5346\n",
            "Epoch 3/8\n",
            "1926/1927 [============================>.] - ETA: 0s - loss: 0.4605 - acc: 0.9648 - mean_iou: 0.6176\n",
            "Epoch 00003: saving model to model2.h5\n",
            "1927/1927 [==============================] - 1873s 972ms/step - loss: 0.4604 - acc: 0.9648 - mean_iou: 0.6176 - val_loss: 0.4525 - val_acc: 0.9603 - val_mean_iou: 0.5874\n",
            "Epoch 4/8\n",
            "1926/1927 [============================>.] - ETA: 0s - loss: 0.4502 - acc: 0.9662 - mean_iou: 0.6335\n",
            "Epoch 00004: saving model to model2.h5\n",
            "1927/1927 [==============================] - 1867s 969ms/step - loss: 0.4502 - acc: 0.9662 - mean_iou: 0.6334 - val_loss: 0.4495 - val_acc: 0.9601 - val_mean_iou: 0.6118\n",
            "Epoch 5/8\n",
            "1926/1927 [============================>.] - ETA: 0s - loss: 0.4416 - acc: 0.9674 - mean_iou: 0.6487\n",
            "Epoch 00005: saving model to model2.h5\n",
            "1927/1927 [==============================] - 1866s 968ms/step - loss: 0.4415 - acc: 0.9674 - mean_iou: 0.6486 - val_loss: 0.4475 - val_acc: 0.9611 - val_mean_iou: 0.6055\n",
            "Epoch 6/8\n",
            "1926/1927 [============================>.] - ETA: 0s - loss: 0.4349 - acc: 0.9683 - mean_iou: 0.6497\n",
            "Epoch 00006: saving model to model2.h5\n",
            "1927/1927 [==============================] - 1869s 970ms/step - loss: 0.4349 - acc: 0.9684 - mean_iou: 0.6498 - val_loss: 0.4301 - val_acc: 0.9720 - val_mean_iou: 0.6883\n",
            "Epoch 7/8\n",
            "1926/1927 [============================>.] - ETA: 0s - loss: 0.4285 - acc: 0.9690 - mean_iou: 0.6555\n",
            "Epoch 00007: saving model to model2.h5\n",
            "1927/1927 [==============================] - 1869s 970ms/step - loss: 0.4285 - acc: 0.9689 - mean_iou: 0.6554 - val_loss: 0.4284 - val_acc: 0.9736 - val_mean_iou: 0.6890\n",
            "Epoch 8/8\n",
            "1926/1927 [============================>.] - ETA: 0s - loss: 0.4240 - acc: 0.9692 - mean_iou: 0.6617\n",
            "Epoch 00008: saving model to model2.h5\n",
            "1927/1927 [==============================] - 1868s 969ms/step - loss: 0.4239 - acc: 0.9692 - mean_iou: 0.6618 - val_loss: 0.4234 - val_acc: 0.9690 - val_mean_iou: 0.6556\n"
          ],
          "name": "stdout"
        }
      ]
    },
    {
      "metadata": {
        "id": "5sg5Qj3JW1QI",
        "colab_type": "code",
        "colab": {
          "base_uri": "https://localhost:8080/",
          "height": 323
        },
        "outputId": "dd93f0ec-b5fc-4aa2-8be0-92a39f95fa6b"
      },
      "cell_type": "code",
      "source": [
        "history = model.fit_generator(train_gen, validation_data=valid_gen, callbacks=[learning_rate, checkpoint], epochs=5, shuffle=True, verbose=1)"
      ],
      "execution_count": 0,
      "outputs": [
        {
          "output_type": "stream",
          "text": [
            "Epoch 1/5\n",
            "1926/1927 [============================>.] - ETA: 0s - loss: 0.4252 - acc: 0.9696 - mean_iou: 0.6688\n",
            "Epoch 00001: saving model to model2.h5\n",
            "1927/1927 [==============================] - 1867s 969ms/step - loss: 0.4252 - acc: 0.9696 - mean_iou: 0.6687 - val_loss: 0.4258 - val_acc: 0.9683 - val_mean_iou: 0.6554\n",
            "Epoch 2/5\n",
            "1926/1927 [============================>.] - ETA: 0s - loss: 0.4197 - acc: 0.9699 - mean_iou: 0.6708\n",
            "Epoch 00002: saving model to model2.h5\n",
            "1927/1927 [==============================] - 1864s 967ms/step - loss: 0.4197 - acc: 0.9699 - mean_iou: 0.6709 - val_loss: 0.4272 - val_acc: 0.9718 - val_mean_iou: 0.6748\n",
            "Epoch 3/5\n",
            "1926/1927 [============================>.] - ETA: 0s - loss: 0.4177 - acc: 0.9705 - mean_iou: 0.6748\n",
            "Epoch 00003: saving model to model2.h5\n",
            "1927/1927 [==============================] - 1866s 969ms/step - loss: 0.4177 - acc: 0.9705 - mean_iou: 0.6747 - val_loss: 0.4221 - val_acc: 0.9714 - val_mean_iou: 0.6752\n",
            "Epoch 4/5\n",
            "1926/1927 [============================>.] - ETA: 0s - loss: 0.4113 - acc: 0.9711 - mean_iou: 0.6826\n",
            "Epoch 00004: saving model to model2.h5\n",
            "1927/1927 [==============================] - 1868s 969ms/step - loss: 0.4113 - acc: 0.9711 - mean_iou: 0.6827 - val_loss: 0.4269 - val_acc: 0.9707 - val_mean_iou: 0.6492\n",
            "Epoch 5/5\n",
            " 229/1927 [==>...........................] - ETA: 25:36 - loss: 0.4062 - acc: 0.9733 - mean_iou: 0.6988"
          ],
          "name": "stdout"
        }
      ]
    },
    {
      "metadata": {
        "id": "CO9WGS29Nbnu",
        "colab_type": "code",
        "colab": {}
      },
      "cell_type": "code",
      "source": [
        "history = model.fit_generator(train_gen, validation_data=valid_gen, callbacks=[learning_rate, checkpoint], epochs=10, shuffle=True, verbose=1)"
      ],
      "execution_count": 0,
      "outputs": []
    },
    {
      "metadata": {
        "id": "y0oa3cNPcNI5",
        "colab_type": "code",
        "colab": {}
      },
      "cell_type": "code",
      "source": [
        "#history = model.fit_generator(train_gen, validation_data=valid_gen, callbacks=[learning_rate, checkpoint], epochs=10, shuffle=True, verbose=1)"
      ],
      "execution_count": 0,
      "outputs": []
    },
    {
      "metadata": {
        "id": "yMDSkSHm-M_r",
        "colab_type": "code",
        "colab": {
          "base_uri": "https://localhost:8080/",
          "height": 265
        },
        "outputId": "fc0039a0-941f-423f-e07f-d685a74f221c"
      },
      "cell_type": "code",
      "source": [
        "plt.figure(figsize=(12,4))\n",
        "plt.subplot(131)\n",
        "plt.plot(history.epoch, history.history[\"loss\"], label=\"Train loss\")\n",
        "plt.plot(history.epoch, history.history[\"val_loss\"], label=\"Valid loss\")\n",
        "plt.legend()\n",
        "plt.subplot(132)\n",
        "plt.plot(history.epoch, history.history[\"acc\"], label=\"Train accuracy\")\n",
        "plt.plot(history.epoch, history.history[\"val_acc\"], label=\"Valid accuracy\")\n",
        "plt.legend()\n",
        "plt.subplot(133)\n",
        "plt.plot(history.epoch, history.history[\"mean_iou\"], label=\"Train iou\")\n",
        "plt.plot(history.epoch, history.history[\"val_mean_iou\"], label=\"Valid iou\")\n",
        "plt.legend()\n",
        "plt.show()"
      ],
      "execution_count": 26,
      "outputs": [
        {
          "output_type": "display_data",
          "data": {
            "image/png": "[encoded data removed]",
            "text/plain": [
              "<matplotlib.figure.Figure at 0x7feb3be242e8>"
            ]
          },
          "metadata": {
            "tags": []
          }
        }
      ]
    },
    {
      "metadata": {
        "id": "dz9at3ZH-NAE",
        "colab_type": "text"
      },
      "cell_type": "markdown",
      "source": [
        "# Predict test images"
      ]
    },
    {
      "metadata": {
        "id": "cCMcFaVN-NAF",
        "colab_type": "code",
        "colab": {
          "base_uri": "https://localhost:8080/",
          "height": 34
        },
        "outputId": "19df22bd-6960-45de-d6c0-3984d3169b37"
      },
      "cell_type": "code",
      "source": [
        "# load and shuffle filenames\n",
        "folder = test_dicom_dir\n",
        "test_filenames = os.listdir(folder)\n",
        "print('n test samples:', len(test_filenames))\n",
        "\n",
        "# create test generator with predict flag set to True\n",
        "test_gen = generator(folder, test_filenames, None, batch_size=25, image_size=IMAGE_SIZE, shuffle=False, predict=True)\n",
        "\n",
        "# create submission dictionary\n",
        "submission_dict = {}\n",
        "# loop through testset\n",
        "for imgs, filenames in test_gen:\n",
        "    # predict batch of images\n",
        "    preds = model.predict(imgs)\n",
        "    # loop through batch\n",
        "    for pred, filename in zip(preds, filenames):\n",
        "        # resize predicted mask\n",
        "        pred = resize(pred, (1024, 1024), mode='reflect')\n",
        "        # threshold predicted mask\n",
        "        comp = pred[:, :, 0] > 0.5\n",
        "        # apply connected components\n",
        "        comp = measure.label(comp)\n",
        "        # apply bounding boxes\n",
        "        predictionString = ''\n",
        "        for region in measure.regionprops(comp):\n",
        "            # retrieve x, y, height and width\n",
        "            y, x, y2, x2 = region.bbox\n",
        "            height = y2 - y\n",
        "            width = x2 - x\n",
        "            # proxy for confidence score\n",
        "            conf = np.mean(pred[y:y+height, x:x+width])\n",
        "            # add to predictionString\n",
        "            predictionString += str(conf) + ' ' + str(x) + ' ' + str(y) + ' ' + str(width) + ' ' + str(height) + ' '\n",
        "        # add filename and predictionString to dictionary\n",
        "        filename = filename.split('.')[0]\n",
        "        submission_dict[filename] = predictionString\n",
        "    # stop if we've got them all\n",
        "    if len(submission_dict) >= len(test_filenames):\n",
        "        break\n",
        "\n",
        "# save dictionary as csv file\n",
        "sub = pd.DataFrame.from_dict(submission_dict,orient='index')\n",
        "sub.index.names = ['patientId']\n",
        "sub.columns = ['PredictionString']\n",
        "sub.to_csv('submission.csv')"
      ],
      "execution_count": 27,
      "outputs": [
        {
          "output_type": "stream",
          "text": [
            "n test samples: 1000\n"
          ],
          "name": "stdout"
        }
      ]
    },
    {
      "metadata": {
        "id": "whgCcttS_SUa",
        "colab_type": "code",
        "colab": {
          "base_uri": "https://localhost:8080/",
          "height": 34
        },
        "outputId": "78ed5380-30dd-499e-f297-7e147b9c7a4a"
      },
      "cell_type": "code",
      "source": [
        "!kaggle competitions submit -c rsna-pneumonia-detection-challenge -f submission.csv -m \"Baseline from colab size 320 30 epochs\""
      ],
      "execution_count": 28,
      "outputs": [
        {
          "output_type": "stream",
          "text": [
            "Successfully submitted to RSNA Pneumonia Detection Challenge"
          ],
          "name": "stdout"
        }
      ]
    },
    {
      "metadata": {
        "id": "D0UDLKjA_TZ7",
        "colab_type": "code",
        "colab": {
          "base_uri": "https://localhost:8080/",
          "height": 51
        },
        "outputId": "f6b1fcfd-b722-4c20-a878-e8b75ba09073"
      },
      "cell_type": "code",
      "source": [
        "save_file_to_drive(\"submission.csv\", \"submission.csv\")"
      ],
      "execution_count": 29,
      "outputs": [
        {
          "output_type": "stream",
          "text": [
            "File ID: 1IzBfvEVn9weFUTRo_P1dYZvld7Yv7l4s\n"
          ],
          "name": "stdout"
        },
        {
          "output_type": "execute_result",
          "data": {
            "text/plain": [
              "{'id': '1IzBfvEVn9weFUTRo_P1dYZvld7Yv7l4s'}"
            ]
          },
          "metadata": {
            "tags": []
          },
          "execution_count": 29
        }
      ]
    },
    {
      "metadata": {
        "id": "20Yb5s_0yRUS",
        "colab_type": "code",
        "colab": {
          "base_uri": "https://localhost:8080/",
          "height": 51
        },
        "outputId": "fdb2f39e-90a6-491e-91c8-5fb50f6ec974"
      },
      "cell_type": "code",
      "source": [
        "save_file_to_drive(CHECKPOINT_PATH, CHECKPOINT_PATH)"
      ],
      "execution_count": 30,
      "outputs": [
        {
          "output_type": "stream",
          "text": [
            "File ID: 10dF1YzQ5VFs3Cj9AQu5AbAjq_WDzTZ3R\n"
          ],
          "name": "stdout"
        },
        {
          "output_type": "execute_result",
          "data": {
            "text/plain": [
              "{'id': '10dF1YzQ5VFs3Cj9AQu5AbAjq_WDzTZ3R'}"
            ]
          },
          "metadata": {
            "tags": []
          },
          "execution_count": 30
        }
      ]
    }
  ]
}