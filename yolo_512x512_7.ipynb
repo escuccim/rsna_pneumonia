{
 "cells": [
  {
   "cell_type": "markdown",
   "metadata": {
    "colab_type": "text",
    "id": "igEd7obtcxR2"
   },
   "source": [
    "# Approach\n",
    "\n",
    "* This is a simplied version of YOLO. We take our 512x512 input, divide it into a 16x16 grid, each cell outputs five values:\n",
    "    * The confidence that there is pneumonia present\n",
    "    * The x, y, w, and h of the bounding box\n",
    "* For labels we have assigned each box to the cell which is in it's center and have assigned the actual x, y, w, and h values to that cell.\n",
    "\n",
    "# Network\n",
    "\n",
    "* The network consists of a number of residual blocks with convolutions and downsampling blocks with max pooling.\n",
    "* The network outputs a 16x16x1 array of confidences and a 16x16x4 array of bounding boxes.\n",
    "* The confidence cells have a sigmoid activation, the bboxes are linear.\n",
    "* We use a binary cross entropy loss for the confidence and mean squared error for the bounding boxes.\n",
    "\n",
    "# Predictions\n",
    "* To generate our predictions we loop through each cell of the output, if the confidence is greater than 0.5 we append the corresponding bounding box to the prediction string. \n",
    "\n",
    "**Note:** Since each pixel only outputs one bounding box there is currently no non-max suppression. We can add this later if neccessary.\n",
    "\n",
    "**Change Log:**\n",
    "* v3 - changing output to 8x8 grid from 16x16; changed model to downsample one more time; adjusted network accordingly. \n",
    "* v4 - changed output to 4x4 grid, no image has more than 3 ROIs so this may work better? \n",
    "    * Using center point of ROI to predict instead of upper left corner.\n",
    "* v5 - We only calculate MSE loss for boxes with a confidence over 0.5 or actual truth since we don't care about predictions for boxes that are not ROIs. This will prevent the network from being constrained by outputting 0s for boxes that don't exist.\n",
    "* v6 - centering input data so maybe bboxes can be output more accurately? Also centering the image\n",
    "* v7 - writing new loss function"
   ]
  },
  {
   "cell_type": "code",
   "execution_count": 1,
   "metadata": {
    "colab": {},
    "colab_type": "code",
    "id": "LHncOor-cxSS"
   },
   "outputs": [],
   "source": [
    "import os\n",
    "import csv\n",
    "import random\n",
    "import pydicom\n",
    "import numpy as np\n",
    "import pickle\n",
    "import pandas as pd\n",
    "from skimage import measure\n",
    "from skimage.transform import resize\n",
    "import datetime\n",
    "import math\n",
    "\n",
    "import tensorflow as tf\n",
    "from tensorflow import keras\n",
    "\n",
    "from matplotlib import pyplot as plt\n",
    "import matplotlib.patches as patches"
   ]
  },
  {
   "cell_type": "code",
   "execution_count": 13,
   "metadata": {},
   "outputs": [
    {
     "name": "stdout",
     "output_type": "stream",
     "text": [
      "y_true: (?, 4, 4, 5)\n",
      "y_true (flat): (?, 5)\n",
      "true_box_xy: (?, 2)\n",
      "nb_conf_box: (?,)\n",
      "loss_conf: (?,)\n"
     ]
    }
   ],
   "source": [
    "y_true = tf.placeholder(shape=(None, 4, 4, 5), dtype=tf.float32)\n",
    "y_pred = tf.placeholder(shape=(None, 4, 4, 5), dtype=tf.float32)\n",
    "print(\"y_true:\", y_true.shape)\n",
    "\n",
    "# flatten the inputs\n",
    "y_true = tf.reshape(y_true, (-1, 5))\n",
    "y_pred = tf.reshape(y_pred, (-1, 5))\n",
    "print(\"y_true (flat):\", y_true.shape)\n",
    "\n",
    "# apply sigmoid\n",
    "y_pred = tf.sigmoid(y_pred)\n",
    "\n",
    "# separate the x, y from the w, h\n",
    "true_box_xy = y_true[:,1:3]\n",
    "true_box_wh = y_true[:,3:]\n",
    "\n",
    "pred_box_xy = y_pred[:,1:3]\n",
    "pred_box_wh = y_pred[:,3:]\n",
    "print(\"true_box_xy:\", true_box_xy.shape)\n",
    "\n",
    "# pred box conf\n",
    "pred_box_conf = y_pred[:,0]\n",
    "\n",
    "# get the corners of the boxes by subtracting or adding half of h, w\n",
    "true_wh_half = true_box_wh / 2.\n",
    "true_mins    = true_box_xy - true_wh_half\n",
    "true_maxes   = true_box_xy + true_wh_half\n",
    "\n",
    "pred_wh_half = pred_box_wh / 2.\n",
    "pred_mins    = pred_box_xy - pred_wh_half\n",
    "pred_maxes   = pred_box_xy + pred_wh_half  \n",
    "\n",
    "# get the corners of the intersect area\n",
    "intersect_mins  = tf.maximum(pred_mins,  true_mins)\n",
    "intersect_maxes = tf.minimum(pred_maxes, true_maxes)\n",
    "intersect_wh    = tf.maximum(intersect_maxes - intersect_mins, 0.)\n",
    "intersect_areas = intersect_wh[..., 0] * intersect_wh[..., 1]\n",
    "\n",
    "true_areas = true_box_wh[..., 0] * true_box_wh[..., 1]\n",
    "pred_areas = pred_box_wh[..., 0] * pred_box_wh[..., 1]\n",
    "\n",
    "union_areas = pred_areas + true_areas - intersect_areas\n",
    "iou_scores  = tf.truediv(intersect_areas, union_areas)\n",
    "\n",
    "true_box_conf = iou_scores * y_true[..., 0]\n",
    "\n",
    "conf_mask = tf.to_float(iou_scores < 0.6) * (1 - y_true[:,0]) * 0.5\n",
    "conf_mask = conf_mask + y_true[:, 0] * 5\n",
    "\n",
    "nb_conf_box  = tf.to_float(conf_mask  > 0.0)\n",
    "print(\"nb_conf_box:\", nb_conf_box.shape)\n",
    "\n",
    "loss_conf  = (tf.square(true_box_conf-pred_box_conf) * conf_mask)  / (nb_conf_box  + 1e-6) / 2.\n",
    "print(\"loss_conf:\", loss_conf.shape)"
   ]
  },
  {
   "cell_type": "code",
   "execution_count": 2,
   "metadata": {},
   "outputs": [],
   "source": [
    "# Malisiewicz et al.\n",
    "def non_max_suppression_fast(boxes, overlapThresh=0.3):\n",
    "    # if there are no boxes, return an empty list\n",
    "    if len(boxes) == 0:\n",
    "        return []\n",
    " \n",
    "    # if the bounding boxes integers, convert them to floats --\n",
    "    # this is important since we'll be doing a bunch of divisions\n",
    "    if boxes.dtype.kind == \"i\":\n",
    "        boxes = boxes.astype(\"float\")\n",
    " \n",
    "    # initialize the list of picked indexes\t\n",
    "    pick = []\n",
    " \n",
    "    # grab the coordinates of the bounding boxes\n",
    "    x1 = boxes[:,0]\n",
    "    y1 = boxes[:,1]\n",
    "    w = boxes[:,2]\n",
    "    h = boxes[:,3]\n",
    " \n",
    "    x2 = x1 + w\n",
    "    y2 = y1 + h\n",
    "\n",
    "    # compute the area of the bounding boxes and sort the bounding\n",
    "    # boxes by the bottom-right y-coordinate of the bounding box\n",
    "    area = (w + 1) * (h + 1)\n",
    "    idxs = np.argsort(y2)\n",
    " \n",
    "    # keep looping while some indexes still remain in the indexes\n",
    "    # list\n",
    "    while len(idxs) > 0:\n",
    "        # grab the last index in the indexes list and add the\n",
    "        # index value to the list of picked indexes\n",
    "        last = len(idxs) - 1\n",
    "        i = idxs[last]\n",
    "        pick.append(i)\n",
    " \n",
    "        # find the largest (x, y) coordinates for the start of\n",
    "        # the bounding box and the smallest (x, y) coordinates\n",
    "        # for the end of the bounding box\n",
    "        xx1 = np.maximum(x1[i], x1[idxs[:last]])\n",
    "        yy1 = np.maximum(y1[i], y1[idxs[:last]])\n",
    "        xx2 = np.minimum(x2[i], x2[idxs[:last]])\n",
    "        yy2 = np.minimum(y2[i], y2[idxs[:last]])\n",
    " \n",
    "        # compute the width and height of the bounding box\n",
    "        w = np.maximum(0, xx2 - xx1 + 1)\n",
    "        h = np.maximum(0, yy2 - yy1 + 1)\n",
    " \n",
    "        # compute the ratio of overlap\n",
    "        overlap = (w * h) / area[idxs[:last]]\n",
    " \n",
    "        # delete all indexes from the index list that have\n",
    "        idxs = np.delete(idxs, np.concatenate(([last],\n",
    "            np.where(overlap > overlapThresh)[0])))\n",
    " \n",
    "    # return only the bounding boxes that were picked using the\n",
    "    # integer data type\n",
    "    return boxes[pick].astype(\"int\")"
   ]
  },
  {
   "cell_type": "code",
   "execution_count": 3,
   "metadata": {
    "colab": {},
    "colab_type": "code",
    "id": "hE3jDmgudDDP"
   },
   "outputs": [],
   "source": [
    "# enter your Kaggle credentionals here\n",
    "os.environ['KAGGLE_USERNAME']=\"skooch\"\n",
    "os.environ['KAGGLE_KEY']=\"42f8a02ee92cc773d1dbe66565673ad3\""
   ]
  },
  {
   "cell_type": "code",
   "execution_count": 27,
   "metadata": {},
   "outputs": [],
   "source": [
    "def sigmoid(x):\n",
    "    return 1 / (1 + np.exp(-x))"
   ]
  },
  {
   "cell_type": "markdown",
   "metadata": {
    "colab_type": "text",
    "id": "sSWY-U2TcxSn"
   },
   "source": [
    "# Load pneumonia locations\n",
    "\n",
    "Table contains [filename : pneumonia location] pairs per row. \n",
    "* If a filename contains multiple pneumonia, the table contains multiple rows with the same filename but different pneumonia locations. \n",
    "* If a filename contains no pneumonia it contains a single row with an empty pneumonia location.\n",
    "\n",
    "The code below loads the table and transforms it into a dictionary. \n",
    "* The dictionary uses the filename as key and a list of pneumonia locations in that filename as value. \n",
    "* If a filename is not present in the dictionary it means that it contains no pneumonia."
   ]
  },
  {
   "cell_type": "code",
   "execution_count": 3,
   "metadata": {
    "colab": {
     "base_uri": "https://localhost:8080/",
     "height": 34
    },
    "colab_type": "code",
    "id": "m_0ZGQyLdQS8",
    "outputId": "4848c0ce-4d75-4781-d01f-91cbd7626d77"
   },
   "outputs": [
    {
     "name": "stdout",
     "output_type": "stream",
     "text": [
      "Train dir: ./stage_1_train_images\n"
     ]
    }
   ],
   "source": [
    "ROOT_DIR = \"./\"\n",
    "\n",
    "train_dicom_dir = os.path.join(ROOT_DIR, 'stage_1_train_images')\n",
    "test_dicom_dir = os.path.join(ROOT_DIR, 'stage_1_test_images')\n",
    "print(\"Train dir:\", train_dicom_dir)"
   ]
  },
  {
   "cell_type": "code",
   "execution_count": 4,
   "metadata": {
    "colab": {},
    "colab_type": "code",
    "id": "hopsRmICcxSs"
   },
   "outputs": [],
   "source": [
    "with open('yolo_labels_centered_4x4.p', 'rb') as handle:\n",
    "    pneumonia_locations = pickle.load(handle)"
   ]
  },
  {
   "cell_type": "code",
   "execution_count": 5,
   "metadata": {},
   "outputs": [],
   "source": [
    "truth = pneumonia_locations[\"fffb2395-8edd-4954-8a89-ffe2fd329be3\"]\n",
    "pred = truth.copy()"
   ]
  },
  {
   "cell_type": "code",
   "execution_count": 10,
   "metadata": {},
   "outputs": [],
   "source": [
    "pred[2,2,1] = 200\n",
    "pred[2,2,2] = 50"
   ]
  },
  {
   "cell_type": "code",
   "execution_count": 15,
   "metadata": {},
   "outputs": [
    {
     "data": {
      "text/plain": [
       "59.452262345474466"
      ]
     },
     "execution_count": 15,
     "metadata": {},
     "output_type": "execute_result"
    }
   ],
   "source": [
    "np.mean(np.square(truth[:,:,1:] - pred[:,:,1:]))"
   ]
  },
  {
   "cell_type": "code",
   "execution_count": 17,
   "metadata": {},
   "outputs": [],
   "source": [
    "truth = truth.reshape((-1,5))\n",
    "pred = pred.reshape((-1,5))"
   ]
  },
  {
   "cell_type": "code",
   "execution_count": 19,
   "metadata": {},
   "outputs": [],
   "source": [
    "true_conf = truth[:,0]\n",
    "pred_conf = pred[:,0]\n",
    "\n",
    "true_boxes = truth[:,1:]\n",
    "pred_boxes = pred[:,1:]"
   ]
  },
  {
   "cell_type": "code",
   "execution_count": 28,
   "metadata": {},
   "outputs": [
    {
     "data": {
      "text/plain": [
       "array([0.5       , 0.5       , 0.5       , 0.5       , 0.5       ,\n",
       "       0.5       , 0.5       , 0.5       , 0.5       , 0.73105858,\n",
       "       0.73105858, 0.5       , 0.5       , 0.5       , 0.5       ,\n",
       "       0.5       ])"
      ]
     },
     "execution_count": 28,
     "metadata": {},
     "output_type": "execute_result"
    }
   ],
   "source": [
    "sigmoid(pred_conf)"
   ]
  },
  {
   "cell_type": "code",
   "execution_count": 29,
   "metadata": {},
   "outputs": [
    {
     "data": {
      "text/plain": [
       "59.452262345474466"
      ]
     },
     "execution_count": 29,
     "metadata": {},
     "output_type": "execute_result"
    }
   ],
   "source": [
    "diff = true_boxes - pred_boxes\n",
    "diff = np.mean(np.square(diff))\n",
    "diff"
   ]
  },
  {
   "cell_type": "code",
   "execution_count": null,
   "metadata": {},
   "outputs": [],
   "source": []
  },
  {
   "cell_type": "markdown",
   "metadata": {
    "colab_type": "text",
    "id": "UoB6GBhIcxS6"
   },
   "source": [
    "# Load filenames"
   ]
  },
  {
   "cell_type": "code",
   "execution_count": 7,
   "metadata": {
    "colab": {
     "base_uri": "https://localhost:8080/",
     "height": 51
    },
    "colab_type": "code",
    "id": "b_iB-IftcxTE",
    "outputId": "89a05e05-f2d9-45fc-d1ef-1a0cc289f98d"
   },
   "outputs": [
    {
     "name": "stdout",
     "output_type": "stream",
     "text": [
      "n train samples 23116\n",
      "n valid samples 2568\n"
     ]
    }
   ],
   "source": [
    "random.seed(72)\n",
    "\n",
    "# load and shuffle filenames\n",
    "folder = './stage_1_train_images'\n",
    "filenames = os.listdir(folder)\n",
    "random.shuffle(filenames)\n",
    "# split into train and validation filenames\n",
    "n_valid_samples = int(len(filenames) * 0.1)\n",
    "train_filenames = filenames[n_valid_samples:]\n",
    "valid_filenames = filenames[:n_valid_samples]\n",
    "print('n train samples', len(train_filenames))\n",
    "print('n valid samples', len(valid_filenames))\n",
    "n_train_samples = len(filenames) - n_valid_samples"
   ]
  },
  {
   "cell_type": "markdown",
   "metadata": {
    "colab_type": "text",
    "id": "lorV7ZmDcxTa"
   },
   "source": [
    " # Data generator\n",
    "\n",
    "The dataset is too large to fit into memory, so we need to create a generator that loads data on the fly.\n",
    "\n",
    "* The generator takes in some filenames, batch_size and other parameters.\n",
    "\n",
    "* The generator outputs a random batch of numpy images and numpy masks.\n",
    "    "
   ]
  },
  {
   "cell_type": "code",
   "execution_count": 8,
   "metadata": {
    "colab": {},
    "colab_type": "code",
    "id": "dFbLdFxVehhB"
   },
   "outputs": [],
   "source": [
    "BATCH_SIZE = 16\n",
    "IMAGE_SIZE = 512\n",
    "CHECKPOINT_PATH = \"yolo6_512.h5\""
   ]
  },
  {
   "cell_type": "code",
   "execution_count": 18,
   "metadata": {},
   "outputs": [],
   "source": [
    "# means to center data\n",
    "mu_x = 391.456158\n",
    "mu_y = 363.1358768\n",
    "mu_w = 220.8453815\n",
    "mu_h = 334.1743641\n",
    "mu_center_x = 501.8788487\n",
    "mu_center_y = 530.2230589"
   ]
  },
  {
   "cell_type": "code",
   "execution_count": 26,
   "metadata": {
    "colab": {},
    "colab_type": "code",
    "id": "TueY1bVlcxTg"
   },
   "outputs": [],
   "source": [
    "class generator(keras.utils.Sequence):\n",
    "    \n",
    "    def __init__(self, folder, filenames, pneumonia_locations=None, batch_size=BATCH_SIZE, image_size=IMAGE_SIZE, shuffle=True, augment=False, predict=False):\n",
    "        self.folder = folder\n",
    "        self.filenames = filenames\n",
    "        self.pneumonia_locations = pneumonia_locations\n",
    "        self.batch_size = batch_size\n",
    "        self.image_size = image_size\n",
    "        self.shuffle = shuffle\n",
    "        self.augment = augment\n",
    "        self.predict = predict\n",
    "        self.on_epoch_end()\n",
    "        \n",
    "    def __load__(self, filename):\n",
    "        # load dicom file as numpy array\n",
    "        img = pydicom.dcmread(os.path.join(self.folder, filename)).pixel_array\n",
    "        # get filename without extension\n",
    "        filename = filename.split('.')[0]\n",
    "        label = pneumonia_locations[filename].copy()\n",
    "        \n",
    "        # remove the confidence and bboxes\n",
    "        confs = label[:,:,0]\n",
    "        boxes = label[:,:,1:]\n",
    "        \n",
    "        ## data augmentation may be complicated, let's do that later\n",
    "        # if augment then horizontal flip half the time\n",
    "        if self.augment and random.random() > 0.5:\n",
    "            # flip the image\n",
    "            img = np.fliplr(img)\n",
    "            \n",
    "            # update our x coords\n",
    "            mask = confs != 0\n",
    "            \n",
    "            # uncenter\n",
    "            boxes[mask, 0] = boxes[mask,0] + mu_center_x\n",
    "            # flip\n",
    "            boxes[mask, 0] = 1024 - boxes[mask,0]\n",
    "            # recenter\n",
    "            boxes[mask, 0] = boxes[mask,0] - mu_center_x\n",
    "            \n",
    "            # flip our boxes lr on axis 0\n",
    "            boxes = np.flip(boxes, axis=0)         \n",
    "            \n",
    "            # flip the confidences lr as well\n",
    "            confs = np.flip(confs, axis=0)\n",
    "            \n",
    "        # resize both image and mask\n",
    "        img = resize(img, (self.image_size, self.image_size), mode='reflect')\n",
    "        \n",
    "        # center the image\n",
    "        img = img - 0.5\n",
    "        \n",
    "        boxes = np.concatenate([confs.reshape((4,4,1)), boxes], axis=2)\n",
    "        \n",
    "        # add trailing channel dimension\n",
    "        img = np.expand_dims(img, -1)\n",
    "        return img, confs, boxes\n",
    "    \n",
    "    def __loadpredict__(self, filename):\n",
    "        # load dicom file as numpy array\n",
    "        img = pydicom.dcmread(os.path.join(self.folder, filename)).pixel_array\n",
    "        # resize image\n",
    "        img = resize(img, (self.image_size, self.image_size), mode='reflect')\n",
    "        # add trailing channel dimension\n",
    "        img = np.expand_dims(img, -1)\n",
    "        return img\n",
    "        \n",
    "    def __getitem__(self, index):\n",
    "        # select batch\n",
    "        filenames = self.filenames[index*self.batch_size:(index+1)*self.batch_size]\n",
    "        # predict mode: return images and filenames\n",
    "        if self.predict:\n",
    "            # load files\n",
    "            imgs = [self.__loadpredict__(filename) for filename in filenames]\n",
    "            # create numpy batch\n",
    "            imgs = np.array(imgs)\n",
    "            return imgs, filenames\n",
    "        # train mode: return images and masks\n",
    "        else:\n",
    "            # load files\n",
    "            items = [self.__load__(filename) for filename in filenames]\n",
    "            \n",
    "            # unzip images and masks\n",
    "            imgs, confs, bboxes = zip(*items)\n",
    "            \n",
    "            # create numpy batch\n",
    "            imgs = np.array(imgs)\n",
    "            confs = np.expand_dims(np.array(confs), -1)\n",
    "            bboxes = np.array(bboxes)\n",
    "            \n",
    "            labels = {\"confidence_output\": confs, \"bboxes_output\": bboxes}\n",
    "            return imgs, labels\n",
    "        \n",
    "    def on_epoch_end(self):\n",
    "        if self.shuffle:\n",
    "            random.shuffle(self.filenames)\n",
    "        \n",
    "    def __len__(self):\n",
    "        if self.predict:\n",
    "            # return everything\n",
    "            return int(np.ceil(len(self.filenames) / self.batch_size))\n",
    "        else:\n",
    "            # return full batches only\n",
    "            return int(len(self.filenames) / self.batch_size)"
   ]
  },
  {
   "cell_type": "markdown",
   "metadata": {
    "colab_type": "text",
    "id": "3_GgDL7ncxT3"
   },
   "source": [
    "# Network"
   ]
  },
  {
   "cell_type": "code",
   "execution_count": 41,
   "metadata": {
    "colab": {},
    "colab_type": "code",
    "id": "bqobZQZQcxUE"
   },
   "outputs": [],
   "source": [
    "def create_downsample(channels, inputs):\n",
    "    x = keras.layers.BatchNormalization(momentum=0.9)(inputs)\n",
    "    x = keras.layers.LeakyReLU(0)(x)\n",
    "    x = keras.layers.MaxPool2D(2)(x)\n",
    "    return x\n",
    "\n",
    "def create_resblock(channels, inputs):\n",
    "    x = keras.layers.BatchNormalization(momentum=0.9)(inputs)\n",
    "    x = keras.layers.LeakyReLU(0)(x)\n",
    "    x_1 = keras.layers.Conv2D(channels, 3, padding='same', use_bias=False)(x)\n",
    "    x = keras.layers.BatchNormalization(momentum=0.9)(x_1)\n",
    "    x = keras.layers.LeakyReLU(0)(x)\n",
    "    x = keras.layers.Conv2D(channels, 3, padding='same', use_bias=False)(x)\n",
    "    x = keras.layers.BatchNormalization(momentum=0.9)(x)\n",
    "    x = keras.layers.LeakyReLU(0)(x)\n",
    "    x = keras.layers.Conv2D(channels, 3, padding='same', use_bias=False)(x)\n",
    "    x = keras.layers.BatchNormalization(momentum=0.9)(x)\n",
    "    x = keras.layers.LeakyReLU(0)(x)\n",
    "    x = keras.layers.Conv2D(channels, 3, padding='same', use_bias=False)(x)\n",
    "    x = keras.layers.add([x, x_1])\n",
    "    return x\n",
    "\n",
    "def create_network(input_size, channels, n_blocks=2, depth=4):\n",
    "    # input - 512x512x3\n",
    "    inputs = keras.Input(shape=(input_size, input_size, 1))\n",
    "    \n",
    "    # 256x256x24\n",
    "    x = keras.layers.Conv2D(channels, 3, strides=(2,2), padding='same', use_bias=False)(inputs)\n",
    "    x = keras.layers.BatchNormalization(momentum=0.9)(x)\n",
    "    x = keras.layers.LeakyReLU(0)(x)\n",
    "    \n",
    "    x = keras.layers.Conv2D(channels, 3, padding='same', use_bias=False)(x)\n",
    "    x = keras.layers.BatchNormalization(momentum=0.9)(x)\n",
    "    x = keras.layers.LeakyReLU(0)(x)\n",
    "    \n",
    "    x = keras.layers.Conv2D(channels, 3, padding='same', use_bias=False)(x)\n",
    "    x = keras.layers.BatchNormalization(momentum=0.9)(x)\n",
    "    x = keras.layers.LeakyReLU(0)(x)\n",
    "    \n",
    "    # 256x256x24 for residual connection\n",
    "    x = keras.layers.Conv2D(channels, 1, padding='same', use_bias=False)(x)\n",
    "    \n",
    "    # residual blocks\n",
    "    for d in range(depth):\n",
    "        channels = channels * 2\n",
    "        \n",
    "        x = create_downsample(channels, x)\n",
    "            \n",
    "        for b in range(n_blocks):\n",
    "            x = create_resblock(channels, x)\n",
    "    \n",
    "    x = keras.layers.BatchNormalization(momentum=0.9)(x)\n",
    "    x = keras.layers.LeakyReLU(0)(x)\n",
    "    \n",
    "    # dilated convolutions for context - 16x16x512\n",
    "    x_2 = keras.layers.Conv2D(512, (3,3), padding='same', dilation_rate=(2,2), activation=None, name=\"dilated_conv_1\")(x)\n",
    "    x = keras.layers.BatchNormalization(momentum=0.9)(x_2)\n",
    "    x = keras.layers.LeakyReLU(0.01)(x)\n",
    "    \n",
    "    x = keras.layers.Conv2D(512, (3,3), padding='same', dilation_rate=(2,2), activation=None, name=\"dilated_conv_2\")(x)\n",
    "    x = keras.layers.BatchNormalization(momentum=0.9)(x)\n",
    "    x = keras.layers.LeakyReLU(0.01)(x)\n",
    "    \n",
    "    # downsample to 8x8x512 with stride 2\n",
    "    x = keras.layers.Conv2D(512, (3,3), padding='same', strides=(2,2), activation=None, name=\"downsample_1\")(x)\n",
    "    x = keras.layers.BatchNormalization(momentum=0.9)(x)\n",
    "    x = keras.layers.LeakyReLU(0.01)(x)\n",
    "    \n",
    "    # one more 3x3 conv to consolidate - 8x8x512\n",
    "    x = keras.layers.Conv2D(512, (3,3), padding='same', activation=None, name=\"last_conv\")(x)\n",
    "    x = keras.layers.BatchNormalization(momentum=0.9)(x)\n",
    "    x = keras.layers.LeakyReLU(0.01)(x)\n",
    "    \n",
    "    # downsample to 4x4x512\n",
    "    x = keras.layers.MaxPool2D(2)(x)\n",
    "    \n",
    "    # confidence branch\n",
    "    c = keras.layers.Conv2D(768, (1,1), padding='same', activation=None, name=\"fc_1_c\", kernel_regularizer=keras.regularizers.l2(l=0.01))(x)\n",
    "    c = keras.layers.BatchNormalization(momentum=0.9)(c)\n",
    "    c = keras.layers.LeakyReLU(0.01)(c)\n",
    "    c = keras.layers.Dropout(0.25)(c)\n",
    "    \n",
    "    c = keras.layers.Conv2D(512, (1,1), padding='same', activation=None, name=\"fc_2_c\", kernel_regularizer=keras.regularizers.l2(l=0.01))(c)\n",
    "    c = keras.layers.BatchNormalization(momentum=0.9)(c)\n",
    "    c = keras.layers.LeakyReLU(0.01)(c)\n",
    "    c = keras.layers.Dropout(0.25)(c)\n",
    "    \n",
    "    confidence = keras.layers.Conv2D(1, (1,1), padding='same', activation=None, name=\"confidence_output\")(c)\n",
    "    \n",
    "    # bounding box branch\n",
    "    b = keras.layers.Conv2D(1024, (1,1), padding='same', activation=None, name=\"fc_1_b\", kernel_regularizer=keras.regularizers.l2(l=0.001))(x)\n",
    "    b = keras.layers.BatchNormalization(momentum=0.9)(b)\n",
    "    b = keras.layers.LeakyReLU(0.01)(b)\n",
    "    b = keras.layers.Dropout(0.20)(b)\n",
    "    \n",
    "    b = keras.layers.Conv2D(768, (1,1), padding='same', activation=None, name=\"fc_2_b\")(b)\n",
    "    b = keras.layers.LeakyReLU(0.01)(b)\n",
    "    b = keras.layers.Dropout(0.10)(b)\n",
    "    \n",
    "    b = keras.layers.Conv2D(4, (1,1), padding='same', activation=\"linear\")(b)\n",
    "    boxes = keras.layers.concatenate([confidence, b], name=\"bboxes_output\")\n",
    "    \n",
    "    # return both outputs\n",
    "    model = keras.Model(inputs=inputs, outputs=boxes)\n",
    "    \n",
    "    return model"
   ]
  },
  {
   "cell_type": "markdown",
   "metadata": {
    "colab_type": "text",
    "id": "AvdSzGI4cxUL"
   },
   "source": [
    "# Train network\n"
   ]
  },
  {
   "cell_type": "code",
   "execution_count": null,
   "metadata": {
    "colab": {
     "base_uri": "https://localhost:8080/",
     "height": 3451
    },
    "colab_type": "code",
    "id": "DCgIz8CwcxUO",
    "outputId": "ce38cdfb-1806-488d-838f-d180e198a099"
   },
   "outputs": [],
   "source": [
    "# define iou or jaccard loss function\n",
    "def custom_loss(y_true, y_pred):\n",
    "    # flatten the input\n",
    "    y_true_flat = tf.reshape(y_true, (-1, 5))\n",
    "    y_pred_flat = tf.reshape(y_pred, (-1, 5))\n",
    "    \n",
    "    # split out the confidence\n",
    "    true_conf, _, _, _, _ = tf.split(y_true_flat, 5, axis=1)\n",
    "    pred_conf, _, _, _, _ = tf.split(y_pred_flat, 5, axis=1)\n",
    "    \n",
    "    # get the confidence cross entropy loss\n",
    "    xe = weighted_binary_cross_entropy(true_conf, pred_conf)\n",
    "    \n",
    "    # get the iou loss\n",
    "    iou = 1 - overlap_iou(y_true_flat, y_pred_flat)\n",
    "    \n",
    "    # mse loss\n",
    "    mse = adj_mse(y_true, y_pred)\n",
    "    \n",
    "    # combine them\n",
    "    loss = (5 * xe) + (1 * iou) + (1 * mse)\n",
    "    \n",
    "    return loss\n",
    "    \n",
    "# mean iou as a metric\n",
    "def mean_iou(y_true, y_pred):\n",
    "    y_pred = tf.round(y_pred)\n",
    "    intersect = tf.reduce_sum(y_true * y_pred, axis=[1, 2, 3])\n",
    "    union = tf.reduce_sum(y_true, axis=[1, 2, 3]) + tf.reduce_sum(y_pred, axis=[1, 2, 3])\n",
    "    smooth = tf.ones(tf.shape(intersect))\n",
    "    mean_iou = tf.reduce_mean((intersect + smooth) / (union - intersect + smooth))\n",
    "    return mean_iou\n",
    "\n",
    "def adj_mean_iou(y_true, y_pred):\n",
    "    y_pred = tf.round(y_pred)\n",
    "    y_true_pos = tf.reduce_max(y_true, axis=[1, 2, 3])\n",
    "    \n",
    "    intersect = tf.reduce_sum(y_true * y_pred, axis=[1, 2, 3])\n",
    "    union = tf.reduce_sum(y_true, axis=[1, 2, 3]) + tf.reduce_sum(y_pred, axis=[1, 2, 3])\n",
    "    smooth = tf.ones(tf.shape(intersect))\n",
    "    \n",
    "    return tf.reduce_mean((intersect + smooth) / (union - intersect + smooth))\n",
    "\n",
    "def binary_accuracy(y_true, y_pred):\n",
    "    y_true = tf.reshape(y_true, [-1])\n",
    "    y_pred = tf.round(tf.sigmoid(tf.reshape(y_pred, [-1])))\n",
    "    \n",
    "    acc = tf.reduce_mean(tf.cast(tf.equal(y_true, y_pred), dtype=tf.float32))\n",
    "    return acc\n",
    "\n",
    "# use weight of 0.5 for negative cells, 19 for positive ones\n",
    "def weighted_binary_cross_entropy(y_true, y_pred):\n",
    "    weight = 18\n",
    "    weights = tf.multiply(tf.cast(weight, tf.float32), tf.cast(tf.greater(y_true, 0), tf.float32)) + 0.5\n",
    "    xe = tf.losses.sigmoid_cross_entropy(multi_class_labels=y_true, logits=y_pred, weights=weights)\n",
    "    \n",
    "    return xe\n",
    "    \n",
    "def overlap_iou(y_true, y_pred):\n",
    "    \"\"\"\n",
    "    Args:\n",
    "        bboxes1: shape (batch_size, 16, 16, 4)\n",
    "            with x1, y1, x2, y2 point order.\n",
    "        bboxes2: shape (batch_size, 16, 16, 4)\n",
    "            with x1, y1, x2, y2 point order.\n",
    "        p1 *-----\n",
    "           |     |\n",
    "           |_____* p2\n",
    "    Returns:\n",
    "        Tensor with shape (total_bboxes1, total_bboxes2)\n",
    "        with the IoU (intersection over union) of bboxes1[i] and bboxes2[j]\n",
    "        in [i, j].\n",
    "    \"\"\"\n",
    "    # flatten the data because it's easier that way\n",
    "    bboxes1 = tf.reshape(y_true, (-1, 5))\n",
    "    bboxes2 = tf.reshape(y_pred, (-1, 5))\n",
    "    \n",
    "    # split the components out\n",
    "    true_boxes, x11, y11, w1, h1 = tf.split(bboxes1, 5, axis=1)\n",
    "    pred_conf, x21, y21, w2, h2 = tf.split(bboxes2, 5, axis=1)\n",
    "    \n",
    "    # uncenter the data - make sure the numbers are positive\n",
    "    x11 = tf.maximum(x11 + mu_center_x, 0)\n",
    "    x21 = tf.maximum(x21 + mu_center_x, 0)\n",
    "    y11 = tf.maximum(y11 + mu_center_y, 0)\n",
    "    y21 = tf.maximum(y21 + mu_center_y, 0)\n",
    "    \n",
    "    w1 = tf.maximum(w1 + mu_w, 0)\n",
    "    w2 = tf.maximum(w2 + mu_w, 0)\n",
    "    h1 = tf.maximum(h1 + mu_h, 0)\n",
    "    h2 = tf.maximum(h2 + mu_h, 0)\n",
    "    \n",
    "    # is a box predicted here? maybe use this for the IOU?\n",
    "    pred_conf = tf.sigmoid(pred_conf)\n",
    "    mask = (pred_conf >= 0.5) | (true_boxes == 1)\n",
    "    \n",
    "    # these labels are center points of the boxes so we need to calculate the corners\n",
    "    x12 = x11 + (w1 / 2)\n",
    "    y12 = y11 + (h1 / 2)\n",
    "    x22 = x21 + (w2 / 2)\n",
    "    y22 = y21 + (h2 / 2)\n",
    "    \n",
    "    x11 = x11 - (w1 / 2)\n",
    "    y11 = y11 - (h1 / 2)\n",
    "    x21 = x21 - (w2 / 2)\n",
    "    y21 = y21 - (h2 / 2)\n",
    "\n",
    "    # find the corners of the intersection area\n",
    "    xI1 = tf.maximum(x11, x21)\n",
    "    yI1 = tf.maximum(y11, y21)\n",
    "\n",
    "    xI2 = tf.minimum(x12, x22)\n",
    "    yI2 = tf.minimum(y12, y22)\n",
    "    \n",
    "    # get the intersection area, if the truth has no boxes it is 0\n",
    "    inter_area = true_boxes * (xI2 - xI1 + 1) * (yI2 - yI1 + 1)\n",
    "\n",
    "    # get the area of each box\n",
    "    bboxes1_area = (w1 + 1) * (h1 + 1)\n",
    "    bboxes2_area = (w2 + 1) * (h2 + 1)\n",
    "    \n",
    "    # union is area of both boxes - intersection\n",
    "    union = (bboxes1_area + bboxes2_area) - inter_area + 1\n",
    "    \n",
    "    # reduce the mean so we have mean iou for our inputs\n",
    "    return tf.reduce_mean(tf.maximum(inter_area / union, 0))\n",
    "\n",
    "def adj_mse(y_true, y_pred):\n",
    "#     y_true = tf.reshape(y_true, (-1, 5))\n",
    "#     y_pred = tf.reshape(y_pred, (-1, 5))\n",
    "    # separate the confidence from the boxes\n",
    "    conf_pred = y_pred[:,:,:,0]\n",
    "    box_pred = y_pred[:,:,:,1:]\n",
    "    \n",
    "    conf_true = y_true[:,:,:,0]\n",
    "    box_true = y_true[:,:,:,1:]\n",
    "    \n",
    "    # apply the sigmoid to the predicted confidence\n",
    "    conf_sigmoid = tf.sigmoid(conf_pred)\n",
    "    \n",
    "    # only get loss for boxes which are predicted positive OR are actually positive\n",
    "    mask = (conf_sigmoid > 0.5) | (conf_true == 1)\n",
    "    \n",
    "    # get the MSE\n",
    "    diff = box_true - box_pred\n",
    "    diff = tf.square(diff)\n",
    "    \n",
    "    diff = tf.reduce_mean(diff, axis=1)\n",
    "    # weight the loss with the sigmoid to weight high probability ROIs more heavily?\n",
    "    # sigmoid + 0.5 should have range 0.5 to 1.5\n",
    "#     diff = (conf_sigmoid + 0.5) * diff\n",
    "\n",
    "    # apply the mask\n",
    "    mse = tf.boolean_mask(diff, mask)\n",
    "    \n",
    "    # reduce the mean\n",
    "    mse = tf.reduce_mean(mse)\n",
    "    \n",
    "    return mse\n",
    "    \n",
    "\n",
    "# create network and compiler\n",
    "model = create_network(input_size=IMAGE_SIZE, channels=24, n_blocks=1, depth=4)\n",
    "\n",
    "losses = {\n",
    "    \"confidence_output\": weighted_binary_cross_entropy,\n",
    "    \"bboxes_output\": adj_mse,\n",
    "}\n",
    "lossWeights = { \"confidence_output\": 5.0, \"bboxes_output\": 1.0 }\n",
    "\n",
    "metrics_dict = {\n",
    "    \"confidence_output\": binary_accuracy,\n",
    "    \"bboxes_output\": [overlap_iou],\n",
    "}\n",
    "\n",
    "model.compile(optimizer='adam',\n",
    "              loss=losses,\n",
    "              loss_weights=lossWeights,\n",
    "              metrics=metrics_dict)\n",
    "\n",
    "# cosine learning rate annealing\n",
    "def exp_decay(x):\n",
    "    lr0 = 0.005\n",
    "    epochs_drop = 5\n",
    "    drop = 0.75\n",
    "    lrate = lr0 * math.pow(drop, math.floor((1+x)/epochs_drop))\n",
    "    return lrate\n",
    "\n",
    "learning_rate = tf.keras.callbacks.LearningRateScheduler(exp_decay)\n",
    "checkpoint = keras.callbacks.ModelCheckpoint(CHECKPOINT_PATH, monitor='val_loss', verbose=1, save_best_only=False, save_weights_only=True, mode='auto', period=1)\n",
    "\n",
    "# create train and validation generators\n",
    "folder = './stage_1_train_images'\n",
    "train_gen = generator(folder, train_filenames, pneumonia_locations, batch_size=BATCH_SIZE, image_size=IMAGE_SIZE, shuffle=True, augment=True, predict=False)\n",
    "valid_gen = generator(folder, valid_filenames, pneumonia_locations, batch_size=BATCH_SIZE, image_size=IMAGE_SIZE, shuffle=False, predict=False)\n",
    "\n",
    "print(model.summary())"
   ]
  },
  {
   "cell_type": "code",
   "execution_count": null,
   "metadata": {
    "colab": {},
    "colab_type": "code",
    "id": "jSSSpmNE-L1L"
   },
   "outputs": [],
   "source": [
    "model.load_weights(CHECKPOINT_PATH)"
   ]
  },
  {
   "cell_type": "code",
   "execution_count": 51,
   "metadata": {
    "colab": {
     "base_uri": "https://localhost:8080/",
     "height": 527
    },
    "colab_type": "code",
    "id": "fM5VeiuDcxUY",
    "outputId": "c3d66d6d-3c06-4aa6-f58d-46cfa42cdd9f"
   },
   "outputs": [
    {
     "name": "stderr",
     "output_type": "stream",
     "text": [
      "/home/eric/.local/lib/python3.5/site-packages/skimage/transform/_warps.py:110: UserWarning: Anti-aliasing will be enabled by default in skimage 0.15 to avoid aliasing artifacts when down-sampling images.\n",
      "  warn(\"Anti-aliasing will be enabled by default in skimage 0.15 to \"\n"
     ]
    },
    {
     "name": "stdout",
     "output_type": "stream",
     "text": [
      "Epoch 2/10\n",
      "1443/1444 [============================>.] - ETA: 0s - loss: 66.2102 - confidence_output_loss: 0.9356 - bboxes_output_loss: 111.6854 - confidence_output_binary_accuracy: 0.7337 - bboxes_output_overlap_iou: 0.0015\n",
      "Epoch 00002: saving model to yolo6_512.h5\n",
      "1444/1444 [==============================] - 930s 644ms/step - loss: 66.2399 - confidence_output_loss: 0.9355 - bboxes_output_loss: 111.7481 - confidence_output_binary_accuracy: 0.7337 - bboxes_output_overlap_iou: 0.0015 - val_loss: 58.3423 - val_confidence_output_loss: 0.8032 - val_bboxes_output_loss: 99.6675 - val_confidence_output_binary_accuracy: 0.7203 - val_bboxes_output_overlap_iou: 0.0014\n",
      "Epoch 3/10\n",
      "1443/1444 [============================>.] - ETA: 0s - loss: 65.8861 - confidence_output_loss: 0.8392 - bboxes_output_loss: 115.9954 - confidence_output_binary_accuracy: 0.7588 - bboxes_output_overlap_iou: 0.0015\n",
      "Epoch 00003: saving model to yolo6_512.h5\n",
      "1444/1444 [==============================] - 897s 621ms/step - loss: 65.9698 - confidence_output_loss: 0.8393 - bboxes_output_loss: 116.1618 - confidence_output_binary_accuracy: 0.7588 - bboxes_output_overlap_iou: 0.0015 - val_loss: 57.4189 - val_confidence_output_loss: 0.7525 - val_bboxes_output_loss: 99.5053 - val_confidence_output_binary_accuracy: 0.8343 - val_bboxes_output_overlap_iou: 0.0015\n",
      "Epoch 4/10\n",
      "1443/1444 [============================>.] - ETA: 0s - loss: 65.1006 - confidence_output_loss: 0.8218 - bboxes_output_loss: 114.9571 - confidence_output_binary_accuracy: 0.7724 - bboxes_output_overlap_iou: 0.0015\n",
      "Epoch 00004: saving model to yolo6_512.h5\n",
      "1444/1444 [==============================] - 899s 623ms/step - loss: 65.1303 - confidence_output_loss: 0.8218 - bboxes_output_loss: 115.0169 - confidence_output_binary_accuracy: 0.7724 - bboxes_output_overlap_iou: 0.0015 - val_loss: 58.7049 - val_confidence_output_loss: 0.7415 - val_bboxes_output_loss: 104.2677 - val_confidence_output_binary_accuracy: 0.7919 - val_bboxes_output_overlap_iou: 0.0015\n",
      "Epoch 5/10\n",
      "1443/1444 [============================>.] - ETA: 0s - loss: 65.1376 - confidence_output_loss: 0.7916 - bboxes_output_loss: 116.3925 - confidence_output_binary_accuracy: 0.7845 - bboxes_output_overlap_iou: 0.0015\n",
      "Epoch 00005: saving model to yolo6_512.h5\n",
      "1444/1444 [==============================] - 898s 622ms/step - loss: 65.1021 - confidence_output_loss: 0.7914 - bboxes_output_loss: 116.3246 - confidence_output_binary_accuracy: 0.7844 - bboxes_output_overlap_iou: 0.0015 - val_loss: 61.2571 - val_confidence_output_loss: 0.7318 - val_bboxes_output_loss: 109.8408 - val_confidence_output_binary_accuracy: 0.7767 - val_bboxes_output_overlap_iou: 0.0015\n",
      "Epoch 6/10\n",
      "1443/1444 [============================>.] - ETA: 0s - loss: 67.5723 - confidence_output_loss: 0.7792 - bboxes_output_loss: 121.9801 - confidence_output_binary_accuracy: 0.7893 - bboxes_output_overlap_iou: 0.0015\n",
      "Epoch 00006: saving model to yolo6_512.h5\n",
      "1444/1444 [==============================] - 896s 620ms/step - loss: 67.5483 - confidence_output_loss: 0.7791 - bboxes_output_loss: 121.9348 - confidence_output_binary_accuracy: 0.7893 - bboxes_output_overlap_iou: 0.0015 - val_loss: 57.0359 - val_confidence_output_loss: 0.7791 - val_bboxes_output_loss: 101.2150 - val_confidence_output_binary_accuracy: 0.8847 - val_bboxes_output_overlap_iou: 0.0015\n",
      "Epoch 7/10\n",
      "1443/1444 [============================>.] - ETA: 0s - loss: 62.2674 - confidence_output_loss: 0.7718 - bboxes_output_loss: 111.8010 - confidence_output_binary_accuracy: 0.7976 - bboxes_output_overlap_iou: 0.0015\n",
      "Epoch 00007: saving model to yolo6_512.h5\n",
      "1444/1444 [==============================] - 896s 620ms/step - loss: 62.3158 - confidence_output_loss: 0.7718 - bboxes_output_loss: 111.8982 - confidence_output_binary_accuracy: 0.7976 - bboxes_output_overlap_iou: 0.0015 - val_loss: 57.1645 - val_confidence_output_loss: 0.6733 - val_bboxes_output_loss: 103.2038 - val_confidence_output_binary_accuracy: 0.8214 - val_bboxes_output_overlap_iou: 0.0015\n",
      "Epoch 8/10\n",
      "1443/1444 [============================>.] - ETA: 0s - loss: 65.7573 - confidence_output_loss: 0.7649 - bboxes_output_loss: 119.0671 - confidence_output_binary_accuracy: 0.7965 - bboxes_output_overlap_iou: 0.0015\n",
      "Epoch 00008: saving model to yolo6_512.h5\n",
      "1444/1444 [==============================] - 896s 621ms/step - loss: 65.7244 - confidence_output_loss: 0.7648 - bboxes_output_loss: 119.0028 - confidence_output_binary_accuracy: 0.7965 - bboxes_output_overlap_iou: 0.0015 - val_loss: 64.3807 - val_confidence_output_loss: 0.7149 - val_bboxes_output_loss: 117.2327 - val_confidence_output_binary_accuracy: 0.7722 - val_bboxes_output_overlap_iou: 0.0015\n",
      "Epoch 9/10\n",
      "1443/1444 [============================>.] - ETA: 0s - loss: 66.7167 - confidence_output_loss: 0.7566 - bboxes_output_loss: 120.7675 - confidence_output_binary_accuracy: 0.7999 - bboxes_output_overlap_iou: 0.0015\n",
      "Epoch 00009: saving model to yolo6_512.h5\n",
      "1444/1444 [==============================] - 902s 625ms/step - loss: 66.7736 - confidence_output_loss: 0.7564 - bboxes_output_loss: 120.8834 - confidence_output_binary_accuracy: 0.7999 - bboxes_output_overlap_iou: 0.0015 - val_loss: 64.0548 - val_confidence_output_loss: 0.9300 - val_bboxes_output_loss: 113.0969 - val_confidence_output_binary_accuracy: 0.6512 - val_bboxes_output_overlap_iou: 0.0015\n",
      "Epoch 10/10\n",
      "1443/1444 [============================>.] - ETA: 0s - loss: 64.8196 - confidence_output_loss: 0.7358 - bboxes_output_loss: 117.8044 - confidence_output_binary_accuracy: 0.8042 - bboxes_output_overlap_iou: 0.0015\n",
      "Epoch 00010: saving model to yolo6_512.h5\n",
      "1444/1444 [==============================] - 900s 624ms/step - loss: 64.8281 - confidence_output_loss: 0.7357 - bboxes_output_loss: 117.8225 - confidence_output_binary_accuracy: 0.8042 - bboxes_output_overlap_iou: 0.0015 - val_loss: 59.6403 - val_confidence_output_loss: 0.6659 - val_bboxes_output_loss: 108.5910 - val_confidence_output_binary_accuracy: 0.8489 - val_bboxes_output_overlap_iou: 0.0015\n"
     ]
    }
   ],
   "source": [
    "history = model.fit_generator(train_gen, validation_data=valid_gen, callbacks=[learning_rate, checkpoint], epochs=10, shuffle=True, verbose=1, initial_epoch=1)"
   ]
  },
  {
   "cell_type": "code",
   "execution_count": null,
   "metadata": {
    "colab": {},
    "colab_type": "code",
    "id": "7tyG7P79Y42U"
   },
   "outputs": [
    {
     "name": "stderr",
     "output_type": "stream",
     "text": [
      "/home/eric/.local/lib/python3.5/site-packages/skimage/transform/_warps.py:110: UserWarning: Anti-aliasing will be enabled by default in skimage 0.15 to avoid aliasing artifacts when down-sampling images.\n",
      "  warn(\"Anti-aliasing will be enabled by default in skimage 0.15 to \"\n"
     ]
    },
    {
     "name": "stdout",
     "output_type": "stream",
     "text": [
      "Epoch 11/20\n",
      "1443/1444 [============================>.] - ETA: 0s - loss: 119.8281 - confidence_output_loss: 0.7297 - bboxes_output_loss: 115.7856 - confidence_output_binary_accuracy: 0.8086 - bboxes_output_overlap_iou: 0.0016\n",
      "Epoch 00011: saving model to yolo6_512.h5\n",
      "1444/1444 [==============================] - 917s 635ms/step - loss: 119.8065 - confidence_output_loss: 0.7295 - bboxes_output_loss: 115.7646 - confidence_output_binary_accuracy: 0.8086 - bboxes_output_overlap_iou: 0.0016 - val_loss: 115.3053 - val_confidence_output_loss: 0.6995 - val_bboxes_output_loss: 111.3267 - val_confidence_output_binary_accuracy: 0.7888 - val_bboxes_output_overlap_iou: 0.0017\n",
      "Epoch 12/20\n",
      "1443/1444 [============================>.] - ETA: 0s - loss: 119.8126 - confidence_output_loss: 0.7333 - bboxes_output_loss: 115.6399 - confidence_output_binary_accuracy: 0.8086 - bboxes_output_overlap_iou: 0.0019\n",
      "Epoch 00012: saving model to yolo6_512.h5\n",
      "1444/1444 [==============================] - 889s 616ms/step - loss: 119.7568 - confidence_output_loss: 0.7333 - bboxes_output_loss: 115.5841 - confidence_output_binary_accuracy: 0.8086 - bboxes_output_overlap_iou: 0.0019 - val_loss: 98.7567 - val_confidence_output_loss: 0.7113 - val_bboxes_output_loss: 94.6936 - val_confidence_output_binary_accuracy: 0.7684 - val_bboxes_output_overlap_iou: 0.0023\n",
      "Epoch 13/20\n",
      "1443/1444 [============================>.] - ETA: 0s - loss: 118.3242 - confidence_output_loss: 0.7302 - bboxes_output_loss: 114.1567 - confidence_output_binary_accuracy: 0.8108 - bboxes_output_overlap_iou: 0.0022\n",
      "Epoch 00013: saving model to yolo6_512.h5\n",
      "1444/1444 [==============================] - 890s 617ms/step - loss: 118.3313 - confidence_output_loss: 0.7301 - bboxes_output_loss: 114.1641 - confidence_output_binary_accuracy: 0.8107 - bboxes_output_overlap_iou: 0.0022 - val_loss: 100.5744 - val_confidence_output_loss: 0.6703 - val_bboxes_output_loss: 96.6797 - val_confidence_output_binary_accuracy: 0.7675 - val_bboxes_output_overlap_iou: 0.0026\n",
      "Epoch 14/20\n",
      "1443/1444 [============================>.] - ETA: 0s - loss: 111.6681 - confidence_output_loss: 0.7210 - bboxes_output_loss: 107.5429 - confidence_output_binary_accuracy: 0.8158 - bboxes_output_overlap_iou: 0.0022\n",
      "Epoch 00014: saving model to yolo6_512.h5\n",
      "1444/1444 [==============================] - 882s 611ms/step - loss: 111.6668 - confidence_output_loss: 0.7209 - bboxes_output_loss: 107.5420 - confidence_output_binary_accuracy: 0.8158 - bboxes_output_overlap_iou: 0.0022 - val_loss: 93.7467 - val_confidence_output_loss: 0.7157 - val_bboxes_output_loss: 89.6350 - val_confidence_output_binary_accuracy: 0.7657 - val_bboxes_output_overlap_iou: 0.0023\n",
      "Epoch 15/20\n",
      "1443/1444 [============================>.] - ETA: 0s - loss: 114.0090 - confidence_output_loss: 0.7081 - bboxes_output_loss: 110.0169 - confidence_output_binary_accuracy: 0.8203 - bboxes_output_overlap_iou: 0.0025\n",
      "Epoch 00015: saving model to yolo6_512.h5\n",
      "1444/1444 [==============================] - 885s 613ms/step - loss: 114.0254 - confidence_output_loss: 0.7081 - bboxes_output_loss: 110.0331 - confidence_output_binary_accuracy: 0.8203 - bboxes_output_overlap_iou: 0.0025 - val_loss: 93.7848 - val_confidence_output_loss: 0.6258 - val_bboxes_output_loss: 90.2053 - val_confidence_output_binary_accuracy: 0.8154 - val_bboxes_output_overlap_iou: 0.0025\n",
      "Epoch 16/20\n",
      "1443/1444 [============================>.] - ETA: 0s - loss: 110.2593 - confidence_output_loss: 0.7024 - bboxes_output_loss: 106.2934 - confidence_output_binary_accuracy: 0.8261 - bboxes_output_overlap_iou: 0.0025\n",
      "Epoch 00016: saving model to yolo6_512.h5\n",
      "1444/1444 [==============================] - 892s 618ms/step - loss: 110.1906 - confidence_output_loss: 0.7022 - bboxes_output_loss: 106.2257 - confidence_output_binary_accuracy: 0.8261 - bboxes_output_overlap_iou: 0.0025 - val_loss: 97.7827 - val_confidence_output_loss: 0.6704 - val_bboxes_output_loss: 93.9856 - val_confidence_output_binary_accuracy: 0.7502 - val_bboxes_output_overlap_iou: 0.0034\n",
      "Epoch 17/20\n",
      "1443/1444 [============================>.] - ETA: 0s - loss: 110.5936 - confidence_output_loss: 0.6946 - bboxes_output_loss: 106.6487 - confidence_output_binary_accuracy: 0.8250 - bboxes_output_overlap_iou: 0.0026\n",
      "Epoch 00017: saving model to yolo6_512.h5\n",
      "1444/1444 [==============================] - 881s 610ms/step - loss: 110.5346 - confidence_output_loss: 0.6945 - bboxes_output_loss: 106.5904 - confidence_output_binary_accuracy: 0.8250 - bboxes_output_overlap_iou: 0.0026 - val_loss: 103.6113 - val_confidence_output_loss: 0.5967 - val_bboxes_output_loss: 100.1654 - val_confidence_output_binary_accuracy: 0.8275 - val_bboxes_output_overlap_iou: 0.0028\n",
      "Epoch 18/20\n",
      "1293/1444 [=========================>....] - ETA: 1:24 - loss: 108.8683 - confidence_output_loss: 0.6889 - bboxes_output_loss: 104.9697 - confidence_output_binary_accuracy: 0.8210 - bboxes_output_overlap_iou: 0.0027"
     ]
    }
   ],
   "source": [
    "history = model.fit_generator(train_gen, validation_data=valid_gen, callbacks=[learning_rate, checkpoint], epochs=20, shuffle=True, verbose=1, initial_epoch=10)"
   ]
  },
  {
   "cell_type": "code",
   "execution_count": null,
   "metadata": {},
   "outputs": [],
   "source": [
    "history = model.fit_generator(train_gen, validation_data=valid_gen, callbacks=[learning_rate, checkpoint], epochs=25, shuffle=True, verbose=1, initial_epoch=20)"
   ]
  },
  {
   "cell_type": "code",
   "execution_count": null,
   "metadata": {},
   "outputs": [],
   "source": [
    "history = model.fit_generator(train_gen, validation_data=valid_gen, callbacks=[learning_rate, checkpoint], epochs=35, shuffle=True, verbose=1, initial_epoch=25)"
   ]
  },
  {
   "cell_type": "code",
   "execution_count": 54,
   "metadata": {
    "colab": {
     "base_uri": "https://localhost:8080/",
     "height": 269
    },
    "colab_type": "code",
    "id": "y_bLpJPBcxUh",
    "outputId": "49c438f6-aabc-41b9-f98e-1bf8519da3cc"
   },
   "outputs": [
    {
     "data": {
      "image/png": "[encoded data removed]",
      "text/plain": [
       "<Figure size 864x288 with 3 Axes>"
      ]
     },
     "metadata": {
      "needs_background": "light"
     },
     "output_type": "display_data"
    }
   ],
   "source": [
    "plt.figure(figsize=(12,4))\n",
    "plt.subplot(131)\n",
    "plt.plot(history.epoch, history.history[\"loss\"], label=\"Train loss\")\n",
    "plt.plot(history.epoch, history.history[\"val_loss\"], label=\"Valid loss\")\n",
    "plt.legend()\n",
    "plt.subplot(132)\n",
    "plt.plot(history.epoch, history.history[\"confidence_output_binary_accuracy\"], label=\"Train Confidence accuracy\")\n",
    "plt.plot(history.epoch, history.history[\"val_confidence_output_binary_accuracy\"], label=\"Valid Confidence accuracy\")\n",
    "plt.legend()\n",
    "plt.subplot(133)\n",
    "plt.plot(history.epoch, history.history[\"bboxes_output_overlap_iou\"], label=\"Train iou\")\n",
    "plt.plot(history.epoch, history.history[\"val_bboxes_output_overlap_iou\"], label=\"Valid iou\")\n",
    "plt.legend()\n",
    "plt.show()"
   ]
  },
  {
   "cell_type": "code",
   "execution_count": null,
   "metadata": {},
   "outputs": [],
   "source": [
    "plt.figure(figsize=(12,4))\n",
    "plt.subplot(131)\n",
    "plt.plot(history.epoch, history.history[\"loss\"], label=\"Train loss\")\n",
    "plt.plot(history.epoch, history.history[\"val_loss\"], label=\"Valid loss\")\n",
    "plt.legend()\n",
    "plt.subplot(132)\n",
    "plt.plot(history.epoch, history.history[\"confidence_output_binary_accuracy\"], label=\"Train Confidence accuracy\")\n",
    "plt.plot(history.epoch, history.history[\"val_confidence_output_binary_accuracy\"], label=\"Valid Confidence accuracy\")\n",
    "plt.legend()\n",
    "plt.subplot(133)\n",
    "plt.plot(history.epoch, history.history[\"bboxes_output_overlap_iou\"], label=\"Train iou\")\n",
    "plt.plot(history.epoch, history.history[\"val_bboxes_output_overlap_iou\"], label=\"Valid iou\")\n",
    "plt.legend()\n",
    "plt.show()"
   ]
  },
  {
   "cell_type": "markdown",
   "metadata": {
    "colab_type": "text",
    "id": "7dpxfbugzcLT"
   },
   "source": [
    "## Sample Predictions"
   ]
  },
  {
   "cell_type": "code",
   "execution_count": null,
   "metadata": {
    "colab": {},
    "colab_type": "code",
    "id": "c-eU6Le2zdtF"
   },
   "outputs": [],
   "source": [
    "THRESHOLD = 0.5\n",
    "OVERLAP = 0.3\n",
    "# look at some sample predictions\n",
    "samples = np.random.choice(valid_filenames, size=8, replace=False)\n",
    "\n",
    "for filename in samples:\n",
    "    # load the image\n",
    "    img = pydicom.dcmread(os.path.join(train_dicom_dir, filename)).pixel_array\n",
    "    \n",
    "    filename = filename.split('.')[0]\n",
    "    \n",
    "    f, ax = plt.subplots(figsize=(6, 6))\n",
    "    plt.imshow(img)\n",
    "    # get boxes for the truth\n",
    "    if filename in pneumonia_locations:\n",
    "        locs = pneumonia_locations[filename]\n",
    "        for i in range(4):\n",
    "            for j in range(4):\n",
    "                pixel_data = locs[i,j,:]\n",
    "                if pixel_data[0] > 0:\n",
    "                    x, y, w, h = pixel_data[1:]\n",
    "                    x = int(x)\n",
    "                    y = int(y)\n",
    "                    w = int(w)\n",
    "                    h = int(h)\n",
    "                    \n",
    "                    # uncenter the data\n",
    "                    x = x + mu_center_x\n",
    "                    y = y + mu_center_y\n",
    "                    w = w + mu_w\n",
    "                    h = h + mu_h\n",
    "                    \n",
    "                    # get the corners\n",
    "                    x = x - (w // 2)\n",
    "                    y = y - (h // 2)\n",
    "                    \n",
    "                    rect = patches.Rectangle((x,y),w,h,linewidth=1,edgecolor='b',facecolor='none')\n",
    "                    ax.add_patch(rect)\n",
    "    \n",
    "    # predict the image\n",
    "    img = resize(img, (IMAGE_SIZE, IMAGE_SIZE), mode='reflect')\n",
    "    yhat = model.predict(img.reshape(1, IMAGE_SIZE, IMAGE_SIZE, 1))\n",
    "    \n",
    "    conf = np.squeeze(yhat[0])\n",
    "    bboxes = np.squeeze(yhat[1])\n",
    "    boxes = []\n",
    "    \n",
    "    print(\"Max:\", sigmoid(np.max(conf)))\n",
    "    # loop through our predictions\n",
    "    for i in range(4):\n",
    "        for j in range(4):\n",
    "            conf_ = sigmoid(conf[i, j])\n",
    "            # if we have a prediction\n",
    "            if conf_ > THRESHOLD:\n",
    "                _, x,y,w,h = bboxes[i,j,:]\n",
    "                x = int(x)\n",
    "                y = int(y)\n",
    "                w = int(w)\n",
    "                h = int(h)\n",
    "                \n",
    "                # uncenter the coordinates by adding the mean\n",
    "                x = x + mu_center_x\n",
    "                y = y + mu_center_y\n",
    "                w = w + mu_w\n",
    "                h = h + mu_h\n",
    "                \n",
    "                # convert to upper left corner from center\n",
    "                x = x - (w // 2)\n",
    "                y = y - (h // 2)\n",
    "                \n",
    "                # if the boxes have width and height\n",
    "                if w > 5 and h > 5:\n",
    "                    print(x,y,w,h)\n",
    "                    boxes.append([x,y,w,h])\n",
    "    \n",
    "    # do non-max suppression of our boxes\n",
    "    boxes = non_max_suppression_fast(np.array(boxes), OVERLAP)\n",
    "    \n",
    "    # plot our boxes\n",
    "    for box in boxes:\n",
    "        w,y,w,h = box\n",
    "        rect = patches.Rectangle((x,y),w,h,linewidth=1,edgecolor='r',facecolor='none')\n",
    "        ax.add_patch(rect)\n",
    "\n",
    "    plt.show()"
   ]
  },
  {
   "cell_type": "markdown",
   "metadata": {
    "colab_type": "text",
    "id": "3tAntxescxUq"
   },
   "source": [
    "# Predict test images"
   ]
  },
  {
   "cell_type": "code",
   "execution_count": null,
   "metadata": {
    "colab": {
     "base_uri": "https://localhost:8080/",
     "height": 34
    },
    "colab_type": "code",
    "id": "fnu7ebfScxUu",
    "outputId": "2e91d334-3204-4213-b74c-4c112b1c3512"
   },
   "outputs": [],
   "source": [
    "THRESHOLD = 0.5\n",
    "\n",
    "# load and shuffle filenames\n",
    "folder = './stage_1_test_images'\n",
    "test_filenames = os.listdir(folder)\n",
    "print('n test samples:', len(test_filenames))\n",
    "\n",
    "# create test generator with predict flag set to True\n",
    "test_gen = generator(folder, test_filenames, None, batch_size=3, image_size=IMAGE_SIZE, shuffle=False, predict=True)\n",
    "\n",
    "# create submission dictionary\n",
    "submission_dict = {}\n",
    "# loop through testset\n",
    "for imgs, filenames in test_gen:\n",
    "    \n",
    "    # predict batch of images\n",
    "    conf_preds, bbox_preds = model.predict(imgs)\n",
    "    \n",
    "    # loop through batch\n",
    "    for confs, bboxes, filename in zip(conf_preds, bbox_preds, filenames):\n",
    "        predictionString = \"\"\n",
    "        print(filename)\n",
    "        boxes = []\n",
    "        for i in range(4):\n",
    "            for j in range(4):\n",
    "                conf = sigmoid(confs[i, j, 0])\n",
    "                if conf > THRESHOLD:\n",
    "                    x, y, w, h = bboxes[i,j]\n",
    "                    \n",
    "                    # possible thresholds to keep our boxes within reasonable sizes?\n",
    "                    if True: #w < 600 and h < 1000:\n",
    "                        # cast to ints\n",
    "                        x = int(x)\n",
    "                        y = int(y)\n",
    "                        w = int(w)\n",
    "                        h = int(h)\n",
    "                        \n",
    "                        # uncenter the coordinates by adding the mean\n",
    "                        x = x + mu_center_x\n",
    "                        y = y + mu_center_y\n",
    "                        w = w + mu_w\n",
    "                        h = h + mu_h\n",
    "                        \n",
    "                        # convert to upper left corner from center\n",
    "                        x = x - (w // 2)\n",
    "                        y = y - (h // 2)\n",
    "                        \n",
    "                        if w > 20 and h > 20:\n",
    "                            # make sure our boxes don't run off the edges of the images\n",
    "                            w = np.minimum(w, 1024 - x)\n",
    "                            h = np.minimum(h, 1024 - y)\n",
    "                            boxes.append([x,y,w,h])\n",
    "\n",
    "        # do our non-max suppression here\n",
    "        boxes = non_max_suppression_fast(np.array(boxes), 0.3)\n",
    "        \n",
    "        # loop through our suppressed boxes and creat the prediction string\n",
    "        for box in boxes:\n",
    "            x,y,w,h = box\n",
    "            # create the prediction string\n",
    "            predictionString += str(conf) + ' ' + str(x) + ' ' + str(y) + ' ' + str(w) + ' ' + str(h) + ' '\n",
    "            \n",
    "        # add filename and predictionString to dictionary\n",
    "        filename = filename.split('.')[0]\n",
    "        submission_dict[filename] = predictionString\n",
    "\n",
    "    # stop if we've got them all\n",
    "    if len(submission_dict) >= len(test_filenames):\n",
    "        break\n",
    "    break\n",
    "    \n",
    "# save dictionary as csv file\n",
    "sub = pd.DataFrame.from_dict(submission_dict,orient='index')\n",
    "sub.index.names = ['patientId']\n",
    "sub.columns = ['PredictionString']\n",
    "\n",
    "now = datetime.datetime.now()\n",
    "today = str(now)[:10]\n",
    "submission_file = today + \"_yolo_submission.csv\" \n",
    "sub.to_csv(submission_file)"
   ]
  },
  {
   "cell_type": "code",
   "execution_count": 19,
   "metadata": {
    "colab": {
     "base_uri": "https://localhost:8080/",
     "height": 34
    },
    "colab_type": "code",
    "id": "U1NEg9QCcxU4",
    "outputId": "c7e7ccf3-3e94-4996-a07d-a1098b69f3ce"
   },
   "outputs": [
    {
     "name": "stdout",
     "output_type": "stream",
     "text": [
      "Successfully submitted to RSNA Pneumonia Detection Challenge"
     ]
    }
   ],
   "source": [
    "!kaggle competitions submit -c rsna-pneumonia-detection-challenge -f submission.csv -m \"YOLOv2 512x512 10 epochs\""
   ]
  },
  {
   "cell_type": "code",
   "execution_count": 20,
   "metadata": {
    "colab": {
     "base_uri": "https://localhost:8080/",
     "height": 68
    },
    "colab_type": "code",
    "id": "NTQ_vDaVfvZR",
    "outputId": "a9eb81fb-572d-4236-b497-6bc44130aa89"
   },
   "outputs": [
    {
     "name": "stdout",
     "output_type": "stream",
     "text": [
      "File ID: 1GGJOHEa4uJTtlo-cvF2NLYjCbKp6hq3_\n",
      "File ID: 1C7SXJVn51_rnrx8bU_1v8k-zeFhHybkJ\n"
     ]
    },
    {
     "data": {
      "text/plain": [
       "{'id': '1C7SXJVn51_rnrx8bU_1v8k-zeFhHybkJ'}"
      ]
     },
     "execution_count": 20,
     "metadata": {
      "tags": []
     },
     "output_type": "execute_result"
    }
   ],
   "source": [
    "save_file_to_drive(\"submission.csv\", \"submission.csv\")\n",
    "save_file_to_drive(CHECKPOINT_PATH, CHECKPOINT_PATH)"
   ]
  },
  {
   "cell_type": "code",
   "execution_count": 21,
   "metadata": {
    "colab": {
     "base_uri": "https://localhost:8080/",
     "height": 85
    },
    "colab_type": "code",
    "id": "yf06y04TVRi2",
    "outputId": "1ca39a9a-1aa6-4e2a-ec86-39a826c676dd"
   },
   "outputs": [
    {
     "name": "stdout",
     "output_type": "stream",
     "text": [
      "Updated property [core/project].\n",
      "Copying file://./model7_448.h5 [Content-Type=application/octet-stream]...\n",
      "|\n",
      "Operation completed over 1 objects/93.8 MiB.                                     \n"
     ]
    }
   ],
   "source": [
    "# upload checkpoint to GCS\n",
    "project_id = 'mammography-198911'\n",
    "bucket_name = 'pneumonia'\n",
    "\n",
    "!gcloud config set project {project_id}\n",
    "!gsutil cp ./{CHECKPOINT_PATH} gs://{bucket_name}/"
   ]
  },
  {
   "cell_type": "code",
   "execution_count": 19,
   "metadata": {},
   "outputs": [
    {
     "name": "stdout",
     "output_type": "stream",
     "text": [
      "Updated property [core/project].\r\n"
     ]
    }
   ],
   "source": [
    "# upload checkpoint to GCS\n",
    "project_id = 'mammography-198911'\n",
    "bucket_name = 'pneumonia'\n",
    "\n",
    "!gcloud config set project {project_id}"
   ]
  },
  {
   "cell_type": "code",
   "execution_count": 20,
   "metadata": {},
   "outputs": [
    {
     "name": "stdout",
     "output_type": "stream",
     "text": [
      "Copying file://./yolo_labels.p [Content-Type=text/x-pascal]...\r\n",
      "/ [0 files][    0.0 B/252.7 MiB]                                                \r",
      "==> NOTE: You are uploading one or more large file(s), which would run\r\n",
      "significantly faster if you enable parallel composite uploads. This\r\n",
      "feature can be enabled by editing the\r\n",
      "\"parallel_composite_upload_threshold\" value in your .boto\r\n",
      "configuration file. However, note that if you do this large files will\r\n",
      "be uploaded as `composite objects\r\n",
      "<https://cloud.google.com/storage/docs/composite-objects>`_,which\r\n",
      "means that any user who downloads such objects will need to have a\r\n",
      "compiled crcmod installed (see \"gsutil help crcmod\"). This is because\r\n",
      "without a compiled crcmod, computing checksums on composite objects is\r\n",
      "so slow that gsutil disables downloads of composite objects.\r\n",
      "\r\n",
      "ResumableUploadAbortException: 403 Insufficient Permission\r\n"
     ]
    }
   ],
   "source": [
    "!gsutil cp ./yolo_labels.p gs://{bucket_name}/"
   ]
  }
 ],
 "metadata": {
  "accelerator": "GPU",
  "colab": {
   "collapsed_sections": [],
   "name": "best_cnn_segmentation_connected_components_384x384_2.ipynb",
   "provenance": [],
   "version": "0.3.2"
  },
  "kernelspec": {
   "display_name": "Python 3",
   "language": "python",
   "name": "python3"
  },
  "language_info": {
   "codemirror_mode": {
    "name": "ipython",
    "version": 3
   },
   "file_extension": ".py",
   "mimetype": "text/x-python",
   "name": "python",
   "nbconvert_exporter": "python",
   "pygments_lexer": "ipython3",
   "version": "3.5.2"
  }
 },
 "nbformat": 4,
 "nbformat_minor": 1
}
