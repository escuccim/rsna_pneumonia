{
 "cells": [
  {
   "cell_type": "code",
   "execution_count": 1,
   "metadata": {},
   "outputs": [],
   "source": [
    "import numpy as np"
   ]
  },
  {
   "cell_type": "code",
   "execution_count": 24,
   "metadata": {},
   "outputs": [],
   "source": [
    "#  Felzenszwalb et al.\n",
    "def non_max_suppression_slow(boxes, overlapThresh):\n",
    "    # if there are no boxes, return an empty list\n",
    "    if len(boxes) == 0:\n",
    "        return []\n",
    " \n",
    "    # initialize the list of picked indexes\n",
    "    pick = []\n",
    " \n",
    "    # grab the coordinates of the bounding boxes\n",
    "    x1 = boxes[:,0]\n",
    "    y1 = boxes[:,1]\n",
    "    w = boxes[:,2]\n",
    "    h = boxes[:,3]\n",
    "    x2 = x1 + w\n",
    "    y2 = y1 + h\n",
    " \n",
    "    # compute the area of the bounding boxes and sort the bounding\n",
    "    # boxes by the bottom-right y-coordinate of the bounding box\n",
    "    area = (w + 1) * (h + 1)\n",
    "    idxs = np.argsort(y2)\n",
    "    \n",
    "    # keep looping while some indexes still remain in the indexes list\n",
    "    while len(idxs) > 0:\n",
    "        # grab the last index in the indexes list, add the index\n",
    "        # value to the list of picked indexes, then initialize\n",
    "        # the suppression list (i.e. indexes that will be deleted)\n",
    "        # using the last index\n",
    "        last = len(idxs) - 1\n",
    "        i = idxs[last]\n",
    "        pick.append(i)\n",
    "        suppress = [last]"
   ]
  },
  {
   "cell_type": "code",
   "execution_count": 32,
   "metadata": {},
   "outputs": [],
   "source": [
    "# Malisiewicz et al.\n",
    "def non_max_suppression_fast(boxes, overlapThresh):\n",
    "    # if there are no boxes, return an empty list\n",
    "    if len(boxes) == 0:\n",
    "        return []\n",
    " \n",
    "    # if the bounding boxes integers, convert them to floats --\n",
    "    # this is important since we'll be doing a bunch of divisions\n",
    "    if boxes.dtype.kind == \"i\":\n",
    "        boxes = boxes.astype(\"float\")\n",
    " \n",
    "    # initialize the list of picked indexes\t\n",
    "    pick = []\n",
    " \n",
    "    # grab the coordinates of the bounding boxes\n",
    "    x1 = boxes[:,0]\n",
    "    y1 = boxes[:,1]\n",
    "    w = boxes[:,2]\n",
    "    h = boxes[:,3]\n",
    " \n",
    "    x2 = x1 + w\n",
    "    y2 = y1 + h\n",
    "\n",
    "    # compute the area of the bounding boxes and sort the bounding\n",
    "    # boxes by the bottom-right y-coordinate of the bounding box\n",
    "    area = (w + 1) * (h + 1)\n",
    "    idxs = np.argsort(y2)\n",
    " \n",
    "    # keep looping while some indexes still remain in the indexes\n",
    "    # list\n",
    "    while len(idxs) > 0:\n",
    "        # grab the last index in the indexes list and add the\n",
    "        # index value to the list of picked indexes\n",
    "        last = len(idxs) - 1\n",
    "        i = idxs[last]\n",
    "        pick.append(i)\n",
    " \n",
    "        # find the largest (x, y) coordinates for the start of\n",
    "        # the bounding box and the smallest (x, y) coordinates\n",
    "        # for the end of the bounding box\n",
    "        xx1 = np.maximum(x1[i], x1[idxs[:last]])\n",
    "        yy1 = np.maximum(y1[i], y1[idxs[:last]])\n",
    "        xx2 = np.minimum(x2[i], x2[idxs[:last]])\n",
    "        yy2 = np.minimum(y2[i], y2[idxs[:last]])\n",
    " \n",
    "        # compute the width and height of the bounding box\n",
    "        w = np.maximum(0, xx2 - xx1 + 1)\n",
    "        h = np.maximum(0, yy2 - yy1 + 1)\n",
    " \n",
    "        # compute the ratio of overlap\n",
    "        overlap = (w * h) / area[idxs[:last]]\n",
    " \n",
    "        # delete all indexes from the index list that have\n",
    "        idxs = np.delete(idxs, np.concatenate(([last],\n",
    "            np.where(overlap > overlapThresh)[0])))\n",
    " \n",
    "    # return only the bounding boxes that were picked using the\n",
    "    # integer data type\n",
    "    return boxes[pick].astype(\"int\")"
   ]
  },
  {
   "cell_type": "code",
   "execution_count": 43,
   "metadata": {},
   "outputs": [],
   "source": [
    "boxes = np.array([[2, 2, 1, 2],\n",
    "    [2, 2, 1, 2],\n",
    "    [5, 7, 3, 5],\n",
    "    [2, 2, 1, 1],\n",
    "    [25, 27, 16, 24],\n",
    "    [9, 11, 6, 8],\n",
    "    [2, 3, 1, 2],\n",
    "    [4, 5, 2, 3],\n",
    "    [13, 15, 8, 12],\n",
    "    [6, 8, 4, 5],\n",
    "    [18, 20, 12, 17]])"
   ]
  },
  {
   "cell_type": "code",
   "execution_count": 50,
   "metadata": {},
   "outputs": [],
   "source": [
    "foo = non_max_suppression_fast(boxes, 0.2)"
   ]
  },
  {
   "cell_type": "code",
   "execution_count": 51,
   "metadata": {},
   "outputs": [
    {
     "name": "stdout",
     "output_type": "stream",
     "text": [
      "Boxes: (11, 4)\n",
      "Filtered: (5, 4)\n"
     ]
    }
   ],
   "source": [
    "print(\"Boxes:\",boxes.shape)\n",
    "print(\"Filtered:\",foo.shape)"
   ]
  },
  {
   "cell_type": "code",
   "execution_count": 38,
   "metadata": {},
   "outputs": [],
   "source": [
    "import matplotlib.pyplot as plt\n",
    "import matplotlib.patches as patches\n",
    "%matplotlib inline"
   ]
  },
  {
   "cell_type": "code",
   "execution_count": 52,
   "metadata": {},
   "outputs": [
    {
     "data": {
      "image/png": "[encoded data removed]",
      "text/plain": [
       "<Figure size 720x720 with 1 Axes>"
      ]
     },
     "metadata": {
      "needs_background": "light"
     },
     "output_type": "display_data"
    }
   ],
   "source": [
    "coords = np.arange(0, 100, 10)\n",
    "\n",
    "fig,ax = plt.subplots(1, figsize=(10,10))\n",
    "\n",
    "for box in foo:\n",
    "    x, y, w, h = box\n",
    "    rect = patches.Rectangle((x,y),w,h,linewidth=2,edgecolor='r',facecolor='none')\n",
    "    ax.add_patch(rect)\n",
    "\n",
    "for box in boxes:   \n",
    "    box = box + 0.1\n",
    "    x, y, w, h = box\n",
    "    rect = patches.Rectangle((x,y),w,h,linewidth=1,edgecolor='b',facecolor='none')\n",
    "    ax.add_patch(rect)\n",
    "\n",
    "plt.xticks(coords)\n",
    "plt.yticks(coords)\n",
    "for item in coords:\n",
    "    plt.axvline(item, linewidth=0.5)\n",
    "    plt.axhline(item, linewidth=0.5)\n",
    "plt.xlim(0,100)\n",
    "plt.ylim(0,100)\n",
    "plt.show()"
   ]
  },
  {
   "cell_type": "code",
   "execution_count": null,
   "metadata": {},
   "outputs": [],
   "source": []
  },
  {
   "cell_type": "code",
   "execution_count": 31,
   "metadata": {},
   "outputs": [
    {
     "name": "stdout",
     "output_type": "stream",
     "text": [
      "idxs: [ 3  0  1  6  7  2  9  5  8 10  4]\n",
      "overlap: 0.0\n",
      "overlap: 0.0\n",
      "overlap: 0.0\n",
      "overlap: 0.0\n",
      "overlap: 0.0\n",
      "overlap: 0.0\n",
      "overlap: 0.0\n",
      "overlap: 0.0\n",
      "overlap: 0.0\n",
      "overlap: 0.28205128205128205\n",
      "Suppress: [10]\n",
      "overlap: 0.0\n",
      "overlap: 0.0\n",
      "overlap: 0.0\n",
      "overlap: 0.0\n",
      "overlap: 0.0\n",
      "overlap: 0.0\n",
      "overlap: 0.0\n",
      "overlap: 0.0\n",
      "overlap: 0.27350427350427353\n",
      "Suppress: [9]\n",
      "overlap: 0.0\n",
      "overlap: 0.0\n",
      "overlap: 0.0\n",
      "overlap: 0.0\n",
      "overlap: 0.0\n",
      "overlap: 0.0\n",
      "overlap: 0.0\n",
      "overlap: 0.23809523809523808\n",
      "Suppress: [8]\n",
      "overlap: 0.0\n",
      "overlap: 0.0\n",
      "overlap: 0.0\n",
      "overlap: 0.0\n",
      "overlap: 0.0\n",
      "overlap: 0.0\n",
      "overlap: 0.2\n",
      "Suppress: [7]\n",
      "overlap: 0.0\n",
      "overlap: 0.0\n",
      "overlap: 0.0\n",
      "overlap: 0.0\n",
      "overlap: 0.08333333333333333\n",
      "overlap: 0.625\n",
      "Suppress: [6, 5]\n",
      "overlap: 0.0\n",
      "overlap: 0.0\n",
      "overlap: 0.0\n",
      "overlap: 0.0\n",
      "Suppress: [4]\n",
      "overlap: 0.5\n",
      "overlap: 0.6666666666666666\n",
      "overlap: 0.6666666666666666\n",
      "Suppress: [3, 0, 1, 2]\n",
      "Boxes: [[25 27 16 24]\n",
      " [18 20 12 17]\n",
      " [13 15  8 12]\n",
      " [ 9 11  6  8]\n",
      " [ 6  8  4  5]\n",
      " [ 4  5  2  3]\n",
      " [ 2  3  1  2]]\n"
     ]
    }
   ],
   "source": [
    "overlapThresh = 0.3\n",
    "\n",
    "# initialize the list of picked indexes\n",
    "pick = []\n",
    "\n",
    "# grab the coordinates of the bounding boxes\n",
    "x1 = boxes[:,0]\n",
    "y1 = boxes[:,1]\n",
    "w = boxes[:,2]\n",
    "h = boxes[:,3]\n",
    "x2 = x1 + w\n",
    "y2 = y1 + h\n",
    "\n",
    "# compute the area of the bounding boxes and sort the bounding\n",
    "# boxes by the bottom-right y-coordinate of the bounding box\n",
    "area = (w + 1) * (h + 1)\n",
    "idxs = np.argsort(y2)\n",
    "print(\"idxs:\", idxs)\n",
    "\n",
    "# keep looping while some indexes still remain in the indexes list\n",
    "while len(idxs) > 0:\n",
    "    # grab the last index in the indexes list, add the index\n",
    "    # value to the list of picked indexes, then initialize\n",
    "    # the suppression list (i.e. indexes that will be deleted)\n",
    "    # using the last index\n",
    "    last = len(idxs) - 1\n",
    "    i = idxs[last]\n",
    "    pick.append(i)\n",
    "    suppress = [last]\n",
    "    \n",
    "    # loop over all indexes in the indexes list\n",
    "    for pos in range(0, last):\n",
    "        # grab the current index\n",
    "        j = idxs[pos]\n",
    "\n",
    "        # find the largest (x, y) coordinates for the start of\n",
    "        # the bounding box and the smallest (x, y) coordinates\n",
    "        # for the end of the bounding box\n",
    "        xx1 = max(x1[i], x1[j])\n",
    "        yy1 = max(y1[i], y1[j])\n",
    "        xx2 = min(x2[i], x2[j])\n",
    "        yy2 = min(y2[i], y2[j])\n",
    "\n",
    "        # compute the width and height of the bounding box\n",
    "        w = max(0, xx2 - xx1 + 1)\n",
    "        h = max(0, yy2 - yy1 + 1)\n",
    "\n",
    "        # compute the ratio of overlap between the computed\n",
    "        # bounding box and the bounding box in the area list\n",
    "        overlap = float(w * h) / area[j]\n",
    "        print(\"overlap:\", overlap)\n",
    "        # if there is sufficient overlap, suppress the\n",
    "        # current bounding box\n",
    "        if overlap > overlapThresh:\n",
    "            suppress.append(pos)\n",
    "    \n",
    "    print(\"Suppress:\", suppress)\n",
    "    # delete all indexes from the index list that are in the\n",
    "    # suppression list\n",
    "    idxs = np.delete(idxs, suppress)\n",
    "\n",
    "# return only the bounding boxes that were picked\n",
    "print(\"Boxes:\", boxes[pick])"
   ]
  },
  {
   "cell_type": "code",
   "execution_count": 18,
   "metadata": {},
   "outputs": [
    {
     "data": {
      "text/plain": [
       "[4, 10, 8, 5, 9, 2, 7, 6, 1, 0, 3]"
      ]
     },
     "execution_count": 18,
     "metadata": {},
     "output_type": "execute_result"
    }
   ],
   "source": [
    "pick"
   ]
  },
  {
   "cell_type": "code",
   "execution_count": 4,
   "metadata": {},
   "outputs": [
    {
     "ename": "SyntaxError",
     "evalue": "invalid syntax (<ipython-input-4-cfd2ba611963>, line 1)",
     "output_type": "error",
     "traceback": [
      "\u001b[0;36m  File \u001b[0;32m\"<ipython-input-4-cfd2ba611963>\"\u001b[0;36m, line \u001b[0;32m1\u001b[0m\n\u001b[0;31m    boxes = [1 1 0 1]\u001b[0m\n\u001b[0m               ^\u001b[0m\n\u001b[0;31mSyntaxError\u001b[0m\u001b[0;31m:\u001b[0m invalid syntax\n"
     ]
    }
   ],
   "source": [
    "boxes = [1 1 0 1]"
   ]
  }
 ],
 "metadata": {
  "kernelspec": {
   "display_name": "Python 3",
   "language": "python",
   "name": "python3"
  },
  "language_info": {
   "codemirror_mode": {
    "name": "ipython",
    "version": 3
   },
   "file_extension": ".py",
   "mimetype": "text/x-python",
   "name": "python",
   "nbconvert_exporter": "python",
   "pygments_lexer": "ipython3",
   "version": "3.5.2"
  }
 },
 "nbformat": 4,
 "nbformat_minor": 2
}
