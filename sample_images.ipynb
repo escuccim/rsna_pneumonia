{
 "cells": [
  {
   "cell_type": "code",
   "execution_count": 1,
   "metadata": {},
   "outputs": [
    {
     "name": "stderr",
     "output_type": "stream",
     "text": [
      "c:\\users\\eric\\anaconda2\\envs\\hse_dl\\lib\\site-packages\\h5py\\__init__.py:34: FutureWarning: Conversion of the second argument of issubdtype from `float` to `np.floating` is deprecated. In future, it will be treated as `np.float64 == np.dtype(float).type`.\n",
      "  from ._conv import register_converters as _register_converters\n"
     ]
    }
   ],
   "source": [
    "import numpy as np\n",
    "import tensorflow as tf\n",
    "from PIL.ImageEnhance import Contrast\n",
    "import pydicom\n",
    "import os\n",
    "import matplotlib.pyplot as plt\n",
    "%matplotlib inline\n",
    "from skimage.transform import resize\n",
    "import matplotlib.patches as patches\n",
    "import pickle\n",
    "import csv\n",
    "\n",
    "def sigmoid(x):\n",
    "    return 1 / (1 + np.exp(-x))\n",
    "\n",
    "# get actual x and y values from sigmoid output and what cell they are in\n",
    "def unnorm(val, idx, cell_size=256):\n",
    "    x = (val * cell_size) + (cell_size * idx)\n",
    "    return x"
   ]
  },
  {
   "cell_type": "code",
   "execution_count": 2,
   "metadata": {},
   "outputs": [],
   "source": [
    "# empty dictionary\n",
    "pneumonia_locations = {}\n",
    "# load table\n",
    "with open(os.path.join('./stage_1_train_labels.csv'), mode='r') as infile:\n",
    "    # open reader\n",
    "    reader = csv.reader(infile)\n",
    "    # skip header\n",
    "    next(reader, None)\n",
    "    # loop through rows\n",
    "    for rows in reader:\n",
    "        # retrieve information\n",
    "        filename = rows[0]\n",
    "        location = rows[1:5]\n",
    "        pneumonia = rows[5]\n",
    "        # if row contains pneumonia add label to dictionary\n",
    "        # which contains a list of pneumonia locations per filename\n",
    "        if pneumonia == '1':\n",
    "            # convert string to float to int\n",
    "            location = [int(float(i)) for i in location]\n",
    "            # save pneumonia location in dictionary\n",
    "            if filename in pneumonia_locations:\n",
    "                pneumonia_locations[filename].append(location)\n",
    "            else:\n",
    "                pneumonia_locations[filename] = [location]"
   ]
  },
  {
   "cell_type": "code",
   "execution_count": 3,
   "metadata": {},
   "outputs": [],
   "source": [
    "with open('yolo_labels_centered_5x5_9c.p', 'rb') as handle:\n",
    "    labels = pickle.load(handle)"
   ]
  },
  {
   "cell_type": "code",
   "execution_count": 4,
   "metadata": {},
   "outputs": [],
   "source": [
    "ROOT_DIR = \"./\"\n",
    "train_dicom_dir = os.path.join(ROOT_DIR, 'stage_1_train_images')\n",
    "\n",
    "image_ids = [\"72247058-293a-4a90-a972-093fe8f12148\", \"aef45568-9947-4c75-83d8-3643210d9c3b\", \n",
    "             \"65f038e8-a727-472c-bb76-7a71cd4397f2\", \"39895c94-84ec-46b6-8a39-f57c99abdbca\", \n",
    "             \"36994bd6-13dc-405e-9f98-680a0e5b2eea\", \"794c2473-8e8e-4f2b-989a-7148d0737c95\"]\n",
    "\n",
    "image_ids = [\"0a66f58c-f98d-41d1-89af-4e0136888e13\", \"01fa0f5e-00c3-41cb-b5c7-10600c8633ae\", \"ec910555-f698-4536-aff7-7fa9d3405d60\"]\n",
    "\n",
    "image_ids = [\"0bcfe7ee-ada5-48de-990b-2a2fd6c6ed15\", \"0a66f58c-f98d-41d1-89af-4e0136888e13\",\n",
    "             \"f1c3f262-dcfd-4904-b108-38d3479e3201\", \"0ab261f9-4eb5-42ab-a9a5-e918904d6356\", \n",
    "             \"0afeabf5-d5a3-454f-a50d-887f0d21106c\", \"1d57c801-71b4-49da-8933-2cabdc927fef\", \n",
    "             \"34fbff70-fa6e-4709-ab07-17f739fce394\", \"49c04987-96af-4edb-b560-53c56a357cac\",\n",
    "            \"b35d57ee-f22b-4c8c-b959-3ee8eecef555\", \"b6ab1a11-6558-4f76-bed2-3b169f820be9\"]\n",
    "\n",
    "# 5x5 9c\n",
    "image_ids = [\"09db0213-0ad3-4062-bc7b-9a82e5a74097\", \"0b2057bc-4c6d-4c90-8975-94c02392e460\",\n",
    "    \"b6ab1a11-6558-4f76-bed2-3b169f820be9\", \"b35d57ee-f22b-4c8c-b959-3ee8eecef555\",\n",
    "    \"34fbff70-fa6e-4709-ab07-17f739fce394\", \"371e6626-7884-4232-9629-0220fe6e7172\",\n",
    "    \"32827da4-939c-46de-85db-a2d75cb0dfad\", \"5c65a8b2-7873-4490-9fce-ac4fe0417ada\",\n",
    "             \"52523b06-76b3-4a00-aab3-f27815a378c6\",\n",
    "            \"656ac314-64a2-4281-8a08-6596c5c5a20e\", \"703bcb21-559a-4c64-9d9b-6ff164c06218\",\n",
    "            \"77762e93-073c-405f-bca5-0f1fd339bf4c\",\"7b3e032d-e3ec-4c61-8a49-785fd6d0d87e\",]\n",
    "\n",
    "# 3x3 9c\n",
    "# image_ids = [\"01fa0f5e-00c3-41cb-b5c7-10600c8633ae\", \"0bcfe7ee-ada5-48de-990b-2a2fd6c6ed15\",\n",
    "#              \"03edb5ed-9e76-4abe-bc35-7bc95fea7e6a\", \"06f5a38a-e4b1-4e5f-8c62-f48630a52504\",\n",
    "#              \"0a66f58c-f98d-41d1-89af-4e0136888e13\", \"0bed2d9d-8a11-41d9-b312-41f8c93791f7\",\n",
    "#     '315b5137-1117-4090-9329-d6a6fff607ef',\n",
    "#  '39ced0d0-246c-430d-9bea-efc60bfa487c',\n",
    "#  '70d7f4df-5497-4205-a36b-e47b58145fa2',\n",
    "#  '97a6f7c7-df3f-4127-907d-27823c48f2fe',\n",
    "#  '34d36b9f-af87-4891-b001-6dc4f5379cb2',\n",
    "#  '6a41e296-8bda-4f84-8766-c253246b77d0',\n",
    "#  '82edc80d-0b41-45e4-8460-e46f64c67dbf',\n",
    "#  'b4f66208-8c31-433c-9f82-72104bc35112',\n",
    "#  '9d5a35ff-4644-4f75-91cf-4ed3142af182',\n",
    "#  '86ed8bcd-55a0-4b91-8073-0cd11b77c907',\n",
    "#  '84a14ff5-f4fe-4ee4-9873-ccb84b76d5a8',\n",
    "#  'ab6f5973-db3c-4c21-8981-189792ea16ee',\n",
    "#  '777a8a88-5c76-4de9-96fa-7cdd9149e59e',\n",
    "#  '6bf5ff1a-07df-4c64-8fdf-dd8a26ab9b5b',\n",
    "#  'a3a15e9c-71d6-440e-9457-89e2aff93fe0',\n",
    "#  'c208db34-d893-4a2b-9cf2-45490f5b78a3',]\n",
    "\n",
    "# # 4x4 9c\n",
    "# image_ids = [\n",
    "#     \"040a0743-f663-4746-8224-f0e3bacc7ba5\", \"0ab261f9-4eb5-42ab-a9a5-e918904d6356\", \"308eab64-517b-46f1-8865-d9566b087bff\",\n",
    "#     \"31428408-0d97-4ff5-b387-8d1c95cf5a0d\", \"34d36b9f-af87-4891-b001-6dc4f5379cb2\", \"040a0743-f663-4746-8224-f0e3bacc7ba5\",\n",
    "#     \"0697baae-e475-4fa3-ad82-51b319a026cc\", \"60670c26-f00c-4139-973e-280d02a2d74d\", \"7bfcdf16-2730-4b80-bebb-d5889a8fa71e\"\n",
    "# ]"
   ]
  },
  {
   "cell_type": "code",
   "execution_count": 5,
   "metadata": {},
   "outputs": [
    {
     "ename": "FileNotFoundError",
     "evalue": "[Errno 2] No such file or directory: './stage_1_train_images\\\\09db0213-0ad3-4062-bc7b-9a82e5a74097.dcm'",
     "output_type": "error",
     "traceback": [
      "\u001b[1;31m---------------------------------------------------------------------------\u001b[0m",
      "\u001b[1;31mFileNotFoundError\u001b[0m                         Traceback (most recent call last)",
      "\u001b[1;32m<ipython-input-5-6afa561db34b>\u001b[0m in \u001b[0;36m<module>\u001b[1;34m()\u001b[0m\n\u001b[0;32m      3\u001b[0m \u001b[1;33m\u001b[0m\u001b[0m\n\u001b[0;32m      4\u001b[0m     \u001b[1;31m# load the image\u001b[0m\u001b[1;33m\u001b[0m\u001b[1;33m\u001b[0m\u001b[0m\n\u001b[1;32m----> 5\u001b[1;33m     \u001b[0mimg\u001b[0m \u001b[1;33m=\u001b[0m \u001b[0mpydicom\u001b[0m\u001b[1;33m.\u001b[0m\u001b[0mdcmread\u001b[0m\u001b[1;33m(\u001b[0m\u001b[0mos\u001b[0m\u001b[1;33m.\u001b[0m\u001b[0mpath\u001b[0m\u001b[1;33m.\u001b[0m\u001b[0mjoin\u001b[0m\u001b[1;33m(\u001b[0m\u001b[0mtrain_dicom_dir\u001b[0m\u001b[1;33m,\u001b[0m \u001b[0mfilename\u001b[0m \u001b[1;33m+\u001b[0m \u001b[1;34m\".dcm\"\u001b[0m\u001b[1;33m)\u001b[0m\u001b[1;33m)\u001b[0m\u001b[1;33m.\u001b[0m\u001b[0mpixel_array\u001b[0m\u001b[1;33m\u001b[0m\u001b[0m\n\u001b[0m\u001b[0;32m      6\u001b[0m \u001b[1;33m\u001b[0m\u001b[0m\n\u001b[0;32m      7\u001b[0m     \u001b[1;31m# display the image\u001b[0m\u001b[1;33m\u001b[0m\u001b[1;33m\u001b[0m\u001b[0m\n",
      "\u001b[1;32mc:\\users\\eric\\anaconda2\\envs\\hse_dl\\lib\\site-packages\\pydicom\\filereader.py\u001b[0m in \u001b[0;36mdcmread\u001b[1;34m(fp, defer_size, stop_before_pixels, force, specific_tags)\u001b[0m\n\u001b[0;32m    860\u001b[0m         \u001b[1;32mexcept\u001b[0m \u001b[0mException\u001b[0m\u001b[1;33m:\u001b[0m\u001b[1;33m\u001b[0m\u001b[0m\n\u001b[0;32m    861\u001b[0m             \u001b[0mlogger\u001b[0m\u001b[1;33m.\u001b[0m\u001b[0mdebug\u001b[0m\u001b[1;33m(\u001b[0m\u001b[1;34m\"Reading file '{0}'\"\u001b[0m\u001b[1;33m.\u001b[0m\u001b[0mformat\u001b[0m\u001b[1;33m(\u001b[0m\u001b[0mfp\u001b[0m\u001b[1;33m)\u001b[0m\u001b[1;33m)\u001b[0m\u001b[1;33m\u001b[0m\u001b[0m\n\u001b[1;32m--> 862\u001b[1;33m         \u001b[0mfp\u001b[0m \u001b[1;33m=\u001b[0m \u001b[0mopen\u001b[0m\u001b[1;33m(\u001b[0m\u001b[0mfp\u001b[0m\u001b[1;33m,\u001b[0m \u001b[1;34m'rb'\u001b[0m\u001b[1;33m)\u001b[0m\u001b[1;33m\u001b[0m\u001b[0m\n\u001b[0m\u001b[0;32m    863\u001b[0m \u001b[1;33m\u001b[0m\u001b[0m\n\u001b[0;32m    864\u001b[0m     \u001b[1;32mif\u001b[0m \u001b[0mconfig\u001b[0m\u001b[1;33m.\u001b[0m\u001b[0mdebugging\u001b[0m\u001b[1;33m:\u001b[0m\u001b[1;33m\u001b[0m\u001b[0m\n",
      "\u001b[1;31mFileNotFoundError\u001b[0m: [Errno 2] No such file or directory: './stage_1_train_images\\\\09db0213-0ad3-4062-bc7b-9a82e5a74097.dcm'"
     ]
    },
    {
     "data": {
      "image/png": "[encoded data removed]",
      "text/plain": [
       "<matplotlib.figure.Figure at 0x1bf0a186320>"
      ]
     },
     "metadata": {},
     "output_type": "display_data"
    }
   ],
   "source": [
    "for filename in image_ids:\n",
    "    fig,ax = plt.subplots(1, figsize=(8,8))\n",
    "    \n",
    "    # load the image\n",
    "    img = pydicom.dcmread(os.path.join(train_dicom_dir, filename + \".dcm\")).pixel_array\n",
    "    \n",
    "    # display the image\n",
    "    plt.imshow(img)\n",
    "    \n",
    "    # display the ROIs from the CSV\n",
    "    if filename in pneumonia_locations:\n",
    "        rois = pneumonia_locations[filename]\n",
    "        \n",
    "        for roi in rois:\n",
    "            x,y,w,h = roi\n",
    "            center_x = x + (w / 2)\n",
    "            center_y = y + (h / 2)\n",
    "            \n",
    "            rect_1 = patches.Rectangle((x,y),w,h,linewidth=1,edgecolor='b',facecolor='none')\n",
    "            plt.plot(center_x, center_y, marker=\"o\", color=\"b\")\n",
    "            ax.add_patch(rect_1)\n",
    "            \n",
    "    # display the labels from the pickle file\n",
    "    rois = labels[filename]\n",
    "    for i in range(rois.shape[0]):\n",
    "        for j in range(rois.shape[1]):\n",
    "            if rois[i, j, 0] > 0.5:\n",
    "                x, y, w, h = rois[i, j, 1:]\n",
    "                # unnormalize the data\n",
    "                w, h = w*1024, h*1024\n",
    "                \n",
    "                CELL_SIZE = 1024 / rois.shape[0]\n",
    "                GRID_SIZE = rois.shape[0]\n",
    "                \n",
    "                x = unnorm(x, j, CELL_SIZE)\n",
    "                y = unnorm(y, i, CELL_SIZE)\n",
    "                \n",
    "                # jitter the center a bit\n",
    "                noise = np.random.uniform(low=-15, high=15)\n",
    "                \n",
    "                x = (x - (w / 2)) + noise\n",
    "                y = (y - (h / 2)) + noise\n",
    "                \n",
    "                rect = patches.Rectangle((x,y), w, h, linewidth=1, edgecolor='r', facecolor='none')\n",
    "                ax.add_patch(rect)\n",
    "    plt.title(filename)\n",
    "    \n",
    "    # draw the lines\n",
    "    coords = np.arange(0, 1024, 1024 / GRID_SIZE)\n",
    "    for item in coords:\n",
    "        plt.axvline(item, linewidth=0.5)\n",
    "        plt.axhline(item, linewidth=0.5)\n",
    "        \n",
    "    plt.show()"
   ]
  },
  {
   "cell_type": "code",
   "execution_count": 90,
   "metadata": {},
   "outputs": [
    {
     "data": {
      "text/plain": [
       "array([[[0.        , 0.5       , 0.5       , 0.001     , 0.001     ],\n",
       "        [0.        , 0.5       , 0.5       , 0.001     , 0.001     ],\n",
       "        [0.        , 0.5       , 0.5       , 0.001     , 0.001     ],\n",
       "        [0.        , 0.5       , 0.5       , 0.001     , 0.001     ],\n",
       "        [0.        , 0.5       , 0.5       , 0.001     , 0.001     ]],\n",
       "\n",
       "       [[0.        , 0.5       , 0.5       , 0.001     , 0.001     ],\n",
       "        [0.        , 0.5       , 0.5       , 0.001     , 0.001     ],\n",
       "        [0.        , 0.5       , 0.5       , 0.001     , 0.001     ],\n",
       "        [0.        , 0.5       , 0.5       , 0.001     , 0.001     ],\n",
       "        [0.        , 0.5       , 0.5       , 0.001     , 0.001     ]],\n",
       "\n",
       "       [[0.        , 0.5       , 0.5       , 0.001     , 0.001     ],\n",
       "        [0.        , 0.5       , 0.5       , 0.001     , 0.001     ],\n",
       "        [0.        , 0.5       , 0.5       , 0.001     , 0.001     ],\n",
       "        [1.        , 0.96078431, 0.99754902, 0.15625   , 0.33496094],\n",
       "        [0.99      , 0.015     , 0.99754902, 0.15625   , 0.33496094]],\n",
       "\n",
       "       [[0.        , 0.5       , 0.5       , 0.001     , 0.001     ],\n",
       "        [1.        , 0.71813725, 0.08088235, 0.17871094, 0.18652344],\n",
       "        [0.        , 0.5       , 0.5       , 0.001     , 0.001     ],\n",
       "        [0.99      , 0.96078431, 0.015     , 0.15625   , 0.33496094],\n",
       "        [0.99      , 0.015     , 0.015     , 0.15625   , 0.33496094]],\n",
       "\n",
       "       [[0.        , 0.5       , 0.5       , 0.001     , 0.001     ],\n",
       "        [0.        , 0.5       , 0.5       , 0.001     , 0.001     ],\n",
       "        [0.        , 0.5       , 0.5       , 0.001     , 0.001     ],\n",
       "        [0.        , 0.5       , 0.5       , 0.001     , 0.001     ],\n",
       "        [0.        , 0.5       , 0.5       , 0.001     , 0.001     ]]])"
      ]
     },
     "execution_count": 90,
     "metadata": {},
     "output_type": "execute_result"
    }
   ],
   "source": [
    "labels[\"5c65a8b2-7873-4490-9fce-ac4fe0417ada\"]"
   ]
  }
 ],
 "metadata": {
  "kernelspec": {
   "display_name": "Python 3",
   "language": "python",
   "name": "python3"
  },
  "language_info": {
   "codemirror_mode": {
    "name": "ipython",
    "version": 3
   },
   "file_extension": ".py",
   "mimetype": "text/x-python",
   "name": "python",
   "nbconvert_exporter": "python",
   "pygments_lexer": "ipython3",
   "version": "3.6.5"
  }
 },
 "nbformat": 4,
 "nbformat_minor": 2
}
