{
 "cells": [
  {
   "cell_type": "markdown",
   "metadata": {
    "colab_type": "text",
    "id": "igEd7obtcxR2"
   },
   "source": [
    "# Approach\n",
    "\n",
    "* Firstly a convolutional neural network is used to segment the image, using the bounding boxes directly as a mask. \n",
    "* Secondly connected components is used to separate multiple areas of predicted pneumonia.\n",
    "* Finally a bounding box is simply drawn around every connected component.\n",
    "\n",
    "# Network\n",
    "\n",
    "* The network consists of a number of residual blocks with convolutions and downsampling blocks with max pooling.\n",
    "* At the end of the network a single upsampling layer converts the output to the same shape as the input.\n",
    "\n",
    "As the input to the network is 256 by 256 (instead of the original 1024 by 1024) and the network downsamples a number of times without any meaningful upsampling (the final upsampling is just to match in 256 by 256 mask) the final prediction is very crude. If the network downsamples 4 times the final bounding boxes can only change with at least 16 pixels.\n",
    "\n",
    "**Edit by EAS** - Change input image size to 320x320."
   ]
  },
  {
   "cell_type": "code",
   "execution_count": 1,
   "metadata": {
    "colab": {},
    "colab_type": "code",
    "id": "LHncOor-cxSS"
   },
   "outputs": [],
   "source": [
    "import os\n",
    "import csv\n",
    "import random\n",
    "import pydicom\n",
    "import numpy as np\n",
    "import pandas as pd\n",
    "from skimage import measure\n",
    "from skimage.transform import resize\n",
    "\n",
    "import tensorflow as tf\n",
    "from tensorflow import keras\n",
    "\n",
    "from matplotlib import pyplot as plt"
   ]
  },
  {
   "cell_type": "code",
   "execution_count": 13,
   "metadata": {
    "colab": {},
    "colab_type": "code",
    "id": "hE3jDmgudDDP"
   },
   "outputs": [],
   "source": [
    "# enter your Kaggle credentionals here\n",
    "os.environ['KAGGLE_USERNAME']=\"skooch\"\n",
    "os.environ['KAGGLE_KEY']=\"42f8a02ee92cc773d1dbe66565673ad3\""
   ]
  },
  {
   "cell_type": "code",
   "execution_count": 37,
   "metadata": {},
   "outputs": [
    {
     "data": {
      "image/png": "[encoded data removed]",
      "text/plain": [
       "<Figure size 720x720 with 1 Axes>"
      ]
     },
     "metadata": {
      "needs_background": "light"
     },
     "output_type": "display_data"
    }
   ],
   "source": [
    "import matplotlib.patches as patches\n",
    "coords = np.arange(0, 1024, 64)\n",
    "\n",
    "fig,ax = plt.subplots(1, figsize=(10,10))\n",
    "\n",
    "rect_1 = patches.Rectangle((195,511),218,271,linewidth=1,edgecolor='r',facecolor='none')\n",
    "plt.plot(304, 646.5, marker=\"o\", color=\"r\")\n",
    "rect_2 = patches.Rectangle((612,214),109,89,linewidth=1,edgecolor='b',facecolor='none')\n",
    "plt.plot(666.5, 258.5, marker=\"o\", color=\"b\")\n",
    "rect_3 = patches.Rectangle((610,599),265,245,linewidth=1,edgecolor='g',facecolor='none')\n",
    "plt.plot(742.5, 721.5, marker=\"o\", color=\"g\")\n",
    "ax.add_patch(rect_1)\n",
    "ax.add_patch(rect_2)\n",
    "ax.add_patch(rect_3)\n",
    "plt.xticks(coords)\n",
    "plt.yticks(coords)\n",
    "for item in coords:\n",
    "    plt.axvline(item, linewidth=0.5)\n",
    "    plt.axhline(item, linewidth=0.5)\n",
    "plt.xlim(0,1024)\n",
    "plt.ylim(0,1024)\n",
    "plt.show()"
   ]
  },
  {
   "cell_type": "code",
   "execution_count": 50,
   "metadata": {},
   "outputs": [
    {
     "data": {
      "text/plain": [
       "[(4.0, 10.0), (10.0, 4.0), (11.0, 11.0)]"
      ]
     },
     "execution_count": 50,
     "metadata": {},
     "output_type": "execute_result"
    }
   ],
   "source": [
    "boxes = [\n",
    "    [195,511,218,271],\n",
    "    [612,214,109,89],\n",
    "    [610,599,265,245]\n",
    "]\n",
    "\n",
    "centers = []\n",
    "\n",
    "for box in boxes:\n",
    "    x,y,w,h = box\n",
    "    center_x = x + (w / 2)\n",
    "    center_y = y + (h / 2)\n",
    "    centers.append((center_x,center_y))\n",
    "\n",
    "pixel_locs = []    \n",
    "for center in centers:\n",
    "    x_pixel = center[0] // 64\n",
    "    y_pixel = center[1] // 64\n",
    "    \n",
    "    pixel_locs.append((x_pixel,y_pixel))\n",
    "    \n",
    "pixel_locs    "
   ]
  },
  {
   "cell_type": "code",
   "execution_count": 49,
   "metadata": {},
   "outputs": [
    {
     "data": {
      "text/plain": [
       "4.0"
      ]
     },
     "execution_count": 49,
     "metadata": {},
     "output_type": "execute_result"
    }
   ],
   "source": [
    "304. // 64"
   ]
  },
  {
   "cell_type": "markdown",
   "metadata": {
    "colab_type": "text",
    "id": "sSWY-U2TcxSn"
   },
   "source": [
    "# Load pneumonia locations\n",
    "\n",
    "Table contains [filename : pneumonia location] pairs per row. \n",
    "* If a filename contains multiple pneumonia, the table contains multiple rows with the same filename but different pneumonia locations. \n",
    "* If a filename contains no pneumonia it contains a single row with an empty pneumonia location.\n",
    "\n",
    "The code below loads the table and transforms it into a dictionary. \n",
    "* The dictionary uses the filename as key and a list of pneumonia locations in that filename as value. \n",
    "* If a filename is not present in the dictionary it means that it contains no pneumonia."
   ]
  },
  {
   "cell_type": "code",
   "execution_count": 7,
   "metadata": {
    "colab": {
     "base_uri": "https://localhost:8080/",
     "height": 34
    },
    "colab_type": "code",
    "id": "m_0ZGQyLdQS8",
    "outputId": "4848c0ce-4d75-4781-d01f-91cbd7626d77"
   },
   "outputs": [
    {
     "name": "stdout",
     "output_type": "stream",
     "text": [
      "Train dir: ./stage_1_train_images\n"
     ]
    }
   ],
   "source": [
    "ROOT_DIR = \"./\"\n",
    "\n",
    "train_dicom_dir = os.path.join(ROOT_DIR, 'stage_1_train_images')\n",
    "test_dicom_dir = os.path.join(ROOT_DIR, 'stage_1_test_images')\n",
    "print(\"Train dir:\", train_dicom_dir)"
   ]
  },
  {
   "cell_type": "code",
   "execution_count": 9,
   "metadata": {
    "colab": {},
    "colab_type": "code",
    "id": "hopsRmICcxSs"
   },
   "outputs": [],
   "source": [
    "# empty dictionary\n",
    "pneumonia_locations = {}\n",
    "# load table\n",
    "with open(os.path.join('./stage_1_train_labels.csv'), mode='r') as infile:\n",
    "    # open reader\n",
    "    reader = csv.reader(infile)\n",
    "    # skip header\n",
    "    next(reader, None)\n",
    "    # loop through rows\n",
    "    for rows in reader:\n",
    "        # retrieve information\n",
    "        filename = rows[0]\n",
    "        location = rows[1:5]\n",
    "        pneumonia = rows[5]\n",
    "        # if row contains pneumonia add label to dictionary\n",
    "        # which contains a list of pneumonia locations per filename\n",
    "        if pneumonia == '1':\n",
    "            # convert string to float to int\n",
    "            location = [int(float(i)) for i in location]\n",
    "            # save pneumonia location in dictionary\n",
    "            if filename in pneumonia_locations:\n",
    "                pneumonia_locations[filename].append(location)\n",
    "            else:\n",
    "                pneumonia_locations[filename] = [location]"
   ]
  },
  {
   "cell_type": "markdown",
   "metadata": {
    "colab_type": "text",
    "id": "UoB6GBhIcxS6"
   },
   "source": [
    "# Load filenames"
   ]
  },
  {
   "cell_type": "code",
   "execution_count": 7,
   "metadata": {
    "colab": {
     "base_uri": "https://localhost:8080/",
     "height": 51
    },
    "colab_type": "code",
    "id": "b_iB-IftcxTE",
    "outputId": "89a05e05-f2d9-45fc-d1ef-1a0cc289f98d"
   },
   "outputs": [
    {
     "name": "stdout",
     "output_type": "stream",
     "text": [
      "n train samples 23116\n",
      "n valid samples 2568\n"
     ]
    }
   ],
   "source": [
    "random.seed(17)\n",
    "\n",
    "# load and shuffle filenames\n",
    "folder = './stage_1_train_images'\n",
    "filenames = os.listdir(folder)\n",
    "random.shuffle(filenames)\n",
    "# split into train and validation filenames\n",
    "n_valid_samples = int(len(filenames) * 0.1)\n",
    "train_filenames = filenames[n_valid_samples:]\n",
    "valid_filenames = filenames[:n_valid_samples]\n",
    "print('n train samples', len(train_filenames))\n",
    "print('n valid samples', len(valid_filenames))\n",
    "n_train_samples = len(filenames) - n_valid_samples"
   ]
  },
  {
   "cell_type": "markdown",
   "metadata": {
    "colab_type": "text",
    "id": "lorV7ZmDcxTa"
   },
   "source": [
    " # Data generator\n",
    "\n",
    "The dataset is too large to fit into memory, so we need to create a generator that loads data on the fly.\n",
    "\n",
    "* The generator takes in some filenames, batch_size and other parameters.\n",
    "\n",
    "* The generator outputs a random batch of numpy images and numpy masks.\n",
    "    "
   ]
  },
  {
   "cell_type": "code",
   "execution_count": 3,
   "metadata": {
    "colab": {},
    "colab_type": "code",
    "id": "dFbLdFxVehhB"
   },
   "outputs": [],
   "source": [
    "BATCH_SIZE = 12\n",
    "IMAGE_SIZE = 512\n",
    "CHECKPOINT_PATH = \"model4_512.h5\""
   ]
  },
  {
   "cell_type": "code",
   "execution_count": 11,
   "metadata": {
    "colab": {
     "base_uri": "https://localhost:8080/",
     "height": 51
    },
    "colab_type": "code",
    "id": "clGBqJ9w-GZ3",
    "outputId": "ed291490-5398-4be7-d4fd-f159fa03aac0"
   },
   "outputs": [
    {
     "name": "stdout",
     "output_type": "stream",
     "text": [
      "Updated property [core/project].\n",
      "CommandException: No URLs matched: gs://pneumonia/model8_448.h5\n"
     ]
    }
   ],
   "source": [
    "# upload checkpoint to GCS\n",
    "project_id = 'mammography-198911'\n",
    "bucket_name = 'pneumonia'\n",
    "\n",
    "!gcloud config set project {project_id}"
   ]
  },
  {
   "cell_type": "code",
   "execution_count": 4,
   "metadata": {
    "colab": {},
    "colab_type": "code",
    "id": "TueY1bVlcxTg"
   },
   "outputs": [],
   "source": [
    "class generator(keras.utils.Sequence):\n",
    "    \n",
    "    def __init__(self, folder, filenames, pneumonia_locations=None, batch_size=BATCH_SIZE, image_size=IMAGE_SIZE, shuffle=True, augment=False, predict=False):\n",
    "        self.folder = folder\n",
    "        self.filenames = filenames\n",
    "        self.pneumonia_locations = pneumonia_locations\n",
    "        self.batch_size = batch_size\n",
    "        self.image_size = image_size\n",
    "        self.shuffle = shuffle\n",
    "        self.augment = augment\n",
    "        self.predict = predict\n",
    "        self.on_epoch_end()\n",
    "        \n",
    "    def __load__(self, filename):\n",
    "        # load dicom file as numpy array\n",
    "        img = pydicom.dcmread(os.path.join(self.folder, filename)).pixel_array\n",
    "        # create empty mask\n",
    "        msk = np.zeros(img.shape)\n",
    "        # get filename without extension\n",
    "        filename = filename.split('.')[0]\n",
    "        # if image contains pneumonia\n",
    "        if filename in pneumonia_locations:\n",
    "            # loop through pneumonia\n",
    "            for location in pneumonia_locations[filename]:\n",
    "                # add 1's at the location of the pneumonia\n",
    "                x, y, w, h = location\n",
    "                msk[y:y+h, x:x+w] = 1\n",
    "        # if augment then horizontal flip half the time\n",
    "        if self.augment and random.random() > 0.5:\n",
    "            img = np.fliplr(img)\n",
    "            msk = np.fliplr(msk)\n",
    "        \n",
    "        # small shifts to images\n",
    "        if self.augment:\n",
    "            h_offset = np.random.randint(low=0, high=10)\n",
    "            v_offset = np.random.randint(low=0, high=10)\n",
    "            # crop the images\n",
    "            if random.random() > 0.5:\n",
    "                img = img[v_offset:,h_offset:]\n",
    "                msk = msk[v_offset:,h_offset:]\n",
    "            else:\n",
    "                img = img[:v_offset,:h_offset]\n",
    "                msk = msk[:v_offset,:h_offset]\n",
    "                \n",
    "        # resize both image and mask\n",
    "        img = resize(img, (self.image_size, self.image_size), mode='reflect')\n",
    "        msk = resize(msk, (self.image_size, self.image_size), mode='reflect') > 0.5\n",
    "        # add trailing channel dimension\n",
    "        img = np.expand_dims(img, -1)\n",
    "        msk = np.expand_dims(msk, -1)\n",
    "        return img, msk\n",
    "    \n",
    "    def __loadpredict__(self, filename):\n",
    "        # load dicom file as numpy array\n",
    "        img = pydicom.dcmread(os.path.join(self.folder, filename)).pixel_array\n",
    "        # resize image\n",
    "        img = resize(img, (self.image_size, self.image_size), mode='reflect')\n",
    "        # add trailing channel dimension\n",
    "        img = np.expand_dims(img, -1)\n",
    "        return img\n",
    "        \n",
    "    def __getitem__(self, index):\n",
    "        # select batch\n",
    "        filenames = self.filenames[index*self.batch_size:(index+1)*self.batch_size]\n",
    "        # predict mode: return images and filenames\n",
    "        if self.predict:\n",
    "            # load files\n",
    "            imgs = [self.__loadpredict__(filename) for filename in filenames]\n",
    "            # create numpy batch\n",
    "            imgs = np.array(imgs)\n",
    "            return imgs, filenames\n",
    "        # train mode: return images and masks\n",
    "        else:\n",
    "            # load files\n",
    "            items = [self.__load__(filename) for filename in filenames]\n",
    "            # unzip images and masks\n",
    "            imgs, msks = zip(*items)\n",
    "            # create numpy batch\n",
    "            imgs = np.array(imgs)\n",
    "            msks = np.array(msks)\n",
    "            return imgs, msks\n",
    "        \n",
    "    def on_epoch_end(self):\n",
    "        if self.shuffle:\n",
    "            random.shuffle(self.filenames)\n",
    "        \n",
    "    def __len__(self):\n",
    "        if self.predict:\n",
    "            # return everything\n",
    "            return int(np.ceil(len(self.filenames) / self.batch_size))\n",
    "        else:\n",
    "            # return full batches only\n",
    "            return int(len(self.filenames) / self.batch_size)"
   ]
  },
  {
   "cell_type": "markdown",
   "metadata": {
    "colab_type": "text",
    "id": "3_GgDL7ncxT3"
   },
   "source": [
    "# Network"
   ]
  },
  {
   "cell_type": "code",
   "execution_count": 17,
   "metadata": {
    "colab": {},
    "colab_type": "code",
    "id": "bqobZQZQcxUE"
   },
   "outputs": [],
   "source": [
    "def create_downsample(channels, inputs):\n",
    "    x = keras.layers.BatchNormalization(momentum=0.9)(inputs)\n",
    "    x = keras.layers.LeakyReLU(0)(x)\n",
    "    x = keras.layers.Conv2D(channels, 1, padding='same', use_bias=False)(x)\n",
    "    x = keras.layers.MaxPool2D(2)(x)\n",
    "#     x = keras.layers.Conv2D(channels, (3,3), strides=(2,2), padding='same', use_bias=False)(x)\n",
    "    return x\n",
    "\n",
    "def create_resblock(channels, inputs):\n",
    "    x = keras.layers.BatchNormalization(momentum=0.9)(inputs)\n",
    "    x = keras.layers.LeakyReLU(0)(x)\n",
    "    x_1 = keras.layers.Conv2D(channels, 3, padding='same', use_bias=False)(x)\n",
    "    x = keras.layers.BatchNormalization(momentum=0.9)(x_1)\n",
    "    x = keras.layers.LeakyReLU(0)(x)\n",
    "    x_2 = keras.layers.Conv2D(channels, 3, padding='same', use_bias=False)(x)\n",
    "    x = keras.layers.add([x_2, inputs])\n",
    "    x = keras.layers.BatchNormalization(momentum=0.9)(x)\n",
    "    x = keras.layers.LeakyReLU(0)(x)\n",
    "    x = keras.layers.Conv2D(channels, 3, padding='same', use_bias=False)(x)\n",
    "    x = keras.layers.add([x, x_1])\n",
    "    x = keras.layers.BatchNormalization(momentum=0.9)(x)\n",
    "    x = keras.layers.LeakyReLU(0)(x)\n",
    "    x = keras.layers.Conv2D(channels, 3, padding='same', use_bias=False)(x)\n",
    "    x = keras.layers.add([x, x_2])\n",
    "    return x\n",
    "\n",
    "def create_network(input_size, channels, n_blocks=2, depth=4):\n",
    "    # input\n",
    "    inputs = keras.Input(shape=(input_size, input_size, 1))\n",
    "    x = keras.layers.Conv2D(channels, 3, padding='same', use_bias=False)(inputs)\n",
    "    x = keras.layers.BatchNormalization(momentum=0.9)(x)\n",
    "    x = keras.layers.LeakyReLU(0)(x)\n",
    "    \n",
    "    x = keras.layers.Conv2D(channels, 3, strides=(2,2), padding='same', use_bias=False)(x)\n",
    "    x = keras.layers.BatchNormalization(momentum=0.9)(x)\n",
    "    x = keras.layers.LeakyReLU(0)(x)\n",
    "    \n",
    "    x = keras.layers.Conv2D(channels, 3, padding='same', use_bias=False)(x)\n",
    "    x = keras.layers.BatchNormalization(momentum=0.9)(x)\n",
    "    x = keras.layers.LeakyReLU(0)(x)\n",
    "    \n",
    "    x = keras.layers.Conv2D(channels*2, 1, padding='same', use_bias=False)(x)\n",
    "    \n",
    "    # residual blocks\n",
    "    for d in range(depth):\n",
    "        channels = channels * 2\n",
    "        x = create_downsample(channels, x)\n",
    "            \n",
    "        for b in range(n_blocks):\n",
    "            x = create_resblock(channels, x)\n",
    "        \n",
    "    # output\n",
    "    x = keras.layers.BatchNormalization(momentum=0.9)(x)\n",
    "    x = keras.layers.LeakyReLU(0)(x)\n",
    "    \n",
    "    x_2 = keras.layers.Conv2D(512, (3,3), padding='same', dilation_rate=(2,2), activation=None, name=\"dilated_conv_1\")(x)\n",
    "    x = keras.layers.BatchNormalization(momentum=0.9)(x_2)\n",
    "    x = keras.layers.LeakyReLU(0.01)(x)\n",
    "    \n",
    "    x = keras.layers.Conv2D(384, (3,3), padding='same', dilation_rate=(2,2), activation=None, name=\"dilated_conv_2\")(x)\n",
    "    x = keras.layers.BatchNormalization(momentum=0.9)(x)\n",
    "    x = keras.layers.LeakyReLU(0.01)(x)\n",
    "    \n",
    "    # transpose convolution to upsize\n",
    "    x = keras.layers.Conv2DTranspose(256, (8,8), (4,4), padding=\"same\", activation=None)(x)\n",
    "    x = keras.layers.BatchNormalization(momentum=0.9)(x)\n",
    "    x = keras.layers.LeakyReLU(0.01)(x)\n",
    "    \n",
    "    x = keras.layers.Conv2D(256, 1, padding='same', activation=None, kernel_regularizer=keras.regularizers.l2(l=0.01), name=\"fc_1\")(x)\n",
    "    x = keras.layers.BatchNormalization(momentum=0.9)(x)\n",
    "    x = keras.layers.LeakyReLU(0.01)(x)\n",
    "    x = keras.layers.Dropout(0.25)(x)\n",
    "    \n",
    "#     x = keras.layers.Conv2D(1, 1, activation='sigmoid')(x)\n",
    "    x = keras.layers.UpSampling2D(2**(depth-4))(x)\n",
    "    \n",
    "    x = keras.layers.Conv2DTranspose(128, (4,4), (2,2), padding=\"same\", activation=None)(x)\n",
    "    x = keras.layers.BatchNormalization(momentum=0.9)(x)\n",
    "    x = keras.layers.LeakyReLU(0.01)(x)\n",
    "    x = keras.layers.Dropout(0.25)(x)\n",
    "    \n",
    "    x = keras.layers.Conv2D(1, 1, padding='same', activation=\"sigmoid\", name=\"fc_2\")(x)\n",
    "    outputs = keras.layers.UpSampling2D(2)(x)\n",
    "    \n",
    "    model = keras.Model(inputs=inputs, outputs=outputs)\n",
    "    \n",
    "    return model"
   ]
  },
  {
   "cell_type": "markdown",
   "metadata": {
    "colab_type": "text",
    "id": "AvdSzGI4cxUL"
   },
   "source": [
    "# Train network\n"
   ]
  },
  {
   "cell_type": "code",
   "execution_count": 18,
   "metadata": {
    "colab": {
     "base_uri": "https://localhost:8080/",
     "height": 3451
    },
    "colab_type": "code",
    "id": "DCgIz8CwcxUO",
    "outputId": "ce38cdfb-1806-488d-838f-d180e198a099"
   },
   "outputs": [
    {
     "name": "stdout",
     "output_type": "stream",
     "text": [
      "__________________________________________________________________________________________________\n",
      "Layer (type)                    Output Shape         Param #     Connected to                     \n",
      "==================================================================================================\n",
      "input_7 (InputLayer)            (None, 512, 512, 1)  0                                            \n",
      "__________________________________________________________________________________________________\n",
      "conv2d_142 (Conv2D)             (None, 512, 512, 24) 216         input_7[0][0]                    \n",
      "__________________________________________________________________________________________________\n",
      "batch_normalization_164 (BatchN (None, 512, 512, 24) 96          conv2d_142[0][0]                 \n",
      "__________________________________________________________________________________________________\n",
      "leaky_re_lu_164 (LeakyReLU)     (None, 512, 512, 24) 0           batch_normalization_164[0][0]    \n",
      "__________________________________________________________________________________________________\n",
      "conv2d_143 (Conv2D)             (None, 256, 256, 24) 5184        leaky_re_lu_164[0][0]            \n",
      "__________________________________________________________________________________________________\n",
      "batch_normalization_165 (BatchN (None, 256, 256, 24) 96          conv2d_143[0][0]                 \n",
      "__________________________________________________________________________________________________\n",
      "leaky_re_lu_165 (LeakyReLU)     (None, 256, 256, 24) 0           batch_normalization_165[0][0]    \n",
      "__________________________________________________________________________________________________\n",
      "conv2d_144 (Conv2D)             (None, 256, 256, 24) 5184        leaky_re_lu_165[0][0]            \n",
      "__________________________________________________________________________________________________\n",
      "batch_normalization_166 (BatchN (None, 256, 256, 24) 96          conv2d_144[0][0]                 \n",
      "__________________________________________________________________________________________________\n",
      "leaky_re_lu_166 (LeakyReLU)     (None, 256, 256, 24) 0           batch_normalization_166[0][0]    \n",
      "__________________________________________________________________________________________________\n",
      "conv2d_145 (Conv2D)             (None, 256, 256, 48) 1152        leaky_re_lu_166[0][0]            \n",
      "__________________________________________________________________________________________________\n",
      "batch_normalization_167 (BatchN (None, 256, 256, 48) 192         conv2d_145[0][0]                 \n",
      "__________________________________________________________________________________________________\n",
      "leaky_re_lu_167 (LeakyReLU)     (None, 256, 256, 48) 0           batch_normalization_167[0][0]    \n",
      "__________________________________________________________________________________________________\n",
      "conv2d_146 (Conv2D)             (None, 256, 256, 48) 20736       leaky_re_lu_167[0][0]            \n",
      "__________________________________________________________________________________________________\n",
      "batch_normalization_168 (BatchN (None, 256, 256, 48) 192         conv2d_146[0][0]                 \n",
      "__________________________________________________________________________________________________\n",
      "leaky_re_lu_168 (LeakyReLU)     (None, 256, 256, 48) 0           batch_normalization_168[0][0]    \n",
      "__________________________________________________________________________________________________\n",
      "conv2d_147 (Conv2D)             (None, 256, 256, 48) 20736       leaky_re_lu_168[0][0]            \n",
      "__________________________________________________________________________________________________\n",
      "add_73 (Add)                    (None, 256, 256, 48) 0           conv2d_147[0][0]                 \n",
      "                                                                 conv2d_145[0][0]                 \n",
      "__________________________________________________________________________________________________\n",
      "batch_normalization_169 (BatchN (None, 256, 256, 48) 192         add_73[0][0]                     \n",
      "__________________________________________________________________________________________________\n",
      "leaky_re_lu_169 (LeakyReLU)     (None, 256, 256, 48) 0           batch_normalization_169[0][0]    \n",
      "__________________________________________________________________________________________________\n",
      "conv2d_148 (Conv2D)             (None, 256, 256, 48) 20736       leaky_re_lu_169[0][0]            \n",
      "__________________________________________________________________________________________________\n",
      "add_74 (Add)                    (None, 256, 256, 48) 0           conv2d_148[0][0]                 \n",
      "                                                                 conv2d_146[0][0]                 \n",
      "__________________________________________________________________________________________________\n",
      "batch_normalization_170 (BatchN (None, 256, 256, 48) 192         add_74[0][0]                     \n",
      "__________________________________________________________________________________________________\n",
      "leaky_re_lu_170 (LeakyReLU)     (None, 256, 256, 48) 0           batch_normalization_170[0][0]    \n",
      "__________________________________________________________________________________________________\n",
      "conv2d_149 (Conv2D)             (None, 256, 256, 48) 20736       leaky_re_lu_170[0][0]            \n",
      "__________________________________________________________________________________________________\n",
      "add_75 (Add)                    (None, 256, 256, 48) 0           conv2d_149[0][0]                 \n",
      "                                                                 conv2d_147[0][0]                 \n",
      "__________________________________________________________________________________________________\n",
      "batch_normalization_171 (BatchN (None, 256, 256, 48) 192         add_75[0][0]                     \n",
      "__________________________________________________________________________________________________\n",
      "leaky_re_lu_171 (LeakyReLU)     (None, 256, 256, 48) 0           batch_normalization_171[0][0]    \n",
      "__________________________________________________________________________________________________\n",
      "conv2d_150 (Conv2D)             (None, 128, 128, 96) 41472       leaky_re_lu_171[0][0]            \n",
      "__________________________________________________________________________________________________\n",
      "batch_normalization_172 (BatchN (None, 128, 128, 96) 384         conv2d_150[0][0]                 \n",
      "__________________________________________________________________________________________________\n",
      "leaky_re_lu_172 (LeakyReLU)     (None, 128, 128, 96) 0           batch_normalization_172[0][0]    \n",
      "__________________________________________________________________________________________________\n",
      "conv2d_151 (Conv2D)             (None, 128, 128, 96) 82944       leaky_re_lu_172[0][0]            \n",
      "__________________________________________________________________________________________________\n",
      "batch_normalization_173 (BatchN (None, 128, 128, 96) 384         conv2d_151[0][0]                 \n",
      "__________________________________________________________________________________________________\n",
      "leaky_re_lu_173 (LeakyReLU)     (None, 128, 128, 96) 0           batch_normalization_173[0][0]    \n",
      "__________________________________________________________________________________________________\n",
      "conv2d_152 (Conv2D)             (None, 128, 128, 96) 82944       leaky_re_lu_173[0][0]            \n",
      "__________________________________________________________________________________________________\n",
      "add_76 (Add)                    (None, 128, 128, 96) 0           conv2d_152[0][0]                 \n",
      "                                                                 conv2d_150[0][0]                 \n",
      "__________________________________________________________________________________________________\n",
      "batch_normalization_174 (BatchN (None, 128, 128, 96) 384         add_76[0][0]                     \n",
      "__________________________________________________________________________________________________\n",
      "leaky_re_lu_174 (LeakyReLU)     (None, 128, 128, 96) 0           batch_normalization_174[0][0]    \n",
      "__________________________________________________________________________________________________\n",
      "conv2d_153 (Conv2D)             (None, 128, 128, 96) 82944       leaky_re_lu_174[0][0]            \n",
      "__________________________________________________________________________________________________\n",
      "add_77 (Add)                    (None, 128, 128, 96) 0           conv2d_153[0][0]                 \n",
      "                                                                 conv2d_151[0][0]                 \n",
      "__________________________________________________________________________________________________\n",
      "batch_normalization_175 (BatchN (None, 128, 128, 96) 384         add_77[0][0]                     \n",
      "__________________________________________________________________________________________________\n",
      "leaky_re_lu_175 (LeakyReLU)     (None, 128, 128, 96) 0           batch_normalization_175[0][0]    \n",
      "__________________________________________________________________________________________________\n",
      "conv2d_154 (Conv2D)             (None, 128, 128, 96) 82944       leaky_re_lu_175[0][0]            \n",
      "__________________________________________________________________________________________________\n",
      "add_78 (Add)                    (None, 128, 128, 96) 0           conv2d_154[0][0]                 \n",
      "                                                                 conv2d_152[0][0]                 \n",
      "__________________________________________________________________________________________________\n",
      "batch_normalization_176 (BatchN (None, 128, 128, 96) 384         add_78[0][0]                     \n",
      "__________________________________________________________________________________________________\n",
      "leaky_re_lu_176 (LeakyReLU)     (None, 128, 128, 96) 0           batch_normalization_176[0][0]    \n",
      "__________________________________________________________________________________________________\n",
      "conv2d_155 (Conv2D)             (None, 64, 64, 192)  165888      leaky_re_lu_176[0][0]            \n",
      "__________________________________________________________________________________________________\n",
      "batch_normalization_177 (BatchN (None, 64, 64, 192)  768         conv2d_155[0][0]                 \n",
      "__________________________________________________________________________________________________\n",
      "leaky_re_lu_177 (LeakyReLU)     (None, 64, 64, 192)  0           batch_normalization_177[0][0]    \n",
      "__________________________________________________________________________________________________\n",
      "conv2d_156 (Conv2D)             (None, 64, 64, 192)  331776      leaky_re_lu_177[0][0]            \n",
      "__________________________________________________________________________________________________\n",
      "batch_normalization_178 (BatchN (None, 64, 64, 192)  768         conv2d_156[0][0]                 \n",
      "__________________________________________________________________________________________________\n",
      "leaky_re_lu_178 (LeakyReLU)     (None, 64, 64, 192)  0           batch_normalization_178[0][0]    \n",
      "__________________________________________________________________________________________________\n",
      "conv2d_157 (Conv2D)             (None, 64, 64, 192)  331776      leaky_re_lu_178[0][0]            \n",
      "__________________________________________________________________________________________________\n",
      "add_79 (Add)                    (None, 64, 64, 192)  0           conv2d_157[0][0]                 \n",
      "                                                                 conv2d_155[0][0]                 \n",
      "__________________________________________________________________________________________________\n",
      "batch_normalization_179 (BatchN (None, 64, 64, 192)  768         add_79[0][0]                     \n",
      "__________________________________________________________________________________________________\n",
      "leaky_re_lu_179 (LeakyReLU)     (None, 64, 64, 192)  0           batch_normalization_179[0][0]    \n",
      "__________________________________________________________________________________________________\n",
      "conv2d_158 (Conv2D)             (None, 64, 64, 192)  331776      leaky_re_lu_179[0][0]            \n",
      "__________________________________________________________________________________________________\n",
      "add_80 (Add)                    (None, 64, 64, 192)  0           conv2d_158[0][0]                 \n",
      "                                                                 conv2d_156[0][0]                 \n",
      "__________________________________________________________________________________________________\n",
      "batch_normalization_180 (BatchN (None, 64, 64, 192)  768         add_80[0][0]                     \n",
      "__________________________________________________________________________________________________\n",
      "leaky_re_lu_180 (LeakyReLU)     (None, 64, 64, 192)  0           batch_normalization_180[0][0]    \n",
      "__________________________________________________________________________________________________\n",
      "conv2d_159 (Conv2D)             (None, 64, 64, 192)  331776      leaky_re_lu_180[0][0]            \n",
      "__________________________________________________________________________________________________\n",
      "add_81 (Add)                    (None, 64, 64, 192)  0           conv2d_159[0][0]                 \n",
      "                                                                 conv2d_157[0][0]                 \n",
      "__________________________________________________________________________________________________\n",
      "batch_normalization_181 (BatchN (None, 64, 64, 192)  768         add_81[0][0]                     \n",
      "__________________________________________________________________________________________________\n",
      "leaky_re_lu_181 (LeakyReLU)     (None, 64, 64, 192)  0           batch_normalization_181[0][0]    \n",
      "__________________________________________________________________________________________________\n",
      "conv2d_160 (Conv2D)             (None, 32, 32, 384)  663552      leaky_re_lu_181[0][0]            \n",
      "__________________________________________________________________________________________________\n",
      "batch_normalization_182 (BatchN (None, 32, 32, 384)  1536        conv2d_160[0][0]                 \n",
      "__________________________________________________________________________________________________\n",
      "leaky_re_lu_182 (LeakyReLU)     (None, 32, 32, 384)  0           batch_normalization_182[0][0]    \n",
      "__________________________________________________________________________________________________\n",
      "conv2d_161 (Conv2D)             (None, 32, 32, 384)  1327104     leaky_re_lu_182[0][0]            \n",
      "__________________________________________________________________________________________________\n",
      "batch_normalization_183 (BatchN (None, 32, 32, 384)  1536        conv2d_161[0][0]                 \n",
      "__________________________________________________________________________________________________\n",
      "leaky_re_lu_183 (LeakyReLU)     (None, 32, 32, 384)  0           batch_normalization_183[0][0]    \n",
      "__________________________________________________________________________________________________\n",
      "conv2d_162 (Conv2D)             (None, 32, 32, 384)  1327104     leaky_re_lu_183[0][0]            \n",
      "__________________________________________________________________________________________________\n",
      "add_82 (Add)                    (None, 32, 32, 384)  0           conv2d_162[0][0]                 \n",
      "                                                                 conv2d_160[0][0]                 \n",
      "__________________________________________________________________________________________________\n",
      "batch_normalization_184 (BatchN (None, 32, 32, 384)  1536        add_82[0][0]                     \n",
      "__________________________________________________________________________________________________\n",
      "leaky_re_lu_184 (LeakyReLU)     (None, 32, 32, 384)  0           batch_normalization_184[0][0]    \n",
      "__________________________________________________________________________________________________\n",
      "conv2d_163 (Conv2D)             (None, 32, 32, 384)  1327104     leaky_re_lu_184[0][0]            \n",
      "__________________________________________________________________________________________________\n",
      "add_83 (Add)                    (None, 32, 32, 384)  0           conv2d_163[0][0]                 \n",
      "                                                                 conv2d_161[0][0]                 \n",
      "__________________________________________________________________________________________________\n",
      "batch_normalization_185 (BatchN (None, 32, 32, 384)  1536        add_83[0][0]                     \n",
      "__________________________________________________________________________________________________\n",
      "leaky_re_lu_185 (LeakyReLU)     (None, 32, 32, 384)  0           batch_normalization_185[0][0]    \n",
      "__________________________________________________________________________________________________\n",
      "conv2d_164 (Conv2D)             (None, 32, 32, 384)  1327104     leaky_re_lu_185[0][0]            \n",
      "__________________________________________________________________________________________________\n",
      "add_84 (Add)                    (None, 32, 32, 384)  0           conv2d_164[0][0]                 \n",
      "                                                                 conv2d_162[0][0]                 \n",
      "__________________________________________________________________________________________________\n",
      "batch_normalization_186 (BatchN (None, 32, 32, 384)  1536        add_84[0][0]                     \n",
      "__________________________________________________________________________________________________\n",
      "leaky_re_lu_186 (LeakyReLU)     (None, 32, 32, 384)  0           batch_normalization_186[0][0]    \n",
      "__________________________________________________________________________________________________\n",
      "dilated_conv_1 (Conv2D)         (None, 32, 32, 512)  1769984     leaky_re_lu_186[0][0]            \n",
      "__________________________________________________________________________________________________\n",
      "batch_normalization_187 (BatchN (None, 32, 32, 512)  2048        dilated_conv_1[0][0]             \n",
      "__________________________________________________________________________________________________\n",
      "leaky_re_lu_187 (LeakyReLU)     (None, 32, 32, 512)  0           batch_normalization_187[0][0]    \n",
      "__________________________________________________________________________________________________\n",
      "dilated_conv_2 (Conv2D)         (None, 32, 32, 384)  1769856     leaky_re_lu_187[0][0]            \n",
      "__________________________________________________________________________________________________\n",
      "batch_normalization_188 (BatchN (None, 32, 32, 384)  1536        dilated_conv_2[0][0]             \n",
      "__________________________________________________________________________________________________\n",
      "leaky_re_lu_188 (LeakyReLU)     (None, 32, 32, 384)  0           batch_normalization_188[0][0]    \n",
      "__________________________________________________________________________________________________\n",
      "conv2d_transpose_10 (Conv2DTran (None, 128, 128, 256 6291712     leaky_re_lu_188[0][0]            \n",
      "__________________________________________________________________________________________________\n",
      "batch_normalization_189 (BatchN (None, 128, 128, 256 1024        conv2d_transpose_10[0][0]        \n",
      "__________________________________________________________________________________________________\n",
      "leaky_re_lu_189 (LeakyReLU)     (None, 128, 128, 256 0           batch_normalization_189[0][0]    \n",
      "__________________________________________________________________________________________________\n",
      "fc_1 (Conv2D)                   (None, 128, 128, 256 65792       leaky_re_lu_189[0][0]            \n",
      "__________________________________________________________________________________________________\n",
      "batch_normalization_190 (BatchN (None, 128, 128, 256 1024        fc_1[0][0]                       \n",
      "__________________________________________________________________________________________________\n",
      "leaky_re_lu_190 (LeakyReLU)     (None, 128, 128, 256 0           batch_normalization_190[0][0]    \n",
      "__________________________________________________________________________________________________\n",
      "dropout_7 (Dropout)             (None, 128, 128, 256 0           leaky_re_lu_190[0][0]            \n",
      "__________________________________________________________________________________________________\n",
      "up_sampling2d_7 (UpSampling2D)  (None, 128, 128, 256 0           dropout_7[0][0]                  \n",
      "__________________________________________________________________________________________________\n",
      "conv2d_transpose_11 (Conv2DTran (None, 256, 256, 128 524416      up_sampling2d_7[0][0]            \n",
      "__________________________________________________________________________________________________\n",
      "batch_normalization_191 (BatchN (None, 256, 256, 128 512         conv2d_transpose_11[0][0]        \n",
      "__________________________________________________________________________________________________\n",
      "leaky_re_lu_191 (LeakyReLU)     (None, 256, 256, 128 0           batch_normalization_191[0][0]    \n",
      "__________________________________________________________________________________________________\n",
      "fc_2 (Conv2D)                   (None, 256, 256, 1)  129         leaky_re_lu_191[0][0]            \n",
      "__________________________________________________________________________________________________\n",
      "up_sampling2d_8 (UpSampling2D)  (None, 512, 512, 1)  0           fc_2[0][0]                       \n",
      "==================================================================================================\n",
      "Total params: 18,375,609\n",
      "Trainable params: 18,365,193\n",
      "Non-trainable params: 10,416\n",
      "__________________________________________________________________________________________________\n",
      "None\n"
     ]
    }
   ],
   "source": [
    "# define iou or jaccard loss function\n",
    "def iou_loss(y_true, y_pred):\n",
    "    y_true = tf.reshape(y_true, [-1])\n",
    "    y_pred = tf.reshape(y_pred, [-1])\n",
    "    intersection = tf.reduce_sum(y_true * y_pred)\n",
    "    score = (intersection + 1.) / (tf.reduce_sum(y_true) + tf.reduce_sum(y_pred) - intersection + 1.)\n",
    "    return 1 - score\n",
    "\n",
    "# combine bce loss and iou loss\n",
    "def iou_bce_loss(y_true, y_pred):\n",
    "    return 0.4 * keras.losses.binary_crossentropy(y_true, y_pred) + 0.6 * iou_loss(y_true, y_pred)\n",
    "\n",
    "# mean iou as a metric\n",
    "def mean_iou(y_true, y_pred):\n",
    "    y_pred = tf.round(y_pred)\n",
    "    intersect = tf.reduce_sum(y_true * y_pred, axis=[1, 2, 3])\n",
    "    union = tf.reduce_sum(y_true, axis=[1, 2, 3]) + tf.reduce_sum(y_pred, axis=[1, 2, 3])\n",
    "    smooth = tf.ones(tf.shape(intersect))\n",
    "    mean_iou = tf.reduce_mean((intersect + smooth) / (union - intersect + smooth))\n",
    "    return mean_iou\n",
    "\n",
    "def adj_mean_iou(y_true, y_pred):\n",
    "    y_pred = tf.round(y_pred)\n",
    "    y_true_pos = tf.reduce_max(y_true, axis=[1, 2, 3])\n",
    "    \n",
    "    intersect = tf.reduce_sum(y_true * y_pred, axis=[1, 2, 3])\n",
    "    union = tf.reduce_sum(y_true, axis=[1, 2, 3]) + tf.reduce_sum(y_pred, axis=[1, 2, 3])\n",
    "    smooth = tf.ones(tf.shape(intersect))\n",
    "    \n",
    "    return tf.reduce_mean((y_true_pos * (intersect + smooth)) / (union - intersect + smooth))\n",
    "\n",
    "# create network and compiler\n",
    "model = create_network(input_size=IMAGE_SIZE, channels=24, n_blocks=1, depth=4)\n",
    "model.compile(optimizer='adam',\n",
    "              loss=iou_bce_loss,\n",
    "              metrics=['accuracy', mean_iou])\n",
    "\n",
    "# cosine learning rate annealing\n",
    "def cosine_annealing(x):\n",
    "    lr = 0.002\n",
    "    epochs = 20\n",
    "    return lr*(np.cos(np.pi*x/epochs)+1.)/2\n",
    "learning_rate = tf.keras.callbacks.LearningRateScheduler(cosine_annealing)\n",
    "checkpoint = keras.callbacks.ModelCheckpoint(CHECKPOINT_PATH, monitor='val_loss', verbose=1, save_best_only=False, save_weights_only=True, mode='auto', period=1)\n",
    "\n",
    "# create train and validation generators\n",
    "folder = './stage_1_train_images'\n",
    "train_gen = generator(folder, train_filenames, pneumonia_locations, batch_size=BATCH_SIZE, image_size=IMAGE_SIZE, shuffle=True, augment=True, predict=False)\n",
    "valid_gen = generator(folder, valid_filenames, pneumonia_locations, batch_size=BATCH_SIZE, image_size=IMAGE_SIZE, shuffle=False, predict=False)\n",
    "\n",
    "print(model.summary())"
   ]
  },
  {
   "cell_type": "code",
   "execution_count": 0,
   "metadata": {
    "colab": {},
    "colab_type": "code",
    "id": "jSSSpmNE-L1L"
   },
   "outputs": [],
   "source": [
    "model.load_weights(CHECKPOINT_PATH)"
   ]
  },
  {
   "cell_type": "code",
   "execution_count": 0,
   "metadata": {
    "colab": {
     "base_uri": "https://localhost:8080/",
     "height": 527
    },
    "colab_type": "code",
    "id": "fM5VeiuDcxUY",
    "outputId": "c3d66d6d-3c06-4aa6-f58d-46cfa42cdd9f"
   },
   "outputs": [
    {
     "name": "stdout",
     "output_type": "stream",
     "text": [
      "Epoch 1/8\n",
      "1925/1926 [============================>.] - ETA: 1s - loss: 0.7316 - acc: 0.9490 - mean_iou: 0.4906\n",
      "Epoch 00001: saving model to model8_448.h5\n",
      "1926/1926 [==============================] - 3080s 2s/step - loss: 0.7317 - acc: 0.9490 - mean_iou: 0.4906 - val_loss: 0.6705 - val_acc: 0.9575 - val_mean_iou: 0.5452\n",
      "Epoch 2/8\n",
      "1925/1926 [============================>.] - ETA: 1s - loss: 0.6641 - acc: 0.9572 - mean_iou: 0.5315\n",
      "Epoch 00002: saving model to model8_448.h5\n",
      "1926/1926 [==============================] - 3059s 2s/step - loss: 0.6641 - acc: 0.9572 - mean_iou: 0.5315 - val_loss: 0.6757 - val_acc: 0.9665 - val_mean_iou: 0.5719\n",
      "Epoch 3/8\n",
      "1925/1926 [============================>.] - ETA: 1s - loss: 0.6397 - acc: 0.9611 - mean_iou: 0.5760\n",
      "Epoch 00003: saving model to model8_448.h5\n",
      "1926/1926 [==============================] - 3071s 2s/step - loss: 0.6396 - acc: 0.9611 - mean_iou: 0.5760 - val_loss: 0.7242 - val_acc: 0.9629 - val_mean_iou: 0.6364\n",
      "Epoch 4/8\n",
      "1925/1926 [============================>.] - ETA: 1s - loss: 0.6313 - acc: 0.9628 - mean_iou: 0.5919\n",
      "Epoch 00004: saving model to model8_448.h5\n",
      "1926/1926 [==============================] - 3082s 2s/step - loss: 0.6313 - acc: 0.9628 - mean_iou: 0.5919 - val_loss: 0.6606 - val_acc: 0.9711 - val_mean_iou: 0.6640\n",
      "Epoch 5/8\n",
      "1925/1926 [============================>.] - ETA: 1s - loss: 0.6195 - acc: 0.9647 - mean_iou: 0.6066\n",
      "Epoch 00005: saving model to model8_448.h5\n",
      "1926/1926 [==============================] - 3083s 2s/step - loss: 0.6195 - acc: 0.9647 - mean_iou: 0.6066 - val_loss: 0.6340 - val_acc: 0.9688 - val_mean_iou: 0.6675\n",
      "Epoch 6/8\n",
      "1925/1926 [============================>.] - ETA: 1s - loss: 0.6122 - acc: 0.9654 - mean_iou: 0.6190\n",
      "Epoch 00006: saving model to model8_448.h5\n",
      "1926/1926 [==============================] - 3074s 2s/step - loss: 0.6122 - acc: 0.9654 - mean_iou: 0.6190 - val_loss: 0.6653 - val_acc: 0.9725 - val_mean_iou: 0.6703\n",
      "Epoch 7/8\n",
      "1925/1926 [============================>.] - ETA: 1s - loss: 0.6063 - acc: 0.9665 - mean_iou: 0.6314\n",
      "Epoch 00007: saving model to model8_448.h5\n",
      "1926/1926 [==============================] - 3084s 2s/step - loss: 0.6063 - acc: 0.9665 - mean_iou: 0.6314 - val_loss: 0.6324 - val_acc: 0.9599 - val_mean_iou: 0.5751\n",
      "Epoch 8/8\n",
      "1102/1926 [================>.............] - ETA: 20:55 - loss: 0.5963 - acc: 0.9673 - mean_iou: 0.6365"
     ]
    }
   ],
   "source": [
    "history = model.fit_generator(train_gen, validation_data=valid_gen, callbacks=[learning_rate, checkpoint], epochs=8, shuffle=True, verbose=1)"
   ]
  },
  {
   "cell_type": "code",
   "execution_count": 0,
   "metadata": {
    "colab": {},
    "colab_type": "code",
    "id": "7tyG7P79Y42U"
   },
   "outputs": [],
   "source": [
    "history = model.fit_generator(train_gen, validation_data=valid_gen, callbacks=[learning_rate, checkpoint], epochs=15, shuffle=True, verbose=1, initial_epoch=8)"
   ]
  },
  {
   "cell_type": "code",
   "execution_count": 17,
   "metadata": {
    "colab": {
     "base_uri": "https://localhost:8080/",
     "height": 269
    },
    "colab_type": "code",
    "id": "y_bLpJPBcxUh",
    "outputId": "49c438f6-aabc-41b9-f98e-1bf8519da3cc"
   },
   "outputs": [
    {
     "data": {
      "image/png": "[encoded data removed]",
      "text/plain": [
       "<matplotlib.figure.Figure at 0x7fafdfeb71d0>"
      ]
     },
     "metadata": {
      "tags": []
     },
     "output_type": "display_data"
    }
   ],
   "source": [
    "plt.figure(figsize=(12,4))\n",
    "plt.subplot(131)\n",
    "plt.plot(history.epoch, history.history[\"loss\"], label=\"Train loss\")\n",
    "plt.plot(history.epoch, history.history[\"val_loss\"], label=\"Valid loss\")\n",
    "plt.legend()\n",
    "plt.subplot(132)\n",
    "plt.plot(history.epoch, history.history[\"acc\"], label=\"Train accuracy\")\n",
    "plt.plot(history.epoch, history.history[\"val_acc\"], label=\"Valid accuracy\")\n",
    "plt.legend()\n",
    "plt.subplot(133)\n",
    "plt.plot(history.epoch, history.history[\"mean_iou\"], label=\"Train iou\")\n",
    "plt.plot(history.epoch, history.history[\"val_mean_iou\"], label=\"Valid iou\")\n",
    "plt.legend()\n",
    "plt.show()"
   ]
  },
  {
   "cell_type": "markdown",
   "metadata": {
    "colab_type": "text",
    "id": "7dpxfbugzcLT"
   },
   "source": [
    "## Sample Predictions"
   ]
  },
  {
   "cell_type": "code",
   "execution_count": 0,
   "metadata": {
    "colab": {},
    "colab_type": "code",
    "id": "c-eU6Le2zdtF"
   },
   "outputs": [],
   "source": [
    "THRESHOLD = 0.5\n",
    "# look at some sample predictions\n",
    "samples = np.random.choice(valid_filenames, size=8, replace=False)\n",
    "\n",
    "for filename in samples:\n",
    "    # load the image\n",
    "    img = pydicom.dcmread(os.path.join(train_dicom_dir, filename)).pixel_array\n",
    "    \n",
    "    msk = np.zeros(img.shape)\n",
    "    \n",
    "    filename = filename.split('.')[0]\n",
    "    # if image contains pneumonia\n",
    "    if filename in pneumonia_locations:\n",
    "        # loop through pneumonia\n",
    "        for location in pneumonia_locations[filename]:\n",
    "            # add 1's at the location of the pneumonia\n",
    "            x, y, w, h = location\n",
    "            msk[y:y+h, x:x+w] = 1\n",
    "        \n",
    "    # resize both image and mask\n",
    "    msk = resize(msk, (IMAGE_SIZE, IMAGE_SIZE), mode='reflect') > 0.5\n",
    "    img = resize(img, (IMAGE_SIZE, IMAGE_SIZE), mode='reflect')\n",
    "    \n",
    "    # predict the image\n",
    "    yhat = model.predict(img.reshape(1, IMAGE_SIZE, IMAGE_SIZE, 1))\n",
    "    yhat = yhat > THRESHOLD\n",
    "    # add trailing channel dimension\n",
    "    msk = np.expand_dims(msk, -1)\n",
    "\n",
    "    f, ax = plt.subplots(1, 3, figsize=(10, 4))\n",
    "    ax[0].imshow(img.reshape(IMAGE_SIZE,IMAGE_SIZE))\n",
    "    ax[0].set_title(\"Image\")\n",
    "    ax[1].imshow(msk.reshape(IMAGE_SIZE,IMAGE_SIZE))\n",
    "    ax[1].set_title(\"Label\")\n",
    "    ax[2].imshow(yhat.reshape(IMAGE_SIZE,IMAGE_SIZE))\n",
    "    ax[2].set_title(\"Prediction\")\n",
    "    plt.show()\n",
    "    "
   ]
  },
  {
   "cell_type": "markdown",
   "metadata": {
    "colab_type": "text",
    "id": "3tAntxescxUq"
   },
   "source": [
    "# Predict test images"
   ]
  },
  {
   "cell_type": "code",
   "execution_count": 18,
   "metadata": {
    "colab": {
     "base_uri": "https://localhost:8080/",
     "height": 34
    },
    "colab_type": "code",
    "id": "fnu7ebfScxUu",
    "outputId": "2e91d334-3204-4213-b74c-4c112b1c3512"
   },
   "outputs": [
    {
     "name": "stdout",
     "output_type": "stream",
     "text": [
      "n test samples: 1000\n"
     ]
    }
   ],
   "source": [
    "# load and shuffle filenames\n",
    "folder = './stage_1_test_images'\n",
    "test_filenames = os.listdir(folder)\n",
    "print('n test samples:', len(test_filenames))\n",
    "\n",
    "# create test generator with predict flag set to True\n",
    "test_gen = generator(folder, test_filenames, None, batch_size=25, image_size=IMAGE_SIZE, shuffle=False, predict=True)\n",
    "\n",
    "# create submission dictionary\n",
    "submission_dict = {}\n",
    "# loop through testset\n",
    "for imgs, filenames in test_gen:\n",
    "    # predict batch of images\n",
    "    preds = model.predict(imgs)\n",
    "    # loop through batch\n",
    "    for pred, filename in zip(preds, filenames):\n",
    "        # resize predicted mask\n",
    "        pred = resize(pred, (1024, 1024), mode='reflect')\n",
    "        # threshold predicted mask\n",
    "        comp = pred[:, :, 0] > 0.5\n",
    "        # apply connected components\n",
    "        comp = measure.label(comp)\n",
    "        # apply bounding boxes\n",
    "        predictionString = ''\n",
    "        for region in measure.regionprops(comp):\n",
    "            # retrieve x, y, height and width\n",
    "            y, x, y2, x2 = region.bbox\n",
    "            height = y2 - y\n",
    "            width = x2 - x\n",
    "            # proxy for confidence score\n",
    "            conf = np.mean(pred[y:y+height, x:x+width])\n",
    "            # add to predictionString\n",
    "            predictionString += str(conf) + ' ' + str(x) + ' ' + str(y) + ' ' + str(width) + ' ' + str(height) + ' '\n",
    "        # add filename and predictionString to dictionary\n",
    "        filename = filename.split('.')[0]\n",
    "        submission_dict[filename] = predictionString\n",
    "    # stop if we've got them all\n",
    "    if len(submission_dict) >= len(test_filenames):\n",
    "        break\n",
    "\n",
    "# save dictionary as csv file\n",
    "sub = pd.DataFrame.from_dict(submission_dict,orient='index')\n",
    "sub.index.names = ['patientId']\n",
    "sub.columns = ['PredictionString']\n",
    "sub.to_csv('submission.csv')"
   ]
  },
  {
   "cell_type": "code",
   "execution_count": 19,
   "metadata": {
    "colab": {
     "base_uri": "https://localhost:8080/",
     "height": 34
    },
    "colab_type": "code",
    "id": "U1NEg9QCcxU4",
    "outputId": "c7e7ccf3-3e94-4996-a07d-a1098b69f3ce"
   },
   "outputs": [
    {
     "name": "stdout",
     "output_type": "stream",
     "text": [
      "Successfully submitted to RSNA Pneumonia Detection Challenge"
     ]
    }
   ],
   "source": [
    "!kaggle competitions submit -c rsna-pneumonia-detection-challenge -f submission.csv -m \"Colab segmentation 4 448x448 8 epochs\""
   ]
  },
  {
   "cell_type": "code",
   "execution_count": 20,
   "metadata": {
    "colab": {
     "base_uri": "https://localhost:8080/",
     "height": 68
    },
    "colab_type": "code",
    "id": "NTQ_vDaVfvZR",
    "outputId": "a9eb81fb-572d-4236-b497-6bc44130aa89"
   },
   "outputs": [
    {
     "name": "stdout",
     "output_type": "stream",
     "text": [
      "File ID: 1GGJOHEa4uJTtlo-cvF2NLYjCbKp6hq3_\n",
      "File ID: 1C7SXJVn51_rnrx8bU_1v8k-zeFhHybkJ\n"
     ]
    },
    {
     "data": {
      "text/plain": [
       "{'id': '1C7SXJVn51_rnrx8bU_1v8k-zeFhHybkJ'}"
      ]
     },
     "execution_count": 20,
     "metadata": {
      "tags": []
     },
     "output_type": "execute_result"
    }
   ],
   "source": [
    "save_file_to_drive(\"submission.csv\", \"submission.csv\")\n",
    "save_file_to_drive(CHECKPOINT_PATH, CHECKPOINT_PATH)"
   ]
  },
  {
   "cell_type": "code",
   "execution_count": 21,
   "metadata": {
    "colab": {
     "base_uri": "https://localhost:8080/",
     "height": 85
    },
    "colab_type": "code",
    "id": "yf06y04TVRi2",
    "outputId": "1ca39a9a-1aa6-4e2a-ec86-39a826c676dd"
   },
   "outputs": [
    {
     "name": "stdout",
     "output_type": "stream",
     "text": [
      "Updated property [core/project].\n",
      "Copying file://./model7_448.h5 [Content-Type=application/octet-stream]...\n",
      "|\n",
      "Operation completed over 1 objects/93.8 MiB.                                     \n"
     ]
    }
   ],
   "source": [
    "# upload checkpoint to GCS\n",
    "project_id = 'mammography-198911'\n",
    "bucket_name = 'pneumonia'\n",
    "\n",
    "!gcloud config set project {project_id}\n",
    "!gsutil cp ./{CHECKPOINT_PATH} gs://{bucket_name}/"
   ]
  }
 ],
 "metadata": {
  "accelerator": "GPU",
  "colab": {
   "collapsed_sections": [],
   "name": "best_cnn_segmentation_connected_components_384x384_2.ipynb",
   "provenance": [],
   "version": "0.3.2"
  },
  "kernelspec": {
   "display_name": "Python 3",
   "language": "python",
   "name": "python3"
  },
  "language_info": {
   "codemirror_mode": {
    "name": "ipython",
    "version": 3
   },
   "file_extension": ".py",
   "mimetype": "text/x-python",
   "name": "python",
   "nbconvert_exporter": "python",
   "pygments_lexer": "ipython3",
   "version": "3.5.2"
  }
 },
 "nbformat": 4,
 "nbformat_minor": 1
}
