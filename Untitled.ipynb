{
 "cells": [
  {
   "cell_type": "code",
   "execution_count": 10,
   "metadata": {},
   "outputs": [
    {
     "name": "stderr",
     "output_type": "stream",
     "text": [
      "c:\\users\\eric\\anaconda2\\envs\\hse_dl\\lib\\site-packages\\h5py\\__init__.py:34: FutureWarning: Conversion of the second argument of issubdtype from `float` to `np.floating` is deprecated. In future, it will be treated as `np.float64 == np.dtype(float).type`.\n",
      "  from ._conv import register_converters as _register_converters\n"
     ]
    }
   ],
   "source": [
    "import numpy as np\n",
    "import tensorflow as tf"
   ]
  },
  {
   "cell_type": "code",
   "execution_count": 18,
   "metadata": {},
   "outputs": [
    {
     "data": {
      "text/plain": [
       "(2, 5)"
      ]
     },
     "execution_count": 18,
     "metadata": {},
     "output_type": "execute_result"
    }
   ],
   "source": [
    "foo = np.array([[0, 1, 2, 3, 4],[1, 1, 2, 3, 4]])\n",
    "foo.shape"
   ]
  },
  {
   "cell_type": "code",
   "execution_count": 12,
   "metadata": {},
   "outputs": [],
   "source": [
    "y_true = tf.placeholder(shape=(None, 5, 5, 5), dtype=tf.float32)\n",
    "y_pred = tf.placeholder(shape=(None, 5, 5, 5), dtype=tf.float32)"
   ]
  },
  {
   "cell_type": "code",
   "execution_count": 19,
   "metadata": {},
   "outputs": [
    {
     "name": "stdout",
     "output_type": "stream",
     "text": [
      "(?, 5, 5, 2)\n",
      "square error: (?, 5, 5, 2)\n",
      "sse: (?, 5, 5)\n",
      "mask: (?, 5, 5)\n",
      "sse: (?, 5, 5)\n",
      "loss: ()\n"
     ]
    }
   ],
   "source": [
    "xy_square_error = tf.square(y_true[...,1:3] - y_pred[...,1:3])\n",
    "wh_square_error = tf.square(tf.sqrt(y_true[...,3:]) - tf.sqrt(y_pred[...,3:]))\n",
    "print(xy_square_error.shape)\n",
    "square_error = xy_square_error + wh_square_error\n",
    "print(\"square error:\", square_error.shape)\n",
    "sse = tf.reduce_sum(square_error, axis=[3])\n",
    "print(\"sse:\", sse.shape)\n",
    "# apply the mask so we only count the loss from cells with actual ROIs\n",
    "mask = y_true[...,0]\n",
    "print(\"mask:\", mask.shape)\n",
    "sse = tf.multiply(sse, mask)\n",
    "print(\"sse:\", sse.shape)\n",
    "loss = tf.reduce_sum(sse)   \n",
    "print(\"loss:\", loss.shape)"
   ]
  }
 ],
 "metadata": {
  "kernelspec": {
   "display_name": "Python 3",
   "language": "python",
   "name": "python3"
  },
  "language_info": {
   "codemirror_mode": {
    "name": "ipython",
    "version": 3
   },
   "file_extension": ".py",
   "mimetype": "text/x-python",
   "name": "python",
   "nbconvert_exporter": "python",
   "pygments_lexer": "ipython3",
   "version": "3.6.5"
  }
 },
 "nbformat": 4,
 "nbformat_minor": 2
}
